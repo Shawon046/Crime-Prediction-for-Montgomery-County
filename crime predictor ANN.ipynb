{
 "cells": [
  {
   "cell_type": "markdown",
   "metadata": {},
   "source": [
    "# Setup"
   ]
  },
  {
   "cell_type": "code",
   "execution_count": 259,
   "metadata": {},
   "outputs": [],
   "source": [
    "import numpy as np\n",
    "import pandas as pd\n",
    "from tensorflow import keras\n",
    "from keras import datasets, layers, models\n",
    "from keras.utils import np_utils\n",
    "import warnings\n",
    "from sklearn.preprocessing import LabelEncoder, StandardScaler, MinMaxScaler\n",
    "from sklearn.model_selection import train_test_split\n",
    "import matplotlib.pyplot as plt\n",
    "\n",
    "\n",
    "\n",
    "warnings.filterwarnings(\"ignore\")\n"
   ]
  },
  {
   "cell_type": "markdown",
   "metadata": {},
   "source": [
    "# Prepare the data"
   ]
  },
  {
   "cell_type": "code",
   "execution_count": 260,
   "metadata": {},
   "outputs": [
    {
     "data": {
      "text/html": [
       "<div>\n",
       "<style scoped>\n",
       "    .dataframe tbody tr th:only-of-type {\n",
       "        vertical-align: middle;\n",
       "    }\n",
       "\n",
       "    .dataframe tbody tr th {\n",
       "        vertical-align: top;\n",
       "    }\n",
       "\n",
       "    .dataframe thead th {\n",
       "        text-align: right;\n",
       "    }\n",
       "</style>\n",
       "<table border=\"1\" class=\"dataframe\">\n",
       "  <thead>\n",
       "    <tr style=\"text-align: right;\">\n",
       "      <th></th>\n",
       "      <th>Incident ID</th>\n",
       "      <th>Offence Code</th>\n",
       "      <th>CR Number</th>\n",
       "      <th>Dispatch Date / Time</th>\n",
       "      <th>NIBRS Code</th>\n",
       "      <th>Victims</th>\n",
       "      <th>Crime Name1</th>\n",
       "      <th>Crime Name2</th>\n",
       "      <th>Crime Name3</th>\n",
       "      <th>Police District Name</th>\n",
       "      <th>...</th>\n",
       "      <th>Street Prefix</th>\n",
       "      <th>Street Name</th>\n",
       "      <th>Street Suffix</th>\n",
       "      <th>Street Type</th>\n",
       "      <th>Start_Date_Time</th>\n",
       "      <th>End_Date_Time</th>\n",
       "      <th>Latitude</th>\n",
       "      <th>Longitude</th>\n",
       "      <th>Police District Number</th>\n",
       "      <th>Location</th>\n",
       "    </tr>\n",
       "  </thead>\n",
       "  <tbody>\n",
       "    <tr>\n",
       "      <th>0</th>\n",
       "      <td>201219928</td>\n",
       "      <td>1204</td>\n",
       "      <td>180063894</td>\n",
       "      <td>12/21/2018 09:13:13 PM</td>\n",
       "      <td>120</td>\n",
       "      <td>1</td>\n",
       "      <td>Crime Against Property</td>\n",
       "      <td>Robbery</td>\n",
       "      <td>ROBBERY - STREET-GUN</td>\n",
       "      <td>WHEATON</td>\n",
       "      <td>...</td>\n",
       "      <td>NaN</td>\n",
       "      <td>GEORGIA</td>\n",
       "      <td>NaN</td>\n",
       "      <td>AVE</td>\n",
       "      <td>12/21/2018 09:13:00 PM</td>\n",
       "      <td>NaN</td>\n",
       "      <td>39.03627</td>\n",
       "      <td>-77.0499</td>\n",
       "      <td>4D</td>\n",
       "      <td>(39.0363, -77.0499)</td>\n",
       "    </tr>\n",
       "    <tr>\n",
       "      <th>1</th>\n",
       "      <td>201301798</td>\n",
       "      <td>5016</td>\n",
       "      <td>200035833</td>\n",
       "      <td>09/13/2020 12:26:58 AM</td>\n",
       "      <td>90Z</td>\n",
       "      <td>1</td>\n",
       "      <td>Crime Against Society</td>\n",
       "      <td>All Other Offenses</td>\n",
       "      <td>OBSTRUCT GOVT - VIOLATION OF A COURT ORDER</td>\n",
       "      <td>GERMANTOWN</td>\n",
       "      <td>...</td>\n",
       "      <td>NaN</td>\n",
       "      <td>COLTRANE</td>\n",
       "      <td>NaN</td>\n",
       "      <td>DR</td>\n",
       "      <td>08/08/2020 05:10:00 PM</td>\n",
       "      <td>08/08/2020 12:00:00 AM</td>\n",
       "      <td>39.27784</td>\n",
       "      <td>-77.2115</td>\n",
       "      <td>5D</td>\n",
       "      <td>(39.2778, -77.2115)</td>\n",
       "    </tr>\n",
       "  </tbody>\n",
       "</table>\n",
       "<p>2 rows × 30 columns</p>\n",
       "</div>"
      ],
      "text/plain": [
       "   Incident ID Offence Code  CR Number    Dispatch Date / Time NIBRS Code  \\\n",
       "0    201219928         1204  180063894  12/21/2018 09:13:13 PM        120   \n",
       "1    201301798         5016  200035833  09/13/2020 12:26:58 AM        90Z   \n",
       "\n",
       "   Victims             Crime Name1         Crime Name2  \\\n",
       "0        1  Crime Against Property             Robbery   \n",
       "1        1   Crime Against Society  All Other Offenses   \n",
       "\n",
       "                                  Crime Name3 Police District Name  ...  \\\n",
       "0                        ROBBERY - STREET-GUN              WHEATON  ...   \n",
       "1  OBSTRUCT GOVT - VIOLATION OF A COURT ORDER           GERMANTOWN  ...   \n",
       "\n",
       "  Street Prefix Street Name Street Suffix  Street Type  \\\n",
       "0           NaN     GEORGIA           NaN          AVE   \n",
       "1           NaN    COLTRANE           NaN           DR   \n",
       "\n",
       "          Start_Date_Time           End_Date_Time  Latitude Longitude  \\\n",
       "0  12/21/2018 09:13:00 PM                     NaN  39.03627  -77.0499   \n",
       "1  08/08/2020 05:10:00 PM  08/08/2020 12:00:00 AM  39.27784  -77.2115   \n",
       "\n",
       "  Police District Number             Location  \n",
       "0                     4D  (39.0363, -77.0499)  \n",
       "1                     5D  (39.2778, -77.2115)  \n",
       "\n",
       "[2 rows x 30 columns]"
      ]
     },
     "execution_count": 260,
     "metadata": {},
     "output_type": "execute_result"
    }
   ],
   "source": [
    "\n",
    "# At first we mount the dataset from local file\n",
    "inputdf = pd.read_csv('Crime.csv')\n",
    "# sneak peak in the data\n",
    "inputdf.head(2)"
   ]
  },
  {
   "cell_type": "markdown",
   "metadata": {},
   "source": [
    "Analyzing the dataset, we observe that columns -\n",
    "\n",
    "\n",
    "* Incident ID\n",
    "*\tOffence Code\n",
    "* CR Number\n",
    "* NIBRS Code\n",
    "* State (All should be MD)\n",
    "* Sector, Beat, PRA - meaningless\n",
    "* Address Number (included in \"Block Address\")\n",
    "* Street Prefix (lots of missing values)\n",
    "* Street Suffix (lots of missing values)\n",
    "* Police District Number (meaningless)\n",
    "* Location (pair of Latitude and Longitude)\n",
    "\n",
    " are unnecessary. So they are removed."
   ]
  },
  {
   "cell_type": "code",
   "execution_count": 261,
   "metadata": {},
   "outputs": [
    {
     "data": {
      "text/html": [
       "<div>\n",
       "<style scoped>\n",
       "    .dataframe tbody tr th:only-of-type {\n",
       "        vertical-align: middle;\n",
       "    }\n",
       "\n",
       "    .dataframe tbody tr th {\n",
       "        vertical-align: top;\n",
       "    }\n",
       "\n",
       "    .dataframe thead th {\n",
       "        text-align: right;\n",
       "    }\n",
       "</style>\n",
       "<table border=\"1\" class=\"dataframe\">\n",
       "  <thead>\n",
       "    <tr style=\"text-align: right;\">\n",
       "      <th></th>\n",
       "      <th>Dispatch Date / Time</th>\n",
       "      <th>Victims</th>\n",
       "      <th>Crime Name1</th>\n",
       "      <th>Crime Name2</th>\n",
       "      <th>Crime Name3</th>\n",
       "      <th>Police District Name</th>\n",
       "      <th>Block Address</th>\n",
       "      <th>City</th>\n",
       "      <th>Zip Code</th>\n",
       "      <th>Agency</th>\n",
       "      <th>Place</th>\n",
       "      <th>Street Name</th>\n",
       "      <th>Street Type</th>\n",
       "      <th>Start_Date_Time</th>\n",
       "      <th>End_Date_Time</th>\n",
       "      <th>Latitude</th>\n",
       "      <th>Longitude</th>\n",
       "    </tr>\n",
       "  </thead>\n",
       "  <tbody>\n",
       "    <tr>\n",
       "      <th>0</th>\n",
       "      <td>12/21/2018 09:13:13 PM</td>\n",
       "      <td>1</td>\n",
       "      <td>Crime Against Property</td>\n",
       "      <td>Robbery</td>\n",
       "      <td>ROBBERY - STREET-GUN</td>\n",
       "      <td>WHEATON</td>\n",
       "      <td>11100 BLK  GEORGIA AVE</td>\n",
       "      <td>SILVER SPRING</td>\n",
       "      <td>20902.0</td>\n",
       "      <td>MCPD</td>\n",
       "      <td>Street - Bus Stop</td>\n",
       "      <td>GEORGIA</td>\n",
       "      <td>AVE</td>\n",
       "      <td>12/21/2018 09:13:00 PM</td>\n",
       "      <td>NaN</td>\n",
       "      <td>39.03627</td>\n",
       "      <td>-77.0499</td>\n",
       "    </tr>\n",
       "    <tr>\n",
       "      <th>1</th>\n",
       "      <td>09/13/2020 12:26:58 AM</td>\n",
       "      <td>1</td>\n",
       "      <td>Crime Against Society</td>\n",
       "      <td>All Other Offenses</td>\n",
       "      <td>OBSTRUCT GOVT - VIOLATION OF A COURT ORDER</td>\n",
       "      <td>GERMANTOWN</td>\n",
       "      <td>25600 BLK  COLTRANE DR</td>\n",
       "      <td>DAMASCUS</td>\n",
       "      <td>20872.0</td>\n",
       "      <td>MCPD</td>\n",
       "      <td>Parking Lot - Residential</td>\n",
       "      <td>COLTRANE</td>\n",
       "      <td>DR</td>\n",
       "      <td>08/08/2020 05:10:00 PM</td>\n",
       "      <td>08/08/2020 12:00:00 AM</td>\n",
       "      <td>39.27784</td>\n",
       "      <td>-77.2115</td>\n",
       "    </tr>\n",
       "  </tbody>\n",
       "</table>\n",
       "</div>"
      ],
      "text/plain": [
       "     Dispatch Date / Time  Victims             Crime Name1  \\\n",
       "0  12/21/2018 09:13:13 PM        1  Crime Against Property   \n",
       "1  09/13/2020 12:26:58 AM        1   Crime Against Society   \n",
       "\n",
       "          Crime Name2                                 Crime Name3  \\\n",
       "0             Robbery                        ROBBERY - STREET-GUN   \n",
       "1  All Other Offenses  OBSTRUCT GOVT - VIOLATION OF A COURT ORDER   \n",
       "\n",
       "  Police District Name           Block Address           City  Zip Code  \\\n",
       "0              WHEATON  11100 BLK  GEORGIA AVE  SILVER SPRING   20902.0   \n",
       "1           GERMANTOWN  25600 BLK  COLTRANE DR       DAMASCUS   20872.0   \n",
       "\n",
       "  Agency                      Place Street Name Street Type  \\\n",
       "0   MCPD          Street - Bus Stop     GEORGIA         AVE   \n",
       "1   MCPD  Parking Lot - Residential    COLTRANE          DR   \n",
       "\n",
       "          Start_Date_Time           End_Date_Time  Latitude  Longitude  \n",
       "0  12/21/2018 09:13:00 PM                     NaN  39.03627   -77.0499  \n",
       "1  08/08/2020 05:10:00 PM  08/08/2020 12:00:00 AM  39.27784   -77.2115  "
      ]
     },
     "execution_count": 261,
     "metadata": {},
     "output_type": "execute_result"
    }
   ],
   "source": [
    "# dropping the unnecessary columns\n",
    "#inputdf = data\n",
    "unnecessary_columns = ['Incident ID', 'Offence Code', 'CR Number', 'NIBRS Code', 'State', 'Sector', 'Beat', 'PRA', 'Address Number', 'Street Prefix', 'Street Suffix', 'Police District Number', 'Location'  ]\n",
    "for i in unnecessary_columns:\n",
    "  inputdf = inputdf.drop(i, axis=1)\n",
    "inputdf.head(2)"
   ]
  },
  {
   "cell_type": "markdown",
   "metadata": {},
   "source": [
    "# Later, Columns related with the effect of crime are removed."
   ]
  },
  {
   "cell_type": "code",
   "execution_count": 262,
   "metadata": {},
   "outputs": [
    {
     "data": {
      "text/html": [
       "<div>\n",
       "<style scoped>\n",
       "    .dataframe tbody tr th:only-of-type {\n",
       "        vertical-align: middle;\n",
       "    }\n",
       "\n",
       "    .dataframe tbody tr th {\n",
       "        vertical-align: top;\n",
       "    }\n",
       "\n",
       "    .dataframe thead th {\n",
       "        text-align: right;\n",
       "    }\n",
       "</style>\n",
       "<table border=\"1\" class=\"dataframe\">\n",
       "  <thead>\n",
       "    <tr style=\"text-align: right;\">\n",
       "      <th></th>\n",
       "      <th>Crime Name1</th>\n",
       "      <th>Crime Name2</th>\n",
       "      <th>Crime Name3</th>\n",
       "      <th>Police District Name</th>\n",
       "      <th>City</th>\n",
       "      <th>Zip Code</th>\n",
       "      <th>Place</th>\n",
       "      <th>Street Name</th>\n",
       "      <th>Start_Date_Time</th>\n",
       "      <th>Latitude</th>\n",
       "      <th>Longitude</th>\n",
       "    </tr>\n",
       "  </thead>\n",
       "  <tbody>\n",
       "    <tr>\n",
       "      <th>0</th>\n",
       "      <td>Crime Against Property</td>\n",
       "      <td>Robbery</td>\n",
       "      <td>ROBBERY - STREET-GUN</td>\n",
       "      <td>WHEATON</td>\n",
       "      <td>SILVER SPRING</td>\n",
       "      <td>20902.0</td>\n",
       "      <td>Street - Bus Stop</td>\n",
       "      <td>GEORGIA</td>\n",
       "      <td>12/21/2018 09:13:00 PM</td>\n",
       "      <td>39.03627</td>\n",
       "      <td>-77.0499</td>\n",
       "    </tr>\n",
       "    <tr>\n",
       "      <th>1</th>\n",
       "      <td>Crime Against Society</td>\n",
       "      <td>All Other Offenses</td>\n",
       "      <td>OBSTRUCT GOVT - VIOLATION OF A COURT ORDER</td>\n",
       "      <td>GERMANTOWN</td>\n",
       "      <td>DAMASCUS</td>\n",
       "      <td>20872.0</td>\n",
       "      <td>Parking Lot - Residential</td>\n",
       "      <td>COLTRANE</td>\n",
       "      <td>08/08/2020 05:10:00 PM</td>\n",
       "      <td>39.27784</td>\n",
       "      <td>-77.2115</td>\n",
       "    </tr>\n",
       "  </tbody>\n",
       "</table>\n",
       "</div>"
      ],
      "text/plain": [
       "              Crime Name1         Crime Name2  \\\n",
       "0  Crime Against Property             Robbery   \n",
       "1   Crime Against Society  All Other Offenses   \n",
       "\n",
       "                                  Crime Name3 Police District Name  \\\n",
       "0                        ROBBERY - STREET-GUN              WHEATON   \n",
       "1  OBSTRUCT GOVT - VIOLATION OF A COURT ORDER           GERMANTOWN   \n",
       "\n",
       "            City  Zip Code                      Place Street Name  \\\n",
       "0  SILVER SPRING   20902.0          Street - Bus Stop     GEORGIA   \n",
       "1       DAMASCUS   20872.0  Parking Lot - Residential    COLTRANE   \n",
       "\n",
       "          Start_Date_Time  Latitude  Longitude  \n",
       "0  12/21/2018 09:13:00 PM  39.03627   -77.0499  \n",
       "1  08/08/2020 05:10:00 PM  39.27784   -77.2115  "
      ]
     },
     "execution_count": 262,
     "metadata": {},
     "output_type": "execute_result"
    }
   ],
   "source": [
    "unnecessary_columns = ['Dispatch Date / Time', 'Victims', 'Block Address', 'Street Type', 'Agency', 'End_Date_Time']\n",
    "for i in unnecessary_columns:\n",
    "  inputdf = inputdf.drop(i, axis=1)\n",
    "inputdf.head(2)"
   ]
  },
  {
   "cell_type": "markdown",
   "metadata": {},
   "source": [
    "Some columns are confusing to be added now. Such as -\n",
    "\n",
    "* Crime Name3\n",
    "* Also we have to take special care of Latitude and Longitude if we want them to include in our feature set."
   ]
  },
  {
   "cell_type": "markdown",
   "metadata": {},
   "source": [
    "# Drop rows from the dataframe based on certain condition applied on a column\n"
   ]
  },
  {
   "cell_type": "code",
   "execution_count": 263,
   "metadata": {},
   "outputs": [],
   "source": [
    "# Filter all rows for Latitude is greater than or equal to 35\n",
    "inputdf = inputdf[inputdf['Latitude'] > 35.0]\n",
    "# inputdf['Latitude'].hist()\n",
    "# Filter all rows for Longitude is less than or equal to -70\n",
    "inputdf = inputdf[inputdf['Longitude'] < -70]\n",
    "# inputdf['Longitude'].hist()\n",
    "\n",
    "\n",
    "\n",
    "# inputdf['Crime Name2'].value_counts()\n",
    "# # Filter all rows for that has occurances less than 5\n",
    "# inputdf = inputdf[inputdf.columns[inputdf['Crime Name2'].value_counts() > 5]]"
   ]
  },
  {
   "cell_type": "markdown",
   "metadata": {},
   "source": [
    "# Creating The Location Based Crime Data Frame"
   ]
  },
  {
   "cell_type": "code",
   "execution_count": 264,
   "metadata": {},
   "outputs": [
    {
     "data": {
      "text/html": [
       "<div>\n",
       "<style scoped>\n",
       "    .dataframe tbody tr th:only-of-type {\n",
       "        vertical-align: middle;\n",
       "    }\n",
       "\n",
       "    .dataframe tbody tr th {\n",
       "        vertical-align: top;\n",
       "    }\n",
       "\n",
       "    .dataframe thead th {\n",
       "        text-align: right;\n",
       "    }\n",
       "</style>\n",
       "<table border=\"1\" class=\"dataframe\">\n",
       "  <thead>\n",
       "    <tr style=\"text-align: right;\">\n",
       "      <th></th>\n",
       "      <th>Crime Name1</th>\n",
       "      <th>Crime Name2</th>\n",
       "      <th>Police District Name</th>\n",
       "      <th>City</th>\n",
       "      <th>Zip Code</th>\n",
       "      <th>Place</th>\n",
       "      <th>Street Name</th>\n",
       "      <th>Latitude</th>\n",
       "      <th>Longitude</th>\n",
       "      <th>dateHour</th>\n",
       "      <th>day</th>\n",
       "      <th>month</th>\n",
       "    </tr>\n",
       "  </thead>\n",
       "  <tbody>\n",
       "    <tr>\n",
       "      <th>0</th>\n",
       "      <td>Crime Against Property</td>\n",
       "      <td>Robbery</td>\n",
       "      <td>WHEATON</td>\n",
       "      <td>SILVER SPRING</td>\n",
       "      <td>20902.0</td>\n",
       "      <td>Street - Bus Stop</td>\n",
       "      <td>GEORGIA</td>\n",
       "      <td>39.036270</td>\n",
       "      <td>-77.049900</td>\n",
       "      <td>21</td>\n",
       "      <td>Friday</td>\n",
       "      <td>12</td>\n",
       "    </tr>\n",
       "    <tr>\n",
       "      <th>1</th>\n",
       "      <td>Crime Against Society</td>\n",
       "      <td>All Other Offenses</td>\n",
       "      <td>GERMANTOWN</td>\n",
       "      <td>DAMASCUS</td>\n",
       "      <td>20872.0</td>\n",
       "      <td>Parking Lot - Residential</td>\n",
       "      <td>COLTRANE</td>\n",
       "      <td>39.277840</td>\n",
       "      <td>-77.211500</td>\n",
       "      <td>17</td>\n",
       "      <td>Saturday</td>\n",
       "      <td>8</td>\n",
       "    </tr>\n",
       "    <tr>\n",
       "      <th>2</th>\n",
       "      <td>Crime Against Society</td>\n",
       "      <td>Driving Under the Influence</td>\n",
       "      <td>ROCKVILLE</td>\n",
       "      <td>ROCKVILLE</td>\n",
       "      <td>20850.0</td>\n",
       "      <td>Street - In vehicle</td>\n",
       "      <td>GRANDIN</td>\n",
       "      <td>39.086688</td>\n",
       "      <td>-77.144754</td>\n",
       "      <td>2</td>\n",
       "      <td>Thursday</td>\n",
       "      <td>1</td>\n",
       "    </tr>\n",
       "    <tr>\n",
       "      <th>3</th>\n",
       "      <td>Other</td>\n",
       "      <td>All Other Offenses</td>\n",
       "      <td>ROCKVILLE</td>\n",
       "      <td>ROCKVILLE</td>\n",
       "      <td>20850.0</td>\n",
       "      <td>Street - Other</td>\n",
       "      <td>GRANDIN</td>\n",
       "      <td>39.086688</td>\n",
       "      <td>-77.144754</td>\n",
       "      <td>2</td>\n",
       "      <td>Thursday</td>\n",
       "      <td>1</td>\n",
       "    </tr>\n",
       "    <tr>\n",
       "      <th>4</th>\n",
       "      <td>Crime Against Property</td>\n",
       "      <td>Shoplifting</td>\n",
       "      <td>GERMANTOWN</td>\n",
       "      <td>GERMANTOWN</td>\n",
       "      <td>20876.0</td>\n",
       "      <td>Retail - Department/Discount Store</td>\n",
       "      <td>FREDERICK</td>\n",
       "      <td>39.198295</td>\n",
       "      <td>-77.244900</td>\n",
       "      <td>17</td>\n",
       "      <td>Thursday</td>\n",
       "      <td>7</td>\n",
       "    </tr>\n",
       "  </tbody>\n",
       "</table>\n",
       "</div>"
      ],
      "text/plain": [
       "              Crime Name1                  Crime Name2 Police District Name  \\\n",
       "0  Crime Against Property                      Robbery              WHEATON   \n",
       "1   Crime Against Society           All Other Offenses           GERMANTOWN   \n",
       "2   Crime Against Society  Driving Under the Influence            ROCKVILLE   \n",
       "3                   Other           All Other Offenses            ROCKVILLE   \n",
       "4  Crime Against Property                  Shoplifting           GERMANTOWN   \n",
       "\n",
       "            City  Zip Code                               Place Street Name  \\\n",
       "0  SILVER SPRING   20902.0                   Street - Bus Stop     GEORGIA   \n",
       "1       DAMASCUS   20872.0           Parking Lot - Residential    COLTRANE   \n",
       "2      ROCKVILLE   20850.0                 Street - In vehicle     GRANDIN   \n",
       "3      ROCKVILLE   20850.0                      Street - Other     GRANDIN   \n",
       "4     GERMANTOWN   20876.0  Retail - Department/Discount Store   FREDERICK   \n",
       "\n",
       "    Latitude  Longitude  dateHour       day  month  \n",
       "0  39.036270 -77.049900        21    Friday     12  \n",
       "1  39.277840 -77.211500        17  Saturday      8  \n",
       "2  39.086688 -77.144754         2  Thursday      1  \n",
       "3  39.086688 -77.144754         2  Thursday      1  \n",
       "4  39.198295 -77.244900        17  Thursday      7  "
      ]
     },
     "execution_count": 264,
     "metadata": {},
     "output_type": "execute_result"
    }
   ],
   "source": [
    "# loc_crime_df = inputdf[['Latitude', 'Longitude', 'Crime Name1']]\n",
    "loc_crime_df = inputdf[['Crime Name1','Crime Name2', 'Police District Name', 'City', 'Zip Code', 'Place', 'Street Name', 'Latitude', 'Longitude']]\n",
    "dates = pd.to_datetime(inputdf['Start_Date_Time'])\n",
    "  \n",
    "# extract Hours from Timestamp \n",
    "# rs = dates.dt.hour\n",
    "# print(rs)\n",
    "loc_crime_df['dateHour'] = dates.dt.hour\n",
    "loc_crime_df['day'] = dates.dt.day_name()\n",
    "loc_crime_df['month'] = dates.dt.month\n",
    "loc_crime_df.head()\n",
    "# print(loc_crime_df.shape)\n",
    "# loc_crime_df.dtypes\n"
   ]
  },
  {
   "cell_type": "code",
   "execution_count": 265,
   "metadata": {},
   "outputs": [],
   "source": [
    "# Removing Rows on Count condition\n",
    "counts = loc_crime_df['Crime Name2'].value_counts()\n",
    "# print(counts)\n",
    "threshold = 100\n",
    "loc_crime_df = loc_crime_df.loc[loc_crime_df['Crime Name2'].isin(counts.index[counts >= threshold ])]"
   ]
  },
  {
   "cell_type": "code",
   "execution_count": 266,
   "metadata": {},
   "outputs": [],
   "source": [
    "# Removing Rows on Count condition \n",
    "# Pruning garbage data\n",
    "# loc_crime_df = loc_crime_df[~loc_crime_df['Crime Name2'] == \"All Other Offenses\"]\n",
    "indexAge = loc_crime_df[ loc_crime_df['Crime Name2'] == \"All Other Offenses\" ].index\n",
    "loc_crime_df.drop(indexAge , inplace=True)\n",
    "loc_crime_df.head()\n",
    "counts = loc_crime_df['Crime Name2'].value_counts()\n",
    "# print(counts)\n"
   ]
  },
  {
   "cell_type": "markdown",
   "metadata": {},
   "source": [
    "# Taking only Top n classes in a column\n"
   ]
  },
  {
   "cell_type": "code",
   "execution_count": 267,
   "metadata": {},
   "outputs": [
    {
     "name": "stdout",
     "output_type": "stream",
     "text": [
      "Theft From Motor Vehicle                    26252\n",
      "Drug/Narcotic Violations                    22573\n",
      "Simple Assault                              21064\n",
      "Destruction/Damage/Vandalism of Property    18967\n",
      "Shoplifting                                 16416\n",
      "All other Larceny                           13972\n",
      "Driving Under the Influence                 13723\n",
      "Theft from Building                         11335\n",
      "Burglary/Breaking and Entering               8784\n",
      "Identity Theft                               8633\n",
      "Name: Crime Name2, dtype: int64\n",
      "Dictionary is + {'Theft From Motor Vehicle': 26252, 'Drug/Narcotic Violations': 22573, 'Simple Assault': 21064, 'Destruction/Damage/Vandalism of Property': 18967, 'Shoplifting': 16416, 'All other Larceny': 13972, 'Driving Under the Influence': 13723, 'Theft from Building': 11335, 'Burglary/Breaking and Entering': 8784, 'Identity Theft': 8633}\n"
     ]
    }
   ],
   "source": [
    "# Change target column name here\n",
    "target_column = 'Crime Name2'\n",
    "top_n = 10\n",
    "top_classes_dict = {}\n",
    "top_classes_dict = loc_crime_df[target_column].value_counts().nlargest(top_n).to_dict()\n",
    "top_classes_series = loc_crime_df[target_column].value_counts().nlargest(top_n)\n",
    "print(top_classes_series)\n",
    "print('Dictionary is + '+str(top_classes_dict))\n",
    "str_array = []\n",
    "temp_df = pd.DataFrame()\n",
    "for x in top_classes_dict.keys():\n",
    "    str_array.append(x)\n",
    "    rows = loc_crime_df[loc_crime_df[target_column] == str (x) ]\n",
    "    # print(rows)\n",
    "    temp_df = temp_df.append(rows)\n",
    "# print(str_array)\n",
    "# temp_df"
   ]
  },
  {
   "cell_type": "code",
   "execution_count": 268,
   "metadata": {},
   "outputs": [
    {
     "name": "stdout",
     "output_type": "stream",
     "text": [
      "Theft From Motor Vehicle                    26252\n",
      "Drug/Narcotic Violations                    22573\n",
      "Simple Assault                              21064\n",
      "Destruction/Damage/Vandalism of Property    18967\n",
      "Shoplifting                                 16416\n",
      "All other Larceny                           13972\n",
      "Driving Under the Influence                 13723\n",
      "Theft from Building                         11335\n",
      "Burglary/Breaking and Entering               8784\n",
      "Identity Theft                               8633\n",
      "Name: Crime Name2, dtype: int64\n"
     ]
    }
   ],
   "source": [
    "loc_crime_df = temp_df\n",
    "print(loc_crime_df[target_column].value_counts())"
   ]
  },
  {
   "cell_type": "markdown",
   "metadata": {},
   "source": [
    "# Handling null values in Zip code"
   ]
  },
  {
   "cell_type": "code",
   "execution_count": 269,
   "metadata": {},
   "outputs": [
    {
     "name": "stdout",
     "output_type": "stream",
     "text": [
      "(161719, 12)\n",
      "(161719, 12)\n"
     ]
    }
   ],
   "source": [
    "# Replacing null values with mode value in Zip code\n",
    "print(loc_crime_df.shape)\n",
    "missing_value_column = 'Zip Code'\n",
    "loc_crime_df[missing_value_column].fillna(loc_crime_df[missing_value_column].mode()[0], inplace=True)\n",
    "print(loc_crime_df.shape)"
   ]
  },
  {
   "cell_type": "code",
   "execution_count": 270,
   "metadata": {},
   "outputs": [],
   "source": [
    "# # Dropping null values in Zip code\n",
    "# print(loc_crime_df.shape)\n",
    "# # print(loc_crime_df['Zip Code'].value_counts())\n",
    "# # loc_crime_df['dateHour'].value_counts()\n",
    "# loc_crime_df = loc_crime_df.dropna(axis=0, subset=['Zip Code'])\n",
    "# print(loc_crime_df.shape)"
   ]
  },
  {
   "cell_type": "code",
   "execution_count": 271,
   "metadata": {},
   "outputs": [
    {
     "data": {
      "text/html": [
       "<div>\n",
       "<style scoped>\n",
       "    .dataframe tbody tr th:only-of-type {\n",
       "        vertical-align: middle;\n",
       "    }\n",
       "\n",
       "    .dataframe tbody tr th {\n",
       "        vertical-align: top;\n",
       "    }\n",
       "\n",
       "    .dataframe thead th {\n",
       "        text-align: right;\n",
       "    }\n",
       "</style>\n",
       "<table border=\"1\" class=\"dataframe\">\n",
       "  <thead>\n",
       "    <tr style=\"text-align: right;\">\n",
       "      <th></th>\n",
       "      <th>Crime Name1</th>\n",
       "      <th>Crime Name2</th>\n",
       "      <th>Police District Name</th>\n",
       "      <th>City</th>\n",
       "      <th>Zip Code</th>\n",
       "      <th>Place</th>\n",
       "      <th>Street Name</th>\n",
       "      <th>Latitude</th>\n",
       "      <th>Longitude</th>\n",
       "      <th>dateHour</th>\n",
       "      <th>day</th>\n",
       "      <th>month</th>\n",
       "    </tr>\n",
       "  </thead>\n",
       "  <tbody>\n",
       "    <tr>\n",
       "      <th>20</th>\n",
       "      <td>Crime Against Property</td>\n",
       "      <td>Theft From Motor Vehicle</td>\n",
       "      <td>SILVER SPRING</td>\n",
       "      <td>SILVER SPRING</td>\n",
       "      <td>20904.0</td>\n",
       "      <td>Parking Lot - Commercial</td>\n",
       "      <td>BRIGGS CHANEY</td>\n",
       "      <td>39.08299</td>\n",
       "      <td>-76.9481</td>\n",
       "      <td>11</td>\n",
       "      <td>Sunday</td>\n",
       "      <td>11</td>\n",
       "    </tr>\n",
       "    <tr>\n",
       "      <th>31</th>\n",
       "      <td>Crime Against Property</td>\n",
       "      <td>Theft From Motor Vehicle</td>\n",
       "      <td>ROCKVILLE</td>\n",
       "      <td>ROCKVILLE</td>\n",
       "      <td>20852.0</td>\n",
       "      <td>Parking Lot - Commercial</td>\n",
       "      <td>JEFFERSON</td>\n",
       "      <td>39.05840</td>\n",
       "      <td>-77.1263</td>\n",
       "      <td>20</td>\n",
       "      <td>Thursday</td>\n",
       "      <td>1</td>\n",
       "    </tr>\n",
       "    <tr>\n",
       "      <th>61</th>\n",
       "      <td>Crime Against Property</td>\n",
       "      <td>Theft From Motor Vehicle</td>\n",
       "      <td>SILVER SPRING</td>\n",
       "      <td>SILVER SPRING</td>\n",
       "      <td>20904.0</td>\n",
       "      <td>Parking Lot - Commercial</td>\n",
       "      <td>PROSPERITY</td>\n",
       "      <td>39.06081</td>\n",
       "      <td>-76.9634</td>\n",
       "      <td>10</td>\n",
       "      <td>Friday</td>\n",
       "      <td>9</td>\n",
       "    </tr>\n",
       "    <tr>\n",
       "      <th>98</th>\n",
       "      <td>Crime Against Property</td>\n",
       "      <td>Theft From Motor Vehicle</td>\n",
       "      <td>BETHESDA</td>\n",
       "      <td>CHEVY CHASE</td>\n",
       "      <td>20815.0</td>\n",
       "      <td>Residence - Driveway</td>\n",
       "      <td>GLENMOOR</td>\n",
       "      <td>39.00547</td>\n",
       "      <td>-77.0720</td>\n",
       "      <td>20</td>\n",
       "      <td>Tuesday</td>\n",
       "      <td>12</td>\n",
       "    </tr>\n",
       "    <tr>\n",
       "      <th>116</th>\n",
       "      <td>Crime Against Property</td>\n",
       "      <td>Theft From Motor Vehicle</td>\n",
       "      <td>GERMANTOWN</td>\n",
       "      <td>GERMANTOWN</td>\n",
       "      <td>20874.0</td>\n",
       "      <td>Parking Lot - Residential</td>\n",
       "      <td>SWISS</td>\n",
       "      <td>39.15549</td>\n",
       "      <td>-77.2763</td>\n",
       "      <td>18</td>\n",
       "      <td>Sunday</td>\n",
       "      <td>12</td>\n",
       "    </tr>\n",
       "  </tbody>\n",
       "</table>\n",
       "</div>"
      ],
      "text/plain": [
       "                Crime Name1               Crime Name2 Police District Name  \\\n",
       "20   Crime Against Property  Theft From Motor Vehicle        SILVER SPRING   \n",
       "31   Crime Against Property  Theft From Motor Vehicle            ROCKVILLE   \n",
       "61   Crime Against Property  Theft From Motor Vehicle        SILVER SPRING   \n",
       "98   Crime Against Property  Theft From Motor Vehicle             BETHESDA   \n",
       "116  Crime Against Property  Theft From Motor Vehicle           GERMANTOWN   \n",
       "\n",
       "              City  Zip Code                      Place    Street Name  \\\n",
       "20   SILVER SPRING   20904.0   Parking Lot - Commercial  BRIGGS CHANEY   \n",
       "31       ROCKVILLE   20852.0   Parking Lot - Commercial      JEFFERSON   \n",
       "61   SILVER SPRING   20904.0   Parking Lot - Commercial     PROSPERITY   \n",
       "98     CHEVY CHASE   20815.0       Residence - Driveway       GLENMOOR   \n",
       "116     GERMANTOWN   20874.0  Parking Lot - Residential          SWISS   \n",
       "\n",
       "     Latitude  Longitude  dateHour       day  month  \n",
       "20   39.08299   -76.9481        11    Sunday     11  \n",
       "31   39.05840   -77.1263        20  Thursday      1  \n",
       "61   39.06081   -76.9634        10    Friday      9  \n",
       "98   39.00547   -77.0720        20   Tuesday     12  \n",
       "116  39.15549   -77.2763        18    Sunday     12  "
      ]
     },
     "execution_count": 271,
     "metadata": {},
     "output_type": "execute_result"
    }
   ],
   "source": [
    "loc_crime_df.head()"
   ]
  },
  {
   "cell_type": "markdown",
   "metadata": {},
   "source": [
    "# Transform the data by label encoding"
   ]
  },
  {
   "cell_type": "code",
   "execution_count": 272,
   "metadata": {},
   "outputs": [
    {
     "name": "stdout",
     "output_type": "stream",
     "text": [
      "[[0. 0. 0. ... 0. 1. 0.]\n",
      " [0. 0. 0. ... 0. 1. 0.]\n",
      " [0. 0. 0. ... 0. 1. 0.]\n",
      " ...\n",
      " [0. 0. 0. ... 0. 0. 0.]\n",
      " [0. 0. 0. ... 0. 0. 0.]\n",
      " [0. 0. 0. ... 0. 0. 0.]]\n"
     ]
    }
   ],
   "source": [
    "# encode class values as integers\n",
    "encoder = LabelEncoder()\n",
    "encoded_Y = encoder.fit_transform( loc_crime_df[target_column])\n",
    "# convert integers to dummy variables (i.e. one hot encoded)\n",
    "dummy_y = np_utils.to_categorical(encoded_Y)\n",
    "print(dummy_y)\n"
   ]
  },
  {
   "cell_type": "code",
   "execution_count": 273,
   "metadata": {},
   "outputs": [
    {
     "name": "stdout",
     "output_type": "stream",
     "text": [
      "(161719, 10)\n"
     ]
    }
   ],
   "source": [
    "print(dummy_y.shape)"
   ]
  },
  {
   "cell_type": "code",
   "execution_count": 274,
   "metadata": {},
   "outputs": [
    {
     "name": "stdout",
     "output_type": "stream",
     "text": [
      "20        Theft From Motor Vehicle\n",
      "31        Theft From Motor Vehicle\n",
      "61        Theft From Motor Vehicle\n",
      "98        Theft From Motor Vehicle\n",
      "116       Theft From Motor Vehicle\n",
      "                    ...           \n",
      "312116              Identity Theft\n",
      "312129              Identity Theft\n",
      "312201              Identity Theft\n",
      "312240              Identity Theft\n",
      "312248              Identity Theft\n",
      "Name: Crime Name2, Length: 161719, dtype: object\n",
      "20        8\n",
      "31        8\n",
      "61        8\n",
      "98        8\n",
      "116       8\n",
      "         ..\n",
      "312116    5\n",
      "312129    5\n",
      "312201    5\n",
      "312240    5\n",
      "312248    5\n",
      "Name: Crime Name2, Length: 161719, dtype: int32\n",
      "(161719, 12)\n"
     ]
    }
   ],
   "source": [
    "encoded_dict ={}\n",
    "temp_df_2 = pd.DataFrame()\n",
    "\n",
    "def label_encoder(y):\n",
    "    le = LabelEncoder()\n",
    "    if str(y) == target_column:\n",
    "        print(loc_crime_df[y])\n",
    "    loc_crime_df[y] = le.fit_transform(loc_crime_df[y])\n",
    "    if str(y) == target_column:\n",
    "        print(loc_crime_df[y])\n",
    "    if str(y) == target_column:\n",
    "        temp_df_2[y] = le.inverse_transform(loc_crime_df[y])\n",
    "        # encoded_dict = {loc_crime_df[y], temp_df_2[y]} \n",
    "    #print(temp_df[y])\n",
    "\n",
    "#loc_crime_df = inputdf[['Crime Name1','Crime Name2', 'Police District Name', 'City', 'Place', 'Street Name']]\n",
    "\n",
    "# label_list = ['Crime Name2', 'Police District Name', 'City', 'Place', 'Street Name']\n",
    "\n",
    "label_list = ['Crime Name1','Crime Name2', 'Police District Name', 'City', 'Place', 'Street Name', 'day']\n",
    "\n",
    "#label_list = ['Crime Name1']\n",
    "\n",
    "for l in label_list:\n",
    "    label_encoder(l)\n",
    "\n",
    "# print(encoded_dict)\n",
    " \n",
    "#Display transformed data\n",
    "loc_crime_df.head()\n",
    "print(loc_crime_df.shape)"
   ]
  },
  {
   "cell_type": "markdown",
   "metadata": {},
   "source": [
    "# Separating feature set and Target Class"
   ]
  },
  {
   "cell_type": "code",
   "execution_count": 275,
   "metadata": {},
   "outputs": [
    {
     "name": "stdout",
     "output_type": "stream",
     "text": [
      "        Crime Name1  Police District Name  City  Zip Code  Place  Street Name  \\\n",
      "20                1                     6    34   20904.0     45          835   \n",
      "31                1                     5    32   20852.0     45         3389   \n",
      "61                1                     6    34   20904.0     45         5132   \n",
      "98                1                     0    11   20815.0     61         2643   \n",
      "116               1                     2    19   20874.0     51         6202   \n",
      "...             ...                   ...   ...       ...    ...          ...   \n",
      "312116            1                     5    32   20852.0     37         5275   \n",
      "312129            1                     2     6   20841.0     37         3546   \n",
      "312201            1                     2    19   20874.0     37           79   \n",
      "312240            1                     5    17   20878.0     37         5844   \n",
      "312248            1                     2    12   20871.0     15         1492   \n",
      "\n",
      "        dateHour  day  month  \n",
      "20            11    3     11  \n",
      "31            20    4      1  \n",
      "61            10    0      9  \n",
      "98            20    5     12  \n",
      "116           18    3     12  \n",
      "...          ...  ...    ...  \n",
      "312116        12    5      8  \n",
      "312129        11    5      8  \n",
      "312201        12    3      8  \n",
      "312240         0    6      8  \n",
      "312248        10    5      8  \n",
      "\n",
      "[161719 rows x 9 columns]\n"
     ]
    },
    {
     "data": {
      "text/plain": [
       "(161719, 9)"
      ]
     },
     "execution_count": 275,
     "metadata": {},
     "output_type": "execute_result"
    }
   ],
   "source": [
    "# Going for specigic prediction without geolocation\n",
    "# X = loc_crime_df.drop([target_column],axis=1)\n",
    "# y = loc_crime_df[target_column]\n",
    "\n",
    "# Going for specific prediction without geolocation\n",
    "X = loc_crime_df.drop([target_column, 'Latitude', 'Longitude'],axis=1)\n",
    "# y = loc_crime_df[target_column]\n",
    "\n",
    "\n",
    "# Going for generic prediction\n",
    "# X = loc_crime_df.drop([target_column,'Crime Name2', 'Latitude', 'Longitude'],axis=1)\n",
    "# y = loc_crime_df[[target_column, 'Latitude', 'Longitude']]\n",
    "\n",
    "print(X)\n",
    "X.shape"
   ]
  },
  {
   "cell_type": "code",
   "execution_count": 276,
   "metadata": {},
   "outputs": [
    {
     "name": "stdout",
     "output_type": "stream",
     "text": [
      "(161719, 2)\n"
     ]
    },
    {
     "data": {
      "text/html": [
       "<div>\n",
       "<style scoped>\n",
       "    .dataframe tbody tr th:only-of-type {\n",
       "        vertical-align: middle;\n",
       "    }\n",
       "\n",
       "    .dataframe tbody tr th {\n",
       "        vertical-align: top;\n",
       "    }\n",
       "\n",
       "    .dataframe thead th {\n",
       "        text-align: right;\n",
       "    }\n",
       "</style>\n",
       "<table border=\"1\" class=\"dataframe\">\n",
       "  <thead>\n",
       "    <tr style=\"text-align: right;\">\n",
       "      <th></th>\n",
       "      <th>Latitude</th>\n",
       "      <th>Longitude</th>\n",
       "    </tr>\n",
       "  </thead>\n",
       "  <tbody>\n",
       "    <tr>\n",
       "      <th>0</th>\n",
       "      <td>39.08299</td>\n",
       "      <td>-76.9481</td>\n",
       "    </tr>\n",
       "    <tr>\n",
       "      <th>1</th>\n",
       "      <td>39.05840</td>\n",
       "      <td>-77.1263</td>\n",
       "    </tr>\n",
       "    <tr>\n",
       "      <th>2</th>\n",
       "      <td>39.06081</td>\n",
       "      <td>-76.9634</td>\n",
       "    </tr>\n",
       "    <tr>\n",
       "      <th>3</th>\n",
       "      <td>39.00547</td>\n",
       "      <td>-77.0720</td>\n",
       "    </tr>\n",
       "    <tr>\n",
       "      <th>4</th>\n",
       "      <td>39.15549</td>\n",
       "      <td>-77.2763</td>\n",
       "    </tr>\n",
       "  </tbody>\n",
       "</table>\n",
       "</div>"
      ],
      "text/plain": [
       "   Latitude  Longitude\n",
       "0  39.08299   -76.9481\n",
       "1  39.05840   -77.1263\n",
       "2  39.06081   -76.9634\n",
       "3  39.00547   -77.0720\n",
       "4  39.15549   -77.2763"
      ]
     },
     "execution_count": 276,
     "metadata": {},
     "output_type": "execute_result"
    }
   ],
   "source": [
    "# Dropping a Pandas Index Column Using reset_index so that it doesn't have conflict with the second dataframe\n",
    "df1 =loc_crime_df[['Latitude', 'Longitude']]\n",
    "df1 = df1.reset_index(drop=True)\n",
    "print(df1.shape)\n",
    "df1.head()"
   ]
  },
  {
   "cell_type": "code",
   "execution_count": 277,
   "metadata": {},
   "outputs": [
    {
     "name": "stdout",
     "output_type": "stream",
     "text": [
      "(161719, 10)\n"
     ]
    },
    {
     "data": {
      "text/html": [
       "<div>\n",
       "<style scoped>\n",
       "    .dataframe tbody tr th:only-of-type {\n",
       "        vertical-align: middle;\n",
       "    }\n",
       "\n",
       "    .dataframe tbody tr th {\n",
       "        vertical-align: top;\n",
       "    }\n",
       "\n",
       "    .dataframe thead th {\n",
       "        text-align: right;\n",
       "    }\n",
       "</style>\n",
       "<table border=\"1\" class=\"dataframe\">\n",
       "  <thead>\n",
       "    <tr style=\"text-align: right;\">\n",
       "      <th></th>\n",
       "      <th>Theft From Motor Vehicle</th>\n",
       "      <th>Drug/Narcotic Violations</th>\n",
       "      <th>Simple Assault</th>\n",
       "      <th>Destruction/Damage/Vandalism of Property</th>\n",
       "      <th>Shoplifting</th>\n",
       "      <th>All other Larceny</th>\n",
       "      <th>Driving Under the Influence</th>\n",
       "      <th>Theft from Building</th>\n",
       "      <th>Burglary/Breaking and Entering</th>\n",
       "      <th>Identity Theft</th>\n",
       "    </tr>\n",
       "  </thead>\n",
       "  <tbody>\n",
       "    <tr>\n",
       "      <th>0</th>\n",
       "      <td>0.0</td>\n",
       "      <td>0.0</td>\n",
       "      <td>0.0</td>\n",
       "      <td>0.0</td>\n",
       "      <td>0.0</td>\n",
       "      <td>0.0</td>\n",
       "      <td>0.0</td>\n",
       "      <td>0.0</td>\n",
       "      <td>1.0</td>\n",
       "      <td>0.0</td>\n",
       "    </tr>\n",
       "    <tr>\n",
       "      <th>1</th>\n",
       "      <td>0.0</td>\n",
       "      <td>0.0</td>\n",
       "      <td>0.0</td>\n",
       "      <td>0.0</td>\n",
       "      <td>0.0</td>\n",
       "      <td>0.0</td>\n",
       "      <td>0.0</td>\n",
       "      <td>0.0</td>\n",
       "      <td>1.0</td>\n",
       "      <td>0.0</td>\n",
       "    </tr>\n",
       "    <tr>\n",
       "      <th>2</th>\n",
       "      <td>0.0</td>\n",
       "      <td>0.0</td>\n",
       "      <td>0.0</td>\n",
       "      <td>0.0</td>\n",
       "      <td>0.0</td>\n",
       "      <td>0.0</td>\n",
       "      <td>0.0</td>\n",
       "      <td>0.0</td>\n",
       "      <td>1.0</td>\n",
       "      <td>0.0</td>\n",
       "    </tr>\n",
       "    <tr>\n",
       "      <th>3</th>\n",
       "      <td>0.0</td>\n",
       "      <td>0.0</td>\n",
       "      <td>0.0</td>\n",
       "      <td>0.0</td>\n",
       "      <td>0.0</td>\n",
       "      <td>0.0</td>\n",
       "      <td>0.0</td>\n",
       "      <td>0.0</td>\n",
       "      <td>1.0</td>\n",
       "      <td>0.0</td>\n",
       "    </tr>\n",
       "    <tr>\n",
       "      <th>4</th>\n",
       "      <td>0.0</td>\n",
       "      <td>0.0</td>\n",
       "      <td>0.0</td>\n",
       "      <td>0.0</td>\n",
       "      <td>0.0</td>\n",
       "      <td>0.0</td>\n",
       "      <td>0.0</td>\n",
       "      <td>0.0</td>\n",
       "      <td>1.0</td>\n",
       "      <td>0.0</td>\n",
       "    </tr>\n",
       "  </tbody>\n",
       "</table>\n",
       "</div>"
      ],
      "text/plain": [
       "   Theft From Motor Vehicle  Drug/Narcotic Violations  Simple Assault  \\\n",
       "0                       0.0                       0.0             0.0   \n",
       "1                       0.0                       0.0             0.0   \n",
       "2                       0.0                       0.0             0.0   \n",
       "3                       0.0                       0.0             0.0   \n",
       "4                       0.0                       0.0             0.0   \n",
       "\n",
       "   Destruction/Damage/Vandalism of Property  Shoplifting  All other Larceny  \\\n",
       "0                                       0.0          0.0                0.0   \n",
       "1                                       0.0          0.0                0.0   \n",
       "2                                       0.0          0.0                0.0   \n",
       "3                                       0.0          0.0                0.0   \n",
       "4                                       0.0          0.0                0.0   \n",
       "\n",
       "   Driving Under the Influence  Theft from Building  \\\n",
       "0                          0.0                  0.0   \n",
       "1                          0.0                  0.0   \n",
       "2                          0.0                  0.0   \n",
       "3                          0.0                  0.0   \n",
       "4                          0.0                  0.0   \n",
       "\n",
       "   Burglary/Breaking and Entering  Identity Theft  \n",
       "0                             1.0             0.0  \n",
       "1                             1.0             0.0  \n",
       "2                             1.0             0.0  \n",
       "3                             1.0             0.0  \n",
       "4                             1.0             0.0  "
      ]
     },
     "execution_count": 277,
     "metadata": {},
     "output_type": "execute_result"
    }
   ],
   "source": [
    "df2=pd.DataFrame(dummy_y, columns = [x for x in str_array])\n",
    "print(df2.shape)\n",
    "\n",
    "df2.head()"
   ]
  },
  {
   "cell_type": "code",
   "execution_count": 278,
   "metadata": {},
   "outputs": [
    {
     "name": "stdout",
     "output_type": "stream",
     "text": [
      "        Theft From Motor Vehicle  Drug/Narcotic Violations  Simple Assault  \\\n",
      "0                            0.0                       0.0             0.0   \n",
      "1                            0.0                       0.0             0.0   \n",
      "2                            0.0                       0.0             0.0   \n",
      "3                            0.0                       0.0             0.0   \n",
      "4                            0.0                       0.0             0.0   \n",
      "...                          ...                       ...             ...   \n",
      "161714                       0.0                       0.0             0.0   \n",
      "161715                       0.0                       0.0             0.0   \n",
      "161716                       0.0                       0.0             0.0   \n",
      "161717                       0.0                       0.0             0.0   \n",
      "161718                       0.0                       0.0             0.0   \n",
      "\n",
      "        Destruction/Damage/Vandalism of Property  Shoplifting  \\\n",
      "0                                            0.0          0.0   \n",
      "1                                            0.0          0.0   \n",
      "2                                            0.0          0.0   \n",
      "3                                            0.0          0.0   \n",
      "4                                            0.0          0.0   \n",
      "...                                          ...          ...   \n",
      "161714                                       0.0          0.0   \n",
      "161715                                       0.0          0.0   \n",
      "161716                                       0.0          0.0   \n",
      "161717                                       0.0          0.0   \n",
      "161718                                       0.0          0.0   \n",
      "\n",
      "        All other Larceny  Driving Under the Influence  Theft from Building  \\\n",
      "0                     0.0                          0.0                  0.0   \n",
      "1                     0.0                          0.0                  0.0   \n",
      "2                     0.0                          0.0                  0.0   \n",
      "3                     0.0                          0.0                  0.0   \n",
      "4                     0.0                          0.0                  0.0   \n",
      "...                   ...                          ...                  ...   \n",
      "161714                1.0                          0.0                  0.0   \n",
      "161715                1.0                          0.0                  0.0   \n",
      "161716                1.0                          0.0                  0.0   \n",
      "161717                1.0                          0.0                  0.0   \n",
      "161718                1.0                          0.0                  0.0   \n",
      "\n",
      "        Burglary/Breaking and Entering  Identity Theft  \n",
      "0                                  1.0             0.0  \n",
      "1                                  1.0             0.0  \n",
      "2                                  1.0             0.0  \n",
      "3                                  1.0             0.0  \n",
      "4                                  1.0             0.0  \n",
      "...                                ...             ...  \n",
      "161714                             0.0             0.0  \n",
      "161715                             0.0             0.0  \n",
      "161716                             0.0             0.0  \n",
      "161717                             0.0             0.0  \n",
      "161718                             0.0             0.0  \n",
      "\n",
      "[161719 rows x 10 columns]\n"
     ]
    }
   ],
   "source": [
    "# concatenate a mix of Series and DataFrame objects\n",
    "y = pd.concat([df1, df2], axis = 1)\n",
    "y=df2\n",
    "y.shape\n",
    "print(y)"
   ]
  },
  {
   "cell_type": "code",
   "execution_count": 279,
   "metadata": {},
   "outputs": [],
   "source": [
    "# y = pd.concat([loc_crime_df[['Latitude', 'Longitude']], pd.DataFrame(dummy_y, columns = ['Y1', 'Y2'])], axis = 1, ignore_index= True)"
   ]
  },
  {
   "cell_type": "markdown",
   "metadata": {},
   "source": [
    "# Split the data into training and testing set\n"
   ]
  },
  {
   "cell_type": "code",
   "execution_count": 280,
   "metadata": {},
   "outputs": [
    {
     "name": "stdout",
     "output_type": "stream",
     "text": [
      "X_train shape: (129375, 9)\n",
      "X_test shape: (32344, 9)\n",
      "y_train shape: (129375, 10)\n",
      "y_test shape: (32344, 10)\n"
     ]
    }
   ],
   "source": [
    "X_train,X_test,y_train,y_test=train_test_split(X,y,test_size=0.2,\n",
    "                                               random_state=42, shuffle = True) \n",
    "\n",
    "#Data was splitted as 80% train data and 20% test data.\n",
    "\n",
    "# y_train = y_train.values.reshape(-1,1)\n",
    "# y_test = y_test.values.reshape(-1,1)\n",
    "\n",
    "print(\"X_train shape:\",X_train.shape)\n",
    "print(\"X_test shape:\",X_test.shape)\n",
    "print(\"y_train shape:\",y_train.shape)\n",
    "print(\"y_test shape:\",y_test.shape)"
   ]
  },
  {
   "cell_type": "code",
   "execution_count": 281,
   "metadata": {},
   "outputs": [],
   "source": [
    "# Feature Scaling (Standardize the data)\n",
    "sc = StandardScaler()\n",
    "X_train = sc.fit_transform(X_train)\n",
    "X_test = sc.transform(X_test)\n",
    "\n",
    "# Prediction with geolocation\n",
    "sc_label = MinMaxScaler()\n",
    "y_train = sc_label.fit_transform(y_train)\n",
    "y_test = sc_label.transform(y_test)\n",
    "\n",
    "# #Predicting only the last class\n",
    "# y_train = y_train.iloc[:,-1:]\n",
    "# y_test = y_test.iloc[:,-1:]\n",
    "\n",
    "# # Predicting all top_n class\n",
    "# y_train = y_train.iloc[:,-top_n:]\n",
    "# y_test = y_test.iloc[:,-top_n:]"
   ]
  },
  {
   "cell_type": "code",
   "execution_count": 282,
   "metadata": {},
   "outputs": [
    {
     "data": {
      "text/plain": [
       "array([[0., 0., 0., ..., 0., 0., 0.],\n",
       "       [0., 0., 0., ..., 0., 0., 0.],\n",
       "       [0., 0., 0., ..., 0., 0., 1.],\n",
       "       ...,\n",
       "       [0., 0., 0., ..., 0., 0., 0.],\n",
       "       [0., 1., 0., ..., 0., 0., 0.],\n",
       "       [0., 0., 0., ..., 0., 0., 0.]], dtype=float32)"
      ]
     },
     "execution_count": 282,
     "metadata": {},
     "output_type": "execute_result"
    }
   ],
   "source": [
    "y_train"
   ]
  },
  {
   "cell_type": "code",
   "execution_count": 283,
   "metadata": {},
   "outputs": [
    {
     "data": {
      "text/plain": [
       "array([[0., 0., 0., ..., 0., 0., 0.],\n",
       "       [0., 0., 0., ..., 1., 0., 0.],\n",
       "       [0., 0., 0., ..., 0., 0., 1.],\n",
       "       ...,\n",
       "       [0., 0., 0., ..., 0., 0., 0.],\n",
       "       [0., 0., 0., ..., 0., 1., 0.],\n",
       "       [0., 0., 0., ..., 0., 0., 0.]], dtype=float32)"
      ]
     },
     "execution_count": 283,
     "metadata": {},
     "output_type": "execute_result"
    }
   ],
   "source": [
    "y_test"
   ]
  },
  {
   "cell_type": "code",
   "execution_count": 284,
   "metadata": {},
   "outputs": [],
   "source": [
    "# plt.hist(y_train)"
   ]
  },
  {
   "cell_type": "markdown",
   "metadata": {},
   "source": [
    "# Build and Train the model\n"
   ]
  },
  {
   "cell_type": "code",
   "execution_count": 285,
   "metadata": {},
   "outputs": [
    {
     "name": "stdout",
     "output_type": "stream",
     "text": [
      "Output class is: 10\n",
      "Model: \"sequential_11\"\n",
      "_________________________________________________________________\n",
      " Layer (type)                Output Shape              Param #   \n",
      "=================================================================\n",
      " dense_66 (Dense)            (None, 100)               1000      \n",
      "                                                                 \n",
      " dense_67 (Dense)            (None, 250)               25250     \n",
      "                                                                 \n",
      " dense_68 (Dense)            (None, 500)               125500    \n",
      "                                                                 \n",
      " dense_69 (Dense)            (None, 100)               50100     \n",
      "                                                                 \n",
      " dense_70 (Dense)            (None, 50)                5050      \n",
      "                                                                 \n",
      " dense_71 (Dense)            (None, 10)                510       \n",
      "                                                                 \n",
      "=================================================================\n",
      "Total params: 207,410\n",
      "Trainable params: 207,410\n",
      "Non-trainable params: 0\n",
      "_________________________________________________________________\n",
      "Epoch 1/20\n",
      "910/910 [==============================] - 3s 3ms/step - loss: 1.0972 - accuracy: 0.5693 - val_loss: 0.9876 - val_accuracy: 0.6115\n",
      "Epoch 2/20\n",
      "910/910 [==============================] - 2s 3ms/step - loss: 0.9511 - accuracy: 0.6180 - val_loss: 0.9423 - val_accuracy: 0.6181\n",
      "Epoch 3/20\n",
      "910/910 [==============================] - 2s 3ms/step - loss: 0.9085 - accuracy: 0.6337 - val_loss: 0.8951 - val_accuracy: 0.6326\n",
      "Epoch 4/20\n",
      "910/910 [==============================] - 2s 3ms/step - loss: 0.8845 - accuracy: 0.6403 - val_loss: 0.8880 - val_accuracy: 0.6353\n",
      "Epoch 5/20\n",
      "910/910 [==============================] - 2s 3ms/step - loss: 0.8754 - accuracy: 0.6444 - val_loss: 0.8819 - val_accuracy: 0.6431\n",
      "Epoch 6/20\n",
      "910/910 [==============================] - 2s 3ms/step - loss: 0.8675 - accuracy: 0.6471 - val_loss: 0.8772 - val_accuracy: 0.6447\n",
      "Epoch 7/20\n",
      "910/910 [==============================] - 2s 3ms/step - loss: 0.8619 - accuracy: 0.6481 - val_loss: 0.8850 - val_accuracy: 0.6404\n",
      "Epoch 8/20\n",
      "910/910 [==============================] - 2s 3ms/step - loss: 0.8555 - accuracy: 0.6510 - val_loss: 0.8905 - val_accuracy: 0.6326\n",
      "Epoch 9/20\n",
      "910/910 [==============================] - 2s 3ms/step - loss: 0.8507 - accuracy: 0.6534 - val_loss: 0.8659 - val_accuracy: 0.6450\n",
      "Epoch 10/20\n",
      "910/910 [==============================] - 2s 3ms/step - loss: 0.8477 - accuracy: 0.6550 - val_loss: 0.8654 - val_accuracy: 0.6418\n",
      "Epoch 11/20\n",
      "910/910 [==============================] - 2s 3ms/step - loss: 0.8433 - accuracy: 0.6562 - val_loss: 0.8520 - val_accuracy: 0.6507\n",
      "Epoch 12/20\n",
      "910/910 [==============================] - 2s 3ms/step - loss: 0.8392 - accuracy: 0.6573 - val_loss: 0.8648 - val_accuracy: 0.6479\n",
      "Epoch 13/20\n",
      "910/910 [==============================] - 2s 3ms/step - loss: 0.8346 - accuracy: 0.6595 - val_loss: 0.8616 - val_accuracy: 0.6479\n",
      "Epoch 14/20\n",
      "910/910 [==============================] - 2s 3ms/step - loss: 0.8301 - accuracy: 0.6622 - val_loss: 0.8521 - val_accuracy: 0.6537\n",
      "Epoch 15/20\n",
      "910/910 [==============================] - 2s 3ms/step - loss: 0.8262 - accuracy: 0.6634 - val_loss: 0.8529 - val_accuracy: 0.6547\n",
      "Epoch 16/20\n",
      "910/910 [==============================] - 2s 3ms/step - loss: 0.8230 - accuracy: 0.6646 - val_loss: 0.8399 - val_accuracy: 0.6632\n",
      "Epoch 17/20\n",
      "910/910 [==============================] - 2s 3ms/step - loss: 0.8205 - accuracy: 0.6655 - val_loss: 0.8445 - val_accuracy: 0.6584\n",
      "Epoch 18/20\n",
      "910/910 [==============================] - 2s 3ms/step - loss: 0.8171 - accuracy: 0.6677 - val_loss: 0.8382 - val_accuracy: 0.6605\n",
      "Epoch 19/20\n",
      "910/910 [==============================] - 2s 3ms/step - loss: 0.8135 - accuracy: 0.6693 - val_loss: 0.8366 - val_accuracy: 0.6626\n",
      "Epoch 20/20\n",
      "910/910 [==============================] - 2s 3ms/step - loss: 0.8108 - accuracy: 0.6698 - val_loss: 0.8450 - val_accuracy: 0.6567\n"
     ]
    }
   ],
   "source": [
    "print('Output class is: '+str(top_n))\n",
    "# Md Hasan Shahriar\n",
    "# Tue, Dec 6, 6:51 PM \n",
    "\n",
    "\n",
    "feature_number = 9\n",
    "# with geolocation\n",
    "output_dim = top_n+2\n",
    "output_dim = top_n\n",
    "\n",
    "model = keras.Sequential(\n",
    "    [\n",
    "        keras.Input(shape=feature_number),\n",
    "        layers.Dense(100, activation=\"relu\"),\n",
    "        layers.Dense(250, activation=\"relu\"),\n",
    "        layers.Dense(500, activation=\"relu\"),\n",
    "        layers.Dense(100, activation=\"relu\"),\n",
    "        layers.Dense(50, activation=\"relu\"),\n",
    "        layers.Dense(output_dim, activation=\"softmax\"),\n",
    "        # layers.Dense(output_dim, activation=\"sigmoid\"), # for binary classification\n",
    "        # layers.Dense(output_dim, activation=\"softmax\"),\n",
    "    ]\n",
    ")\n",
    "\n",
    "model.summary()\n",
    "\n",
    "\n",
    "batch_size = 128\n",
    "epochs = 20\n",
    "\n",
    "model.compile(loss=\"categorical_crossentropy\", optimizer=\"adam\", metrics=[\"accuracy\"])\n",
    "# model.compile(loss=\"mse\", optimizer=\"adam\", metrics=[\"accuracy\"])\n",
    "\n",
    "history = model.fit(X_train, y_train, batch_size=batch_size, epochs=epochs, validation_split=0.1)"
   ]
  },
  {
   "cell_type": "code",
   "execution_count": 286,
   "metadata": {},
   "outputs": [
    {
     "data": {
      "text/plain": [
       "[<matplotlib.lines.Line2D at 0x1d14eadb9d0>]"
      ]
     },
     "execution_count": 286,
     "metadata": {},
     "output_type": "execute_result"
    },
    {
     "data": {
      "image/png": "[encoded data removed]",
      "text/plain": [
       "<Figure size 640x480 with 1 Axes>"
      ]
     },
     "metadata": {},
     "output_type": "display_data"
    }
   ],
   "source": [
    "plt.plot(history.history['val_loss'], color = \"red\")\n",
    "plt.plot(history.history['loss'], color = \"blue\")"
   ]
  },
  {
   "cell_type": "code",
   "execution_count": 287,
   "metadata": {},
   "outputs": [
    {
     "name": "stdout",
     "output_type": "stream",
     "text": [
      "1/1 [==============================] - 0s 40ms/step\n"
     ]
    },
    {
     "data": {
      "text/plain": [
       "array([[0.  , 0.  , 0.  , 0.57, 0.43, 0.  , 0.  , 0.  , 0.  , 0.  ],\n",
       "       [0.  , 0.  , 0.  , 0.  , 0.  , 0.  , 0.  , 1.  , 0.  , 0.  ],\n",
       "       [0.21, 0.35, 0.13, 0.  , 0.  , 0.18, 0.  , 0.  , 0.02, 0.11],\n",
       "       [0.04, 0.  , 0.01, 0.  , 0.  , 0.  , 0.83, 0.  , 0.  , 0.12],\n",
       "       [0.2 , 0.01, 0.04, 0.  , 0.  , 0.7 , 0.01, 0.  , 0.01, 0.03],\n",
       "       [0.  , 0.  , 0.  , 0.12, 0.88, 0.  , 0.  , 0.  , 0.  , 0.  ],\n",
       "       [0.08, 0.23, 0.14, 0.  , 0.  , 0.22, 0.23, 0.  , 0.01, 0.09],\n",
       "       [0.38, 0.16, 0.27, 0.  , 0.  , 0.04, 0.  , 0.  , 0.1 , 0.06],\n",
       "       [0.  , 0.  , 0.  , 0.  , 0.  , 0.  , 0.  , 1.  , 0.  , 0.  ],\n",
       "       [0.  , 0.  , 0.  , 0.81, 0.19, 0.  , 0.  , 0.  , 0.  , 0.  ]],\n",
       "      dtype=float32)"
      ]
     },
     "execution_count": 287,
     "metadata": {},
     "output_type": "execute_result"
    }
   ],
   "source": [
    "np.round(model.predict(X_test[0:10]),2)"
   ]
  },
  {
   "cell_type": "code",
   "execution_count": 288,
   "metadata": {},
   "outputs": [
    {
     "data": {
      "text/plain": [
       "array([[0., 0., 0., 0., 1., 0., 0., 0., 0., 0.],\n",
       "       [0., 0., 0., 0., 0., 0., 0., 1., 0., 0.],\n",
       "       [0., 0., 0., 0., 0., 0., 0., 0., 0., 1.],\n",
       "       [0., 0., 0., 0., 0., 0., 1., 0., 0., 0.],\n",
       "       [0., 0., 0., 0., 0., 1., 0., 0., 0., 0.],\n",
       "       [0., 0., 0., 0., 1., 0., 0., 0., 0., 0.],\n",
       "       [0., 1., 0., 0., 0., 0., 0., 0., 0., 0.],\n",
       "       [0., 1., 0., 0., 0., 0., 0., 0., 0., 0.],\n",
       "       [0., 0., 0., 0., 0., 0., 0., 1., 0., 0.],\n",
       "       [0., 0., 0., 1., 0., 0., 0., 0., 0., 0.]], dtype=float32)"
      ]
     },
     "execution_count": 288,
     "metadata": {},
     "output_type": "execute_result"
    }
   ],
   "source": [
    "np.round(y_test[0:10],2)"
   ]
  },
  {
   "cell_type": "markdown",
   "metadata": {},
   "source": [
    "# Evaluate the trained model\n"
   ]
  },
  {
   "cell_type": "code",
   "execution_count": 289,
   "metadata": {},
   "outputs": [
    {
     "name": "stdout",
     "output_type": "stream",
     "text": [
      "Test loss: 0.8324240446090698\n",
      "Test accuracy: 0.6590403318405151\n"
     ]
    }
   ],
   "source": [
    "score = model.evaluate(X_test, y_test, verbose=0)\n",
    "print(\"Test loss:\", score[0])\n",
    "print(\"Test accuracy:\", score[1])"
   ]
  }
 ],
 "metadata": {
  "kernelspec": {
   "display_name": "Python 3.10.8 ('venv-crime': venv)",
   "language": "python",
   "name": "python3"
  },
  "language_info": {
   "codemirror_mode": {
    "name": "ipython",
    "version": 3
   },
   "file_extension": ".py",
   "mimetype": "text/x-python",
   "name": "python",
   "nbconvert_exporter": "python",
   "pygments_lexer": "ipython3",
   "version": "3.10.8"
  },
  "orig_nbformat": 4,
  "vscode": {
   "interpreter": {
    "hash": "56499c78b8adf39f7955f2a02c35c137f6c0ff7ad251ed77d4a99ad021747c15"
   }
  }
 },
 "nbformat": 4,
 "nbformat_minor": 2
}
