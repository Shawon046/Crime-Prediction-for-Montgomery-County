{
 "cells": [
  {
   "cell_type": "markdown",
   "metadata": {},
   "source": [
    "# Setup"
   ]
  },
  {
   "cell_type": "code",
   "execution_count": 38,
   "metadata": {},
   "outputs": [],
   "source": [
    "import numpy as np\n",
    "import pandas as pd\n",
    "from tensorflow import keras\n",
    "from tensorflow.keras import datasets, layers, models\n",
    "\n"
   ]
  },
  {
   "cell_type": "markdown",
   "metadata": {},
   "source": [
    "# Prepare the data"
   ]
  },
  {
   "cell_type": "code",
   "execution_count": 39,
   "metadata": {},
   "outputs": [
    {
     "name": "stderr",
     "output_type": "stream",
     "text": [
      "C:\\Users\\shawo\\AppData\\Local\\Temp\\ipykernel_4084\\2485228169.py:2: DtypeWarning: Columns (1,18) have mixed types. Specify dtype option on import or set low_memory=False.\n",
      "  inputdf = pd.read_csv('Crime.csv')\n"
     ]
    },
    {
     "data": {
      "text/html": [
       "<div>\n",
       "<style scoped>\n",
       "    .dataframe tbody tr th:only-of-type {\n",
       "        vertical-align: middle;\n",
       "    }\n",
       "\n",
       "    .dataframe tbody tr th {\n",
       "        vertical-align: top;\n",
       "    }\n",
       "\n",
       "    .dataframe thead th {\n",
       "        text-align: right;\n",
       "    }\n",
       "</style>\n",
       "<table border=\"1\" class=\"dataframe\">\n",
       "  <thead>\n",
       "    <tr style=\"text-align: right;\">\n",
       "      <th></th>\n",
       "      <th>Incident ID</th>\n",
       "      <th>Offence Code</th>\n",
       "      <th>CR Number</th>\n",
       "      <th>Dispatch Date / Time</th>\n",
       "      <th>NIBRS Code</th>\n",
       "      <th>Victims</th>\n",
       "      <th>Crime Name1</th>\n",
       "      <th>Crime Name2</th>\n",
       "      <th>Crime Name3</th>\n",
       "      <th>Police District Name</th>\n",
       "      <th>...</th>\n",
       "      <th>Street Prefix</th>\n",
       "      <th>Street Name</th>\n",
       "      <th>Street Suffix</th>\n",
       "      <th>Street Type</th>\n",
       "      <th>Start_Date_Time</th>\n",
       "      <th>End_Date_Time</th>\n",
       "      <th>Latitude</th>\n",
       "      <th>Longitude</th>\n",
       "      <th>Police District Number</th>\n",
       "      <th>Location</th>\n",
       "    </tr>\n",
       "  </thead>\n",
       "  <tbody>\n",
       "    <tr>\n",
       "      <th>0</th>\n",
       "      <td>201219928</td>\n",
       "      <td>1204</td>\n",
       "      <td>180063894</td>\n",
       "      <td>12/21/2018 09:13:13 PM</td>\n",
       "      <td>120</td>\n",
       "      <td>1</td>\n",
       "      <td>Crime Against Property</td>\n",
       "      <td>Robbery</td>\n",
       "      <td>ROBBERY - STREET-GUN</td>\n",
       "      <td>WHEATON</td>\n",
       "      <td>...</td>\n",
       "      <td>NaN</td>\n",
       "      <td>GEORGIA</td>\n",
       "      <td>NaN</td>\n",
       "      <td>AVE</td>\n",
       "      <td>12/21/2018 09:13:00 PM</td>\n",
       "      <td>NaN</td>\n",
       "      <td>39.03627</td>\n",
       "      <td>-77.0499</td>\n",
       "      <td>4D</td>\n",
       "      <td>(39.0363, -77.0499)</td>\n",
       "    </tr>\n",
       "    <tr>\n",
       "      <th>1</th>\n",
       "      <td>201301798</td>\n",
       "      <td>5016</td>\n",
       "      <td>200035833</td>\n",
       "      <td>09/13/2020 12:26:58 AM</td>\n",
       "      <td>90Z</td>\n",
       "      <td>1</td>\n",
       "      <td>Crime Against Society</td>\n",
       "      <td>All Other Offenses</td>\n",
       "      <td>OBSTRUCT GOVT - VIOLATION OF A COURT ORDER</td>\n",
       "      <td>GERMANTOWN</td>\n",
       "      <td>...</td>\n",
       "      <td>NaN</td>\n",
       "      <td>COLTRANE</td>\n",
       "      <td>NaN</td>\n",
       "      <td>DR</td>\n",
       "      <td>08/08/2020 05:10:00 PM</td>\n",
       "      <td>08/08/2020 12:00:00 AM</td>\n",
       "      <td>39.27784</td>\n",
       "      <td>-77.2115</td>\n",
       "      <td>5D</td>\n",
       "      <td>(39.2778, -77.2115)</td>\n",
       "    </tr>\n",
       "  </tbody>\n",
       "</table>\n",
       "<p>2 rows × 30 columns</p>\n",
       "</div>"
      ],
      "text/plain": [
       "   Incident ID Offence Code  CR Number    Dispatch Date / Time NIBRS Code  \\\n",
       "0    201219928         1204  180063894  12/21/2018 09:13:13 PM        120   \n",
       "1    201301798         5016  200035833  09/13/2020 12:26:58 AM        90Z   \n",
       "\n",
       "   Victims             Crime Name1         Crime Name2  \\\n",
       "0        1  Crime Against Property             Robbery   \n",
       "1        1   Crime Against Society  All Other Offenses   \n",
       "\n",
       "                                  Crime Name3 Police District Name  ...  \\\n",
       "0                        ROBBERY - STREET-GUN              WHEATON  ...   \n",
       "1  OBSTRUCT GOVT - VIOLATION OF A COURT ORDER           GERMANTOWN  ...   \n",
       "\n",
       "  Street Prefix Street Name Street Suffix  Street Type  \\\n",
       "0           NaN     GEORGIA           NaN          AVE   \n",
       "1           NaN    COLTRANE           NaN           DR   \n",
       "\n",
       "          Start_Date_Time           End_Date_Time  Latitude Longitude  \\\n",
       "0  12/21/2018 09:13:00 PM                     NaN  39.03627  -77.0499   \n",
       "1  08/08/2020 05:10:00 PM  08/08/2020 12:00:00 AM  39.27784  -77.2115   \n",
       "\n",
       "  Police District Number             Location  \n",
       "0                     4D  (39.0363, -77.0499)  \n",
       "1                     5D  (39.2778, -77.2115)  \n",
       "\n",
       "[2 rows x 30 columns]"
      ]
     },
     "execution_count": 39,
     "metadata": {},
     "output_type": "execute_result"
    }
   ],
   "source": [
    "\n",
    "# At first we mount the dataset from local file\n",
    "inputdf = pd.read_csv('Crime.csv')\n",
    "# sneak peak in the data\n",
    "inputdf.head(2)"
   ]
  },
  {
   "cell_type": "markdown",
   "metadata": {},
   "source": [
    "Analyzing the dataset, we observe that columns -\n",
    "\n",
    "\n",
    "* Incident ID\n",
    "*\tOffence Code\n",
    "* CR Number\n",
    "* NIBRS Code\n",
    "* State (All should be MD)\n",
    "* Sector, Beat, PRA - meaningless\n",
    "* Address Number (included in \"Block Address\")\n",
    "* Street Prefix (lots of missing values)\n",
    "* Street Suffix (lots of missing values)\n",
    "* Police District Number (meaningless)\n",
    "* Location (pair of Latitude and Longitude)\n",
    "\n",
    " are unnecessary. So they are removed."
   ]
  },
  {
   "cell_type": "code",
   "execution_count": 40,
   "metadata": {},
   "outputs": [
    {
     "data": {
      "text/html": [
       "<div>\n",
       "<style scoped>\n",
       "    .dataframe tbody tr th:only-of-type {\n",
       "        vertical-align: middle;\n",
       "    }\n",
       "\n",
       "    .dataframe tbody tr th {\n",
       "        vertical-align: top;\n",
       "    }\n",
       "\n",
       "    .dataframe thead th {\n",
       "        text-align: right;\n",
       "    }\n",
       "</style>\n",
       "<table border=\"1\" class=\"dataframe\">\n",
       "  <thead>\n",
       "    <tr style=\"text-align: right;\">\n",
       "      <th></th>\n",
       "      <th>Dispatch Date / Time</th>\n",
       "      <th>Victims</th>\n",
       "      <th>Crime Name1</th>\n",
       "      <th>Crime Name2</th>\n",
       "      <th>Crime Name3</th>\n",
       "      <th>Police District Name</th>\n",
       "      <th>Block Address</th>\n",
       "      <th>City</th>\n",
       "      <th>Zip Code</th>\n",
       "      <th>Agency</th>\n",
       "      <th>Place</th>\n",
       "      <th>Street Name</th>\n",
       "      <th>Street Type</th>\n",
       "      <th>Start_Date_Time</th>\n",
       "      <th>End_Date_Time</th>\n",
       "      <th>Latitude</th>\n",
       "      <th>Longitude</th>\n",
       "    </tr>\n",
       "  </thead>\n",
       "  <tbody>\n",
       "    <tr>\n",
       "      <th>0</th>\n",
       "      <td>12/21/2018 09:13:13 PM</td>\n",
       "      <td>1</td>\n",
       "      <td>Crime Against Property</td>\n",
       "      <td>Robbery</td>\n",
       "      <td>ROBBERY - STREET-GUN</td>\n",
       "      <td>WHEATON</td>\n",
       "      <td>11100 BLK  GEORGIA AVE</td>\n",
       "      <td>SILVER SPRING</td>\n",
       "      <td>20902.0</td>\n",
       "      <td>MCPD</td>\n",
       "      <td>Street - Bus Stop</td>\n",
       "      <td>GEORGIA</td>\n",
       "      <td>AVE</td>\n",
       "      <td>12/21/2018 09:13:00 PM</td>\n",
       "      <td>NaN</td>\n",
       "      <td>39.03627</td>\n",
       "      <td>-77.0499</td>\n",
       "    </tr>\n",
       "    <tr>\n",
       "      <th>1</th>\n",
       "      <td>09/13/2020 12:26:58 AM</td>\n",
       "      <td>1</td>\n",
       "      <td>Crime Against Society</td>\n",
       "      <td>All Other Offenses</td>\n",
       "      <td>OBSTRUCT GOVT - VIOLATION OF A COURT ORDER</td>\n",
       "      <td>GERMANTOWN</td>\n",
       "      <td>25600 BLK  COLTRANE DR</td>\n",
       "      <td>DAMASCUS</td>\n",
       "      <td>20872.0</td>\n",
       "      <td>MCPD</td>\n",
       "      <td>Parking Lot - Residential</td>\n",
       "      <td>COLTRANE</td>\n",
       "      <td>DR</td>\n",
       "      <td>08/08/2020 05:10:00 PM</td>\n",
       "      <td>08/08/2020 12:00:00 AM</td>\n",
       "      <td>39.27784</td>\n",
       "      <td>-77.2115</td>\n",
       "    </tr>\n",
       "  </tbody>\n",
       "</table>\n",
       "</div>"
      ],
      "text/plain": [
       "     Dispatch Date / Time  Victims             Crime Name1  \\\n",
       "0  12/21/2018 09:13:13 PM        1  Crime Against Property   \n",
       "1  09/13/2020 12:26:58 AM        1   Crime Against Society   \n",
       "\n",
       "          Crime Name2                                 Crime Name3  \\\n",
       "0             Robbery                        ROBBERY - STREET-GUN   \n",
       "1  All Other Offenses  OBSTRUCT GOVT - VIOLATION OF A COURT ORDER   \n",
       "\n",
       "  Police District Name           Block Address           City  Zip Code  \\\n",
       "0              WHEATON  11100 BLK  GEORGIA AVE  SILVER SPRING   20902.0   \n",
       "1           GERMANTOWN  25600 BLK  COLTRANE DR       DAMASCUS   20872.0   \n",
       "\n",
       "  Agency                      Place Street Name Street Type  \\\n",
       "0   MCPD          Street - Bus Stop     GEORGIA         AVE   \n",
       "1   MCPD  Parking Lot - Residential    COLTRANE          DR   \n",
       "\n",
       "          Start_Date_Time           End_Date_Time  Latitude  Longitude  \n",
       "0  12/21/2018 09:13:00 PM                     NaN  39.03627   -77.0499  \n",
       "1  08/08/2020 05:10:00 PM  08/08/2020 12:00:00 AM  39.27784   -77.2115  "
      ]
     },
     "execution_count": 40,
     "metadata": {},
     "output_type": "execute_result"
    }
   ],
   "source": [
    "# dropping the unnecessary columns\n",
    "#inputdf = data\n",
    "unnecessary_columns = ['Incident ID', 'Offence Code', 'CR Number', 'NIBRS Code', 'State', 'Sector', 'Beat', 'PRA', 'Address Number', 'Street Prefix', 'Street Suffix', 'Police District Number', 'Location'  ]\n",
    "for i in unnecessary_columns:\n",
    "  inputdf = inputdf.drop(i, axis=1)\n",
    "inputdf.head(2)"
   ]
  },
  {
   "cell_type": "markdown",
   "metadata": {},
   "source": [
    "# Later, Columns related with the effect of crime are removed."
   ]
  },
  {
   "cell_type": "code",
   "execution_count": 41,
   "metadata": {},
   "outputs": [
    {
     "data": {
      "text/html": [
       "<div>\n",
       "<style scoped>\n",
       "    .dataframe tbody tr th:only-of-type {\n",
       "        vertical-align: middle;\n",
       "    }\n",
       "\n",
       "    .dataframe tbody tr th {\n",
       "        vertical-align: top;\n",
       "    }\n",
       "\n",
       "    .dataframe thead th {\n",
       "        text-align: right;\n",
       "    }\n",
       "</style>\n",
       "<table border=\"1\" class=\"dataframe\">\n",
       "  <thead>\n",
       "    <tr style=\"text-align: right;\">\n",
       "      <th></th>\n",
       "      <th>Crime Name1</th>\n",
       "      <th>Crime Name2</th>\n",
       "      <th>Crime Name3</th>\n",
       "      <th>Police District Name</th>\n",
       "      <th>City</th>\n",
       "      <th>Zip Code</th>\n",
       "      <th>Place</th>\n",
       "      <th>Street Name</th>\n",
       "      <th>Start_Date_Time</th>\n",
       "      <th>Latitude</th>\n",
       "      <th>Longitude</th>\n",
       "    </tr>\n",
       "  </thead>\n",
       "  <tbody>\n",
       "    <tr>\n",
       "      <th>0</th>\n",
       "      <td>Crime Against Property</td>\n",
       "      <td>Robbery</td>\n",
       "      <td>ROBBERY - STREET-GUN</td>\n",
       "      <td>WHEATON</td>\n",
       "      <td>SILVER SPRING</td>\n",
       "      <td>20902.0</td>\n",
       "      <td>Street - Bus Stop</td>\n",
       "      <td>GEORGIA</td>\n",
       "      <td>12/21/2018 09:13:00 PM</td>\n",
       "      <td>39.03627</td>\n",
       "      <td>-77.0499</td>\n",
       "    </tr>\n",
       "    <tr>\n",
       "      <th>1</th>\n",
       "      <td>Crime Against Society</td>\n",
       "      <td>All Other Offenses</td>\n",
       "      <td>OBSTRUCT GOVT - VIOLATION OF A COURT ORDER</td>\n",
       "      <td>GERMANTOWN</td>\n",
       "      <td>DAMASCUS</td>\n",
       "      <td>20872.0</td>\n",
       "      <td>Parking Lot - Residential</td>\n",
       "      <td>COLTRANE</td>\n",
       "      <td>08/08/2020 05:10:00 PM</td>\n",
       "      <td>39.27784</td>\n",
       "      <td>-77.2115</td>\n",
       "    </tr>\n",
       "  </tbody>\n",
       "</table>\n",
       "</div>"
      ],
      "text/plain": [
       "              Crime Name1         Crime Name2  \\\n",
       "0  Crime Against Property             Robbery   \n",
       "1   Crime Against Society  All Other Offenses   \n",
       "\n",
       "                                  Crime Name3 Police District Name  \\\n",
       "0                        ROBBERY - STREET-GUN              WHEATON   \n",
       "1  OBSTRUCT GOVT - VIOLATION OF A COURT ORDER           GERMANTOWN   \n",
       "\n",
       "            City  Zip Code                      Place Street Name  \\\n",
       "0  SILVER SPRING   20902.0          Street - Bus Stop     GEORGIA   \n",
       "1       DAMASCUS   20872.0  Parking Lot - Residential    COLTRANE   \n",
       "\n",
       "          Start_Date_Time  Latitude  Longitude  \n",
       "0  12/21/2018 09:13:00 PM  39.03627   -77.0499  \n",
       "1  08/08/2020 05:10:00 PM  39.27784   -77.2115  "
      ]
     },
     "execution_count": 41,
     "metadata": {},
     "output_type": "execute_result"
    }
   ],
   "source": [
    "unnecessary_columns = ['Dispatch Date / Time', 'Victims', 'Block Address', 'Street Type', 'Agency', 'End_Date_Time']\n",
    "for i in unnecessary_columns:\n",
    "  inputdf = inputdf.drop(i, axis=1)\n",
    "inputdf.head(2)"
   ]
  },
  {
   "cell_type": "markdown",
   "metadata": {},
   "source": [
    "Some columns are confusing to be added now. Such as -\n",
    "\n",
    "* Crime Name3\n",
    "* Also we have to take special care of Latitude and Longitude if we want them to include in our feature set."
   ]
  },
  {
   "cell_type": "markdown",
   "metadata": {},
   "source": [
    "# Creating The Location Based Crime Data Frame"
   ]
  },
  {
   "cell_type": "code",
   "execution_count": 42,
   "metadata": {},
   "outputs": [
    {
     "name": "stderr",
     "output_type": "stream",
     "text": [
      "C:\\Users\\shawo\\AppData\\Local\\Temp\\ipykernel_4084\\1410415303.py:8: SettingWithCopyWarning: \n",
      "A value is trying to be set on a copy of a slice from a DataFrame.\n",
      "Try using .loc[row_indexer,col_indexer] = value instead\n",
      "\n",
      "See the caveats in the documentation: https://pandas.pydata.org/pandas-docs/stable/user_guide/indexing.html#returning-a-view-versus-a-copy\n",
      "  loc_crime_df['dateHour'] = dates.dt.hour\n"
     ]
    },
    {
     "data": {
      "text/html": [
       "<div>\n",
       "<style scoped>\n",
       "    .dataframe tbody tr th:only-of-type {\n",
       "        vertical-align: middle;\n",
       "    }\n",
       "\n",
       "    .dataframe tbody tr th {\n",
       "        vertical-align: top;\n",
       "    }\n",
       "\n",
       "    .dataframe thead th {\n",
       "        text-align: right;\n",
       "    }\n",
       "</style>\n",
       "<table border=\"1\" class=\"dataframe\">\n",
       "  <thead>\n",
       "    <tr style=\"text-align: right;\">\n",
       "      <th></th>\n",
       "      <th>Crime Name1</th>\n",
       "      <th>Crime Name2</th>\n",
       "      <th>Police District Name</th>\n",
       "      <th>City</th>\n",
       "      <th>Zip Code</th>\n",
       "      <th>Place</th>\n",
       "      <th>Street Name</th>\n",
       "      <th>Latitude</th>\n",
       "      <th>Longitude</th>\n",
       "      <th>dateHour</th>\n",
       "      <th>day</th>\n",
       "      <th>month</th>\n",
       "    </tr>\n",
       "  </thead>\n",
       "  <tbody>\n",
       "    <tr>\n",
       "      <th>0</th>\n",
       "      <td>Crime Against Property</td>\n",
       "      <td>Robbery</td>\n",
       "      <td>WHEATON</td>\n",
       "      <td>SILVER SPRING</td>\n",
       "      <td>20902.0</td>\n",
       "      <td>Street - Bus Stop</td>\n",
       "      <td>GEORGIA</td>\n",
       "      <td>39.036270</td>\n",
       "      <td>-77.049900</td>\n",
       "      <td>21</td>\n",
       "      <td>21</td>\n",
       "      <td>12</td>\n",
       "    </tr>\n",
       "    <tr>\n",
       "      <th>1</th>\n",
       "      <td>Crime Against Society</td>\n",
       "      <td>All Other Offenses</td>\n",
       "      <td>GERMANTOWN</td>\n",
       "      <td>DAMASCUS</td>\n",
       "      <td>20872.0</td>\n",
       "      <td>Parking Lot - Residential</td>\n",
       "      <td>COLTRANE</td>\n",
       "      <td>39.277840</td>\n",
       "      <td>-77.211500</td>\n",
       "      <td>17</td>\n",
       "      <td>8</td>\n",
       "      <td>8</td>\n",
       "    </tr>\n",
       "    <tr>\n",
       "      <th>2</th>\n",
       "      <td>Crime Against Society</td>\n",
       "      <td>Driving Under the Influence</td>\n",
       "      <td>ROCKVILLE</td>\n",
       "      <td>ROCKVILLE</td>\n",
       "      <td>20850.0</td>\n",
       "      <td>Street - In vehicle</td>\n",
       "      <td>GRANDIN</td>\n",
       "      <td>39.086688</td>\n",
       "      <td>-77.144754</td>\n",
       "      <td>2</td>\n",
       "      <td>3</td>\n",
       "      <td>1</td>\n",
       "    </tr>\n",
       "    <tr>\n",
       "      <th>3</th>\n",
       "      <td>Other</td>\n",
       "      <td>All Other Offenses</td>\n",
       "      <td>ROCKVILLE</td>\n",
       "      <td>ROCKVILLE</td>\n",
       "      <td>20850.0</td>\n",
       "      <td>Street - Other</td>\n",
       "      <td>GRANDIN</td>\n",
       "      <td>39.086688</td>\n",
       "      <td>-77.144754</td>\n",
       "      <td>2</td>\n",
       "      <td>3</td>\n",
       "      <td>1</td>\n",
       "    </tr>\n",
       "    <tr>\n",
       "      <th>4</th>\n",
       "      <td>Crime Against Property</td>\n",
       "      <td>Shoplifting</td>\n",
       "      <td>GERMANTOWN</td>\n",
       "      <td>GERMANTOWN</td>\n",
       "      <td>20876.0</td>\n",
       "      <td>Retail - Department/Discount Store</td>\n",
       "      <td>FREDERICK</td>\n",
       "      <td>39.198295</td>\n",
       "      <td>-77.244900</td>\n",
       "      <td>17</td>\n",
       "      <td>16</td>\n",
       "      <td>7</td>\n",
       "    </tr>\n",
       "  </tbody>\n",
       "</table>\n",
       "</div>"
      ],
      "text/plain": [
       "              Crime Name1                  Crime Name2 Police District Name  \\\n",
       "0  Crime Against Property                      Robbery              WHEATON   \n",
       "1   Crime Against Society           All Other Offenses           GERMANTOWN   \n",
       "2   Crime Against Society  Driving Under the Influence            ROCKVILLE   \n",
       "3                   Other           All Other Offenses            ROCKVILLE   \n",
       "4  Crime Against Property                  Shoplifting           GERMANTOWN   \n",
       "\n",
       "            City  Zip Code                               Place Street Name  \\\n",
       "0  SILVER SPRING   20902.0                   Street - Bus Stop     GEORGIA   \n",
       "1       DAMASCUS   20872.0           Parking Lot - Residential    COLTRANE   \n",
       "2      ROCKVILLE   20850.0                 Street - In vehicle     GRANDIN   \n",
       "3      ROCKVILLE   20850.0                      Street - Other     GRANDIN   \n",
       "4     GERMANTOWN   20876.0  Retail - Department/Discount Store   FREDERICK   \n",
       "\n",
       "    Latitude  Longitude  dateHour  day  month  \n",
       "0  39.036270 -77.049900        21   21     12  \n",
       "1  39.277840 -77.211500        17    8      8  \n",
       "2  39.086688 -77.144754         2    3      1  \n",
       "3  39.086688 -77.144754         2    3      1  \n",
       "4  39.198295 -77.244900        17   16      7  "
      ]
     },
     "execution_count": 42,
     "metadata": {},
     "output_type": "execute_result"
    }
   ],
   "source": [
    "# loc_crime_df = inputdf[['Latitude', 'Longitude', 'Crime Name1']]\n",
    "loc_crime_df = inputdf[['Crime Name1','Crime Name2', 'Police District Name', 'City', 'Zip Code', 'Place', 'Street Name', 'Latitude', 'Longitude']]\n",
    "dates = pd.to_datetime(inputdf['Start_Date_Time'])\n",
    "  \n",
    "# extract Hours from Timestamp \n",
    "# rs = dates.dt.hour\n",
    "# print(rs)\n",
    "loc_crime_df['dateHour'] = dates.dt.hour\n",
    "loc_crime_df['day'] = dates.dt.day\n",
    "loc_crime_df['month'] = dates.dt.month\n",
    "loc_crime_df.head()\n",
    "# print(loc_crime_df.shape)\n",
    "# loc_crime_df.dtypes\n"
   ]
  },
  {
   "cell_type": "code",
   "execution_count": 43,
   "metadata": {},
   "outputs": [],
   "source": [
    "# Removing Rows on Count condition\n",
    "counts = loc_crime_df['Crime Name2'].value_counts()\n",
    "# print(counts)\n",
    "threshold = 100\n",
    "loc_crime_df = loc_crime_df.loc[loc_crime_df['Crime Name2'].isin(counts.index[counts >= threshold ])]"
   ]
  },
  {
   "cell_type": "code",
   "execution_count": 44,
   "metadata": {},
   "outputs": [
    {
     "name": "stdout",
     "output_type": "stream",
     "text": [
      "Theft From Motor Vehicle                       26776\n",
      "Drug/Narcotic Violations                       23431\n",
      "Simple Assault                                 21506\n",
      "Destruction/Damage/Vandalism of Property       19384\n",
      "Shoplifting                                    16531\n",
      "Driving Under the Influence                    15070\n",
      "All other Larceny                              14292\n",
      "Theft from Building                            11481\n",
      "Burglary/Breaking and Entering                  8934\n",
      "Identity Theft                                  8865\n",
      "Theft of Motor Vehicle Parts or Accessories     7008\n",
      "Motor Vehicle Theft                             6719\n",
      "Liquor Law Violations                           6637\n",
      "False Pretenses/Swindle/Confidence Game         6575\n",
      "Disorderly Conduct                              5033\n",
      "Credit Card/Automatic Teller Machine Fraud      4827\n",
      "Aggravated Assault                              4450\n",
      "Trespass of Real Property                       3960\n",
      "Robbery                                         3645\n",
      "Runaway                                         3644\n",
      "Counterfeiting/Forgery                          3238\n",
      "Weapon Law Violations                           2325\n",
      "Drug Equipment Violations                       1988\n",
      "Impersonation                                   1602\n",
      "Forcible Rape                                   1408\n",
      "Fondling                                        1142\n",
      "Family Offenses, NonViolent                      785\n",
      "Pocket/picking                                   697\n",
      "Forcible Sodomy                                  600\n",
      "Forcible Fondling                                556\n",
      "Embezzlement                                     473\n",
      "Intimidation                                     434\n",
      "Purse-snatching                                  409\n",
      "Sexual Assault With An Object                    404\n",
      "Extortion/Blackmail                              394\n",
      "Arson                                            351\n",
      "Bad Checks                                       338\n",
      "Pornography/Obscene Material                     301\n",
      "Wire Fraud                                       279\n",
      "Not Mapped                                       271\n",
      "NOT NIBRS CODE                                   270\n",
      "Stolen Property Offenses                         227\n",
      "Prostitution                                     182\n",
      "Murder and Nonnegligent Manslaughter             120\n",
      "Peeping Tom                                      111\n",
      "Drunkenness                                      107\n",
      "Name: Crime Name2, dtype: int64\n"
     ]
    }
   ],
   "source": [
    "# Removing Rows on Count condition \n",
    "# Pruning garbage data\n",
    "# loc_crime_df = loc_crime_df[~loc_crime_df['Crime Name2'] == \"All Other Offenses\"]\n",
    "indexAge = loc_crime_df[ loc_crime_df['Crime Name2'] == \"All Other Offenses\" ].index\n",
    "loc_crime_df.drop(indexAge , inplace=True)\n",
    "loc_crime_df.head()\n",
    "counts = loc_crime_df['Crime Name2'].value_counts()\n",
    "print(counts)\n"
   ]
  },
  {
   "cell_type": "markdown",
   "metadata": {},
   "source": [
    "# Taking only Top n classes in a column\n"
   ]
  },
  {
   "cell_type": "code",
   "execution_count": 45,
   "metadata": {},
   "outputs": [],
   "source": [
    "# target_column = 'Crime Name2'\n",
    "# top_n = 5\n",
    "# top_classes = {}\n",
    "# top_classes = loc_crime_df[target_column].value_counts().nlargest(top_n).to_dict()\n",
    "# print(top_classes)\n",
    "# str_array = []\n",
    "# temp_df = pd.DataFrame()\n",
    "# for x in top_classes.keys():\n",
    "#     str_array.append(x)\n",
    "#     rows = loc_crime_df[loc_crime_df[target_column] == str (x) ]\n",
    "#     # print(rows)\n",
    "#     temp_df = temp_df.append(rows)\n",
    "# print(str_array)\n",
    "# temp_df"
   ]
  },
  {
   "cell_type": "markdown",
   "metadata": {},
   "source": [
    "# Dropping null values in Zip code"
   ]
  },
  {
   "cell_type": "code",
   "execution_count": 46,
   "metadata": {},
   "outputs": [
    {
     "name": "stdout",
     "output_type": "stream",
     "text": [
      "(235374, 12)\n"
     ]
    }
   ],
   "source": [
    "loc_crime_df['Zip Code'].value_counts()\n",
    "# loc_crime_df['dateHour'].value_counts()\n",
    "loc_crime_df = loc_crime_df.dropna(axis=0, subset=['Zip Code'])\n",
    "print(loc_crime_df.shape)"
   ]
  },
  {
   "cell_type": "code",
   "execution_count": 47,
   "metadata": {},
   "outputs": [
    {
     "data": {
      "text/html": [
       "<div>\n",
       "<style scoped>\n",
       "    .dataframe tbody tr th:only-of-type {\n",
       "        vertical-align: middle;\n",
       "    }\n",
       "\n",
       "    .dataframe tbody tr th {\n",
       "        vertical-align: top;\n",
       "    }\n",
       "\n",
       "    .dataframe thead th {\n",
       "        text-align: right;\n",
       "    }\n",
       "</style>\n",
       "<table border=\"1\" class=\"dataframe\">\n",
       "  <thead>\n",
       "    <tr style=\"text-align: right;\">\n",
       "      <th></th>\n",
       "      <th>Crime Name1</th>\n",
       "      <th>Crime Name2</th>\n",
       "      <th>Police District Name</th>\n",
       "      <th>City</th>\n",
       "      <th>Zip Code</th>\n",
       "      <th>Place</th>\n",
       "      <th>Street Name</th>\n",
       "      <th>Latitude</th>\n",
       "      <th>Longitude</th>\n",
       "      <th>dateHour</th>\n",
       "      <th>day</th>\n",
       "      <th>month</th>\n",
       "    </tr>\n",
       "  </thead>\n",
       "  <tbody>\n",
       "    <tr>\n",
       "      <th>0</th>\n",
       "      <td>Crime Against Property</td>\n",
       "      <td>Robbery</td>\n",
       "      <td>WHEATON</td>\n",
       "      <td>SILVER SPRING</td>\n",
       "      <td>20902.0</td>\n",
       "      <td>Street - Bus Stop</td>\n",
       "      <td>GEORGIA</td>\n",
       "      <td>39.036270</td>\n",
       "      <td>-77.049900</td>\n",
       "      <td>21</td>\n",
       "      <td>21</td>\n",
       "      <td>12</td>\n",
       "    </tr>\n",
       "    <tr>\n",
       "      <th>2</th>\n",
       "      <td>Crime Against Society</td>\n",
       "      <td>Driving Under the Influence</td>\n",
       "      <td>ROCKVILLE</td>\n",
       "      <td>ROCKVILLE</td>\n",
       "      <td>20850.0</td>\n",
       "      <td>Street - In vehicle</td>\n",
       "      <td>GRANDIN</td>\n",
       "      <td>39.086688</td>\n",
       "      <td>-77.144754</td>\n",
       "      <td>2</td>\n",
       "      <td>3</td>\n",
       "      <td>1</td>\n",
       "    </tr>\n",
       "    <tr>\n",
       "      <th>4</th>\n",
       "      <td>Crime Against Property</td>\n",
       "      <td>Shoplifting</td>\n",
       "      <td>GERMANTOWN</td>\n",
       "      <td>GERMANTOWN</td>\n",
       "      <td>20876.0</td>\n",
       "      <td>Retail - Department/Discount Store</td>\n",
       "      <td>FREDERICK</td>\n",
       "      <td>39.198295</td>\n",
       "      <td>-77.244900</td>\n",
       "      <td>17</td>\n",
       "      <td>16</td>\n",
       "      <td>7</td>\n",
       "    </tr>\n",
       "    <tr>\n",
       "      <th>5</th>\n",
       "      <td>Crime Against Person</td>\n",
       "      <td>Forcible Rape</td>\n",
       "      <td>MONTGOMERY VILLAGE</td>\n",
       "      <td>GAITHERSBURG</td>\n",
       "      <td>20879.0</td>\n",
       "      <td>Residence - Apartment/Condo</td>\n",
       "      <td>SNOUFFER SCHOOL</td>\n",
       "      <td>39.168194</td>\n",
       "      <td>-77.175049</td>\n",
       "      <td>14</td>\n",
       "      <td>21</td>\n",
       "      <td>9</td>\n",
       "    </tr>\n",
       "    <tr>\n",
       "      <th>6</th>\n",
       "      <td>Crime Against Society</td>\n",
       "      <td>Prostitution</td>\n",
       "      <td>ROCKVILLE</td>\n",
       "      <td>ROCKVILLE</td>\n",
       "      <td>20850.0</td>\n",
       "      <td>Retail - Salon/Spa</td>\n",
       "      <td>FREDERICK</td>\n",
       "      <td>39.103443</td>\n",
       "      <td>-77.155941</td>\n",
       "      <td>12</td>\n",
       "      <td>28</td>\n",
       "      <td>2</td>\n",
       "    </tr>\n",
       "  </tbody>\n",
       "</table>\n",
       "</div>"
      ],
      "text/plain": [
       "              Crime Name1                  Crime Name2 Police District Name  \\\n",
       "0  Crime Against Property                      Robbery              WHEATON   \n",
       "2   Crime Against Society  Driving Under the Influence            ROCKVILLE   \n",
       "4  Crime Against Property                  Shoplifting           GERMANTOWN   \n",
       "5    Crime Against Person                Forcible Rape   MONTGOMERY VILLAGE   \n",
       "6   Crime Against Society                 Prostitution            ROCKVILLE   \n",
       "\n",
       "            City  Zip Code                               Place  \\\n",
       "0  SILVER SPRING   20902.0                   Street - Bus Stop   \n",
       "2      ROCKVILLE   20850.0                 Street - In vehicle   \n",
       "4     GERMANTOWN   20876.0  Retail - Department/Discount Store   \n",
       "5   GAITHERSBURG   20879.0         Residence - Apartment/Condo   \n",
       "6      ROCKVILLE   20850.0                  Retail - Salon/Spa   \n",
       "\n",
       "       Street Name   Latitude  Longitude  dateHour  day  month  \n",
       "0          GEORGIA  39.036270 -77.049900        21   21     12  \n",
       "2          GRANDIN  39.086688 -77.144754         2    3      1  \n",
       "4        FREDERICK  39.198295 -77.244900        17   16      7  \n",
       "5  SNOUFFER SCHOOL  39.168194 -77.175049        14   21      9  \n",
       "6        FREDERICK  39.103443 -77.155941        12   28      2  "
      ]
     },
     "execution_count": 47,
     "metadata": {},
     "output_type": "execute_result"
    }
   ],
   "source": [
    "loc_crime_df.head()"
   ]
  },
  {
   "cell_type": "code",
   "execution_count": null,
   "metadata": {},
   "outputs": [],
   "source": [
    "\n",
    "# Md Hasan Shahriar\n",
    "# Tue, Dec 6, 6:51 PM \n",
    "\n",
    "# Going for specigic prediction without geolocation\n",
    "X = loc_crime_df.drop([target_column],axis=1)\n",
    "y = loc_crime_df[target_column]\n",
    "\n",
    "x_train = np.random.rand(10000, 46)\n",
    "y_train = np.random.rand(10000, 10)\n",
    "\n",
    "\n",
    "model = keras.Sequential(\n",
    "    [\n",
    "        keras.Input(shape=46),\n",
    "        layers.Dense(100, activation=\"relu\"),\n",
    "        layers.Dense(50, activation=\"relu\"),\n",
    "        layers.Dense(10, activation=\"softmax\"),\n",
    "    ]\n",
    ")\n",
    "\n",
    "model.summary()\n",
    "\n",
    "\n",
    "batch_size = 128\n",
    "epochs = 15\n",
    "\n",
    "model.compile(loss=\"categorical_crossentropy\", optimizer=\"adam\", metrics=[\"accuracy\"])\n",
    "\n",
    "model.fit(x_train, y_train, batch_size=batch_size, epochs=epochs, validation_split=0.1)"
   ]
  },
  {
   "cell_type": "code",
   "execution_count": null,
   "metadata": {},
   "outputs": [],
   "source": [
    "# # Model / data parameters\n",
    "# num_classes = 10\n",
    "# input_shape = (28, 28, 1)\n",
    "\n",
    "\n",
    "\n",
    "# # Load the data and split it between train and test sets\n",
    "# (x_train, y_train), (x_test, y_test) = keras.datasets.mnist.load_data()\n",
    "\n",
    "# # Scale images to the [0, 1] range\n",
    "# x_train = x_train.astype(\"float32\") / 255\n",
    "# x_test = x_test.astype(\"float32\") / 255\n",
    "# # Make sure images have shape (28, 28, 1)\n",
    "# x_train = np.expand_dims(x_train, -1)\n",
    "# x_test = np.expand_dims(x_test, -1)\n",
    "# print(\"x_train shape:\", x_train.shape)\n",
    "# print(x_train.shape[0], \"train samples\")\n",
    "# print(x_test.shape[0], \"test samples\")\n",
    "\n",
    "\n",
    "# # convert class vectors to binary class matrices\n",
    "# y_train = keras.utils.to_categorical(y_train, num_classes)\n",
    "# y_test = keras.utils.to_categorical(y_test, num_classes)"
   ]
  },
  {
   "cell_type": "code",
   "execution_count": null,
   "metadata": {},
   "outputs": [],
   "source": [
    "print(inputdf.shape)\n",
    "# 'column names are:' \n",
    "inputdf.columns\n",
    "inputdf.dtypes"
   ]
  },
  {
   "cell_type": "markdown",
   "metadata": {},
   "source": [
    "# Build the model\n"
   ]
  },
  {
   "cell_type": "code",
   "execution_count": null,
   "metadata": {},
   "outputs": [],
   "source": [
    "model = keras.Sequential(\n",
    "    [\n",
    "        keras.Input(shape=input_shape),\n",
    "        layers.Conv2D(32, kernel_size=(3, 3), activation=\"relu\"),\n",
    "        layers.MaxPooling2D(pool_size=(2, 2)),\n",
    "        layers.Conv2D(64, kernel_size=(3, 3), activation=\"relu\"),\n",
    "        layers.MaxPooling2D(pool_size=(2, 2)),\n",
    "        layers.Flatten(),\n",
    "        layers.Dropout(0.5),\n",
    "        layers.Dense(num_classes, activation=\"softmax\"),\n",
    "    ]\n",
    ")\n",
    "\n",
    "model.summary()"
   ]
  },
  {
   "cell_type": "markdown",
   "metadata": {},
   "source": [
    "# Train the model\n"
   ]
  },
  {
   "cell_type": "code",
   "execution_count": null,
   "metadata": {},
   "outputs": [],
   "source": [
    "batch_size = 128\n",
    "epochs = 15\n",
    "\n",
    "model.compile(loss=\"categorical_crossentropy\", optimizer=\"adam\", metrics=[\"accuracy\"])\n",
    "\n",
    "model.fit(x_train, y_train, batch_size=batch_size, epochs=epochs, validation_split=0.1)"
   ]
  },
  {
   "cell_type": "markdown",
   "metadata": {},
   "source": [
    "# Evaluate the trained model\n"
   ]
  },
  {
   "cell_type": "code",
   "execution_count": null,
   "metadata": {},
   "outputs": [],
   "source": [
    "score = model.evaluate(x_test, y_test, verbose=0)\n",
    "print(\"Test loss:\", score[0])\n",
    "print(\"Test accuracy:\", score[1])"
   ]
  },
  {
   "cell_type": "markdown",
   "metadata": {},
   "source": [
    "# Later, Columns related with the effect of crime are removed."
   ]
  },
  {
   "cell_type": "code",
   "execution_count": null,
   "metadata": {},
   "outputs": [],
   "source": [
    "unnecessary_columns = ['Dispatch Date / Time', 'Victims', 'Block Address', 'Street Type', 'Agency', 'End_Date_Time']\n",
    "for i in unnecessary_columns:\n",
    "  inputdf = inputdf.drop(i, axis=1)\n",
    "inputdf.head(2)"
   ]
  },
  {
   "cell_type": "markdown",
   "metadata": {},
   "source": [
    "Some columns are confusing to be added now. Such as -\n",
    "\n",
    "* Crime Name3\n",
    "* Zip Code\n",
    "* Street Name\n",
    "* Also we have to take special care of Latitude and Longitude if we want them to include in our feature set."
   ]
  },
  {
   "cell_type": "markdown",
   "metadata": {},
   "source": [
    "# Now we have to visualize the data and fix what to predict from these modified feature set"
   ]
  },
  {
   "cell_type": "code",
   "execution_count": null,
   "metadata": {},
   "outputs": [],
   "source": [
    "# Montgomery County maintained roads\n",
    "# https://data.imap.maryland.gov/datasets/maryland::montgomery-county-maintained-roads/explore?location=39.168559%2C-76.905435%2C9.35\n",
    "# https://catalog.data.gov/dataset/tiger-line-shapefile-2018-county-montgomery-county-md-all-roads-county-based-shapefile\n",
    "# crs = {'init':'EPSG:4326'}\n",
    "montgomery_county_map = gpd.read_file('Zipcodes.shp')\n",
    "print(montgomery_county_map.crs) \n",
    "montgomery_county_map.to_crs(epsg=4326).plot()\n",
    "\n",
    "# Other sources for multiple data view\n",
    "# https://montgomeryplanning.org/tools/gis-and-mapping/map-library/"
   ]
  },
  {
   "cell_type": "markdown",
   "metadata": {},
   "source": [
    "# Drop rows from the dataframe based on certain condition applied on a column\n"
   ]
  },
  {
   "cell_type": "code",
   "execution_count": null,
   "metadata": {},
   "outputs": [],
   "source": [
    "# Filter all rows for Latitude is greater than or equal to 35\n",
    "inputdf = inputdf[inputdf['Latitude'] > 35.0]\n",
    "# inputdf['Latitude'].hist()"
   ]
  },
  {
   "cell_type": "code",
   "execution_count": null,
   "metadata": {},
   "outputs": [],
   "source": [
    "# Filter all rows for Longitude is less than or equal to -70\n",
    "inputdf = inputdf[inputdf['Longitude'] < -70]\n",
    "# inputdf['Longitude'].hist()"
   ]
  },
  {
   "cell_type": "code",
   "execution_count": null,
   "metadata": {},
   "outputs": [],
   "source": [
    "# inputdf['Crime Name2'].value_counts()\n",
    "# # Filter all rows for that has occurances less than 5\n",
    "# inputdf = inputdf[inputdf.columns[inputdf['Crime Name2'].value_counts() > 5]]"
   ]
  },
  {
   "cell_type": "code",
   "execution_count": null,
   "metadata": {},
   "outputs": [],
   "source": [
    "inputdf['Crime Name2'].value_counts()"
   ]
  },
  {
   "cell_type": "markdown",
   "metadata": {},
   "source": [
    "# Export Pandas DataFrame to CSV\n"
   ]
  },
  {
   "cell_type": "code",
   "execution_count": null,
   "metadata": {},
   "outputs": [],
   "source": [
    "\n",
    "# inputdf.to_csv('potential feature set revised.csv')\n"
   ]
  },
  {
   "cell_type": "markdown",
   "metadata": {},
   "source": [
    "# ‘geo_df’ that is a copy of our original data frame but with the newly created ‘geometry’ column.\n"
   ]
  },
  {
   "cell_type": "code",
   "execution_count": null,
   "metadata": {},
   "outputs": [],
   "source": [
    "crs = {'init':'EPSG:4326'}\n",
    "geometry = [Point(xy) for xy in zip(inputdf['Longitude'], inputdf['Latitude'])]\n",
    "geo_df = gpd.GeoDataFrame(inputdf, \n",
    "                          crs = crs, \n",
    "                          geometry = geometry)\n",
    "\n",
    "geo_df.head()"
   ]
  },
  {
   "cell_type": "code",
   "execution_count": null,
   "metadata": {},
   "outputs": [],
   "source": [
    "geo_df.plot()"
   ]
  },
  {
   "cell_type": "markdown",
   "metadata": {},
   "source": [
    "# Visualizing the Crime Data"
   ]
  },
  {
   "cell_type": "code",
   "execution_count": null,
   "metadata": {},
   "outputs": [],
   "source": [
    "fig, ax = plt.subplots(figsize = (20,20))\n",
    "montgomery_county_map.to_crs(epsg=4326).plot(ax=ax, color='lightgrey')\n",
    "geo_df.plot(column = geo_df['Crime Name1'], ax=ax, cmap = 'rainbow',\n",
    "            legend = True, #legend_kwds={'shrink': 0.3}, \n",
    "            markersize = 10)\n",
    "ax.set_title('Montgomery County Crime type data Heatmap')\n",
    "# plt.savefig('Crime Heat Map for Location')"
   ]
  },
  {
   "cell_type": "code",
   "execution_count": null,
   "metadata": {},
   "outputs": [],
   "source": [
    "#geo_df['Crime Name1'].hist()\n",
    "geo_df['Crime Name2'].count()\n",
    "geo_df['Crime Name2'].value_counts()\n",
    "# geo_df.groupby('Crime Name2').count() # per group data count\n",
    "\n",
    "\n",
    "#geo_df['Latitude'].hist()"
   ]
  },
  {
   "cell_type": "markdown",
   "metadata": {},
   "source": [
    "# Separating Train and Test Set for Crime Prediction for Location"
   ]
  },
  {
   "cell_type": "code",
   "execution_count": null,
   "metadata": {},
   "outputs": [],
   "source": [
    "print(inputdf['Crime Name1'].value_counts())"
   ]
  },
  {
   "cell_type": "markdown",
   "metadata": {},
   "source": [
    "# Creating The Location Based Crime Data Frame"
   ]
  },
  {
   "cell_type": "code",
   "execution_count": null,
   "metadata": {},
   "outputs": [],
   "source": [
    "# loc_crime_df = inputdf[['Latitude', 'Longitude', 'Crime Name1']]\n",
    "loc_crime_df = inputdf[['Crime Name1','Crime Name2', 'Police District Name', 'City', 'Zip Code', 'Place', 'Street Name', 'Latitude', 'Longitude']]\n",
    "dates = pd.to_datetime(inputdf['Start_Date_Time'])\n",
    "  \n",
    "# extract Hours from Timestamp \n",
    "# rs = dates.dt.hour\n",
    "# print(rs)\n",
    "loc_crime_df['dateHour'] = dates.dt.hour\n",
    "loc_crime_df['day'] = dates.dt.day\n",
    "loc_crime_df['month'] = dates.dt.month\n",
    "loc_crime_df.head()\n",
    "# print(loc_crime_df.shape)\n",
    "# loc_crime_df.dtypes\n"
   ]
  },
  {
   "cell_type": "code",
   "execution_count": null,
   "metadata": {},
   "outputs": [],
   "source": [
    " # Removing Rows on Count condition\n",
    "counts = loc_crime_df['Crime Name2'].value_counts()\n",
    "# print(counts)\n",
    "threshold = 100\n",
    "loc_crime_df = loc_crime_df.loc[loc_crime_df['Crime Name2'].isin(counts.index[counts >= threshold ])]\n",
    "\n"
   ]
  },
  {
   "cell_type": "code",
   "execution_count": null,
   "metadata": {},
   "outputs": [],
   "source": [
    " # Removing Rows on Count condition \n",
    " # Pruning garbage data\n",
    "# loc_crime_df = loc_crime_df[~loc_crime_df['Crime Name2'] == \"All Other Offenses\"]\n",
    "indexAge = loc_crime_df[ loc_crime_df['Crime Name2'] == \"All Other Offenses\" ].index\n",
    "loc_crime_df.drop(indexAge , inplace=True)\n",
    "loc_crime_df.head()\n",
    "counts = loc_crime_df['Crime Name2'].value_counts()\n",
    "# print(counts)\n"
   ]
  },
  {
   "cell_type": "markdown",
   "metadata": {},
   "source": [
    "# Taking only Top n classes in a column\n"
   ]
  },
  {
   "cell_type": "code",
   "execution_count": null,
   "metadata": {},
   "outputs": [],
   "source": [
    "target_column = 'Crime Name2'\n",
    "top_n = 5\n",
    "top_classes = {}\n",
    "top_classes = loc_crime_df[target_column].value_counts().nlargest(top_n).to_dict()\n",
    "print(top_classes)\n",
    "str_array = []\n",
    "temp_df = pd.DataFrame()\n",
    "for x in top_classes.keys():\n",
    "    str_array.append(x)\n",
    "    rows = loc_crime_df[loc_crime_df[target_column] == str (x) ]\n",
    "    # print(rows)\n",
    "    temp_df = temp_df.append(rows)\n",
    "# print(str_array)\n",
    "# temp_df"
   ]
  },
  {
   "cell_type": "code",
   "execution_count": null,
   "metadata": {},
   "outputs": [],
   "source": [
    "# print(temp_df[target_column].value_counts())\n",
    "loc_crime_df = temp_df\n",
    "print(loc_crime_df[target_column].value_counts())"
   ]
  },
  {
   "cell_type": "markdown",
   "metadata": {},
   "source": [
    "# Dropping null values in Zip code"
   ]
  },
  {
   "cell_type": "code",
   "execution_count": null,
   "metadata": {},
   "outputs": [],
   "source": [
    "loc_crime_df['Zip Code'].value_counts()\n",
    "# loc_crime_df['dateHour'].value_counts()"
   ]
  },
  {
   "cell_type": "code",
   "execution_count": null,
   "metadata": {},
   "outputs": [],
   "source": [
    "loc_crime_df = loc_crime_df.dropna(axis=0, subset=['Zip Code'])\n",
    "print(loc_crime_df.shape)"
   ]
  },
  {
   "cell_type": "code",
   "execution_count": null,
   "metadata": {},
   "outputs": [],
   "source": [
    "# loc_crime_df['Crime Name2'].count()\n",
    "# loc_crime_df['Crime Name2'].value_counts()"
   ]
  },
  {
   "cell_type": "markdown",
   "metadata": {},
   "source": [
    "# Transform the data by label encoding"
   ]
  },
  {
   "cell_type": "code",
   "execution_count": null,
   "metadata": {},
   "outputs": [],
   "source": [
    "encoded_dict ={}\n",
    "temp_df_2 = pd.DataFrame()\n",
    "\n",
    "def label_encoder(y):\n",
    "    le = LabelEncoder()\n",
    "    if str(y) == target_column:\n",
    "        print(loc_crime_df[y])\n",
    "    loc_crime_df[y] = le.fit_transform(loc_crime_df[y])\n",
    "    if str(y) == target_column:\n",
    "        print(loc_crime_df[y])\n",
    "    if str(y) == target_column:\n",
    "        temp_df_2[y] = le.inverse_transform(loc_crime_df[y])\n",
    "        # encoded_dict = {loc_crime_df[y], temp_df_2[y]} \n",
    "    #print(temp_df[y])\n",
    "\n",
    "#loc_crime_df = inputdf[['Crime Name1','Crime Name2', 'Police District Name', 'City', 'Place', 'Street Name']]\n",
    "\n",
    "label_list = ['Crime Name1','Crime Name2', 'Police District Name', 'City', 'Place', 'Street Name']\n",
    "#label_list = ['Crime Name1']\n",
    "\n",
    "for l in label_list:\n",
    "    label_encoder(l)\n",
    "\n",
    "# print(encoded_dict)\n",
    " \n",
    "#Display transformed data\n",
    "loc_crime_df.head()"
   ]
  },
  {
   "cell_type": "code",
   "execution_count": null,
   "metadata": {},
   "outputs": [],
   "source": [
    "# print(loc_crime_df['Crime Name1'].value_counts())\n",
    "# print(temp_df['Crime Name1'].value_counts())"
   ]
  },
  {
   "cell_type": "markdown",
   "metadata": {},
   "source": [
    "# Divide the dataset into independent and dependent variables\n"
   ]
  },
  {
   "cell_type": "code",
   "execution_count": null,
   "metadata": {},
   "outputs": [],
   "source": [
    "# Going for specigic prediction without geolocation\n",
    "X = loc_crime_df.drop([target_column],axis=1)\n",
    "y = loc_crime_df[target_column]\n",
    "\n",
    "# Going for specigic prediction without geolocation\n",
    "# X = loc_crime_df.drop([target_column, 'Latitude', 'Longitude'],axis=1)\n",
    "# y = loc_crime_df[target_column]\n",
    "\n",
    "\n",
    "# Going for generic prediction\n",
    "# X = loc_crime_df.drop([target_column,'Crime Name2', 'Latitude', 'Longitude'],axis=1)\n",
    "# y = loc_crime_df[target_column]\n",
    "\n",
    "print(X)\n"
   ]
  },
  {
   "cell_type": "code",
   "execution_count": null,
   "metadata": {},
   "outputs": [],
   "source": [
    "print(y.value_counts())"
   ]
  },
  {
   "cell_type": "code",
   "execution_count": null,
   "metadata": {},
   "outputs": [],
   "source": [
    "#Split the data into training and testing set\n",
    "X_train,X_test,y_train,y_test=train_test_split(X,y,test_size=0.2,\n",
    "                                               random_state=42, shuffle = True) \n",
    "\n",
    "#Data was splitted as 80% train data and 20% test data.\n",
    "\n",
    "# y_train = y_train.values.reshape(-1,1)\n",
    "# y_test = y_test.values.reshape(-1,1)\n",
    "\n",
    "print(\"X_train shape:\",X_train.shape)\n",
    "print(\"X_test shape:\",X_test.shape)\n",
    "print(\"y_train shape:\",y_train.shape)\n",
    "print(\"y_test shape:\",y_test.shape)"
   ]
  },
  {
   "cell_type": "code",
   "execution_count": null,
   "metadata": {},
   "outputs": [],
   "source": [
    "#Feature Scaling (Standardize the data)\n",
    "sc = StandardScaler()\n",
    "X_train = sc.fit_transform(X_train)\n",
    "X_test = sc.transform(X_test)"
   ]
  },
  {
   "cell_type": "markdown",
   "metadata": {},
   "source": [
    "# We will build all six models and compare their accuracy scores.\n",
    "\n"
   ]
  },
  {
   "cell_type": "code",
   "execution_count": null,
   "metadata": {},
   "outputs": [],
   "source": [
    "#To store results of models, we create two dictionaries\n",
    "result_dict_train = {}\n",
    "result_dict_test = {}"
   ]
  },
  {
   "cell_type": "markdown",
   "metadata": {},
   "source": [
    "# Machine Leaning Models and their performance\n"
   ]
  },
  {
   "cell_type": "code",
   "execution_count": null,
   "metadata": {},
   "outputs": [],
   "source": [
    "models = {'Naïve Bayes Classifier': GaussianNB, 'Decision Tree Classifier' : DecisionTreeClassifier, 'KNN Classifier': KNeighborsClassifier,\n",
    "        'Random Forest Classifier': RandomForestClassifier,'Logistic Regression': LogisticRegression}\n",
    "        # , 'Support Vector Classifier': SVC}\n",
    "# for keys, values in sorted(models.items()):\n",
    "#     print(keys +\" is \"+ values)\n",
    "\n",
    "warnings.filterwarnings(\"ignore\")\n",
    "\n",
    "# for name, model in models.items():\n",
    "#     print(name +\" is \"+ model)\n",
    "    "
   ]
  },
  {
   "cell_type": "code",
   "execution_count": null,
   "metadata": {},
   "outputs": [],
   "source": [
    "for model_name, model_function in models.items():\n",
    "    print(model_name +' is running')\n",
    "    try:\n",
    "        model = model_function(random_state = 42)\n",
    "    except:\n",
    "        if(model_name=='Logistic Regression'):\n",
    "            model = model_function(solver='lbfgs', max_iter=1000)\n",
    "        model = model_function()\n",
    "    accuracies = cross_val_score(model, X_train, y_train, cv=5)\n",
    "    model.fit(X_train,y_train)\n",
    "    y_pred = model.predict(X_test)\n",
    "\n",
    "    #Obtain accuracy\n",
    "    print(\"Train Score:\",np.mean(accuracies))\n",
    "    print(\"Test Score:\",model.score(X_test,y_test))\n",
    "    print(\"Test Score (F1 - micro):\",f1_score(y_test, y_pred, average='micro'))\n",
    "    print(\"Test Score (F1 - macro):\",f1_score(y_test, y_pred, average='macro'))\n",
    "    print(\"Test Score (F1 - weighted):\",f1_score(y_test, y_pred, average='weighted'))\n",
    "\n",
    "    #Confusion matrix\n",
    "    # plot_confusion_matrix(model, X_test, y_test)  \n",
    "    # plt.show()\n",
    "\n",
    "    \n",
    "    # Plot non-normalized confusion matrix\n",
    "    titles_options = [\n",
    "        (\"Normalized confusion matrix\", \"true\"),\n",
    "    ]\n",
    "    for title, normalize in titles_options:\n",
    "        disp = ConfusionMatrixDisplay.from_estimator(\n",
    "            model,\n",
    "            X_test,\n",
    "            y_test,\n",
    "            display_labels=str_array,\n",
    "            cmap=plt.cm.Blues,\n",
    "            normalize=normalize,\n",
    "            xticks_rotation=90,\n",
    "            #yticks_rotation=75,\n",
    "        )\n",
    "        disp.ax_.set_title(title)\n",
    "        # ax[0].set_xticklabels(df_result_train.index,rotation = 75)\n",
    "        # ax[1].set_xticklabels(df_result_test.index,rotation = 75)\n",
    "\n",
    "        print(title)\n",
    "        #print(disp.confusion_matrix)\n",
    "\n",
    "    plt.show()\n",
    "\n",
    "\n",
    "    #Store results in the dictionaries\n",
    "    result_dict_train['Train Score for '+model_name] = np.mean(accuracies)\n",
    "    result_dict_test['Test Score for '+model_name] = model.score(X_test,y_test)\n",
    "    \n"
   ]
  },
  {
   "cell_type": "code",
   "execution_count": null,
   "metadata": {},
   "outputs": [],
   "source": [
    "# lengthy_models = {'Support Vector Classifier': SVC,\n",
    "#         'Random Forest Classifier': RandomForestClassifier}\n",
    "# for model_name, model_function in lengthy_models.items():\n",
    "#     print(model_name +' is running')\n",
    "#     try:\n",
    "#         model = model_function(random_state = 42)\n",
    "#     except:\n",
    "#         model = model_function()\n",
    "#     accuracies = cross_val_score(model, X_train, y_train, cv=5)\n",
    "#     model.fit(X_train,y_train)\n",
    "#     y_pred = model.predict(X_test)\n",
    "\n",
    "#     #Obtain accuracy\n",
    "#     print(\"Train Score:\",np.mean(accuracies))\n",
    "#     print(\"Test Score:\",model.score(X_test,y_test))\n",
    "\n",
    "\n",
    "#     # #Store results in the dictionaries\n",
    "#     # result_dict_train['Train Score for '+model_name] = np.mean(accuracies)\n",
    "#     # result_dict_test['Test Score for '+model_name] = model.score(X_test,y_test)"
   ]
  },
  {
   "cell_type": "markdown",
   "metadata": {},
   "source": [
    "# Compare Accuracy Scores"
   ]
  },
  {
   "cell_type": "code",
   "execution_count": null,
   "metadata": {},
   "outputs": [],
   "source": [
    "df_result_train = pd.DataFrame.from_dict(result_dict_train,orient = \"index\", columns=[\"Score\"])\n",
    "print(df_result_train)\n",
    "\n",
    "df_result_test = pd.DataFrame.from_dict(result_dict_test,orient = \"index\",columns=[\"Score\"])\n",
    "df_result_test\n"
   ]
  },
  {
   "cell_type": "markdown",
   "metadata": {},
   "source": [
    "# Display the accuracy scores"
   ]
  },
  {
   "cell_type": "code",
   "execution_count": null,
   "metadata": {},
   "outputs": [],
   "source": [
    "import seaborn as sns\n",
    "\n",
    "fig,ax = plt.subplots(1,2,figsize=(10,5))\n",
    "sns.barplot(x = df_result_train.index,y = df_result_train.Score,ax = ax[0])\n",
    "sns.barplot(x = df_result_test.index,y = df_result_test.Score,ax = ax[1])\n",
    "ax[0].set_xticklabels(df_result_train.index,rotation = 75)\n",
    "ax[1].set_xticklabels(df_result_test.index,rotation = 75)\n",
    "#plt.show()\n",
    "# plt.savefig('Predicting Specific Crime With Location')"
   ]
  }
 ],
 "metadata": {
  "kernelspec": {
   "display_name": "Python 3.10.8 ('venv-crime': venv)",
   "language": "python",
   "name": "python3"
  },
  "language_info": {
   "codemirror_mode": {
    "name": "ipython",
    "version": 3
   },
   "file_extension": ".py",
   "mimetype": "text/x-python",
   "name": "python",
   "nbconvert_exporter": "python",
   "pygments_lexer": "ipython3",
   "version": "3.10.8"
  },
  "orig_nbformat": 4,
  "vscode": {
   "interpreter": {
    "hash": "56499c78b8adf39f7955f2a02c35c137f6c0ff7ad251ed77d4a99ad021747c15"
   }
  }
 },
 "nbformat": 4,
 "nbformat_minor": 2
}
