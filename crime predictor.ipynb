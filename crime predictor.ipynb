{
 "cells": [
  {
   "cell_type": "code",
   "execution_count": null,
   "metadata": {},
   "outputs": [],
   "source": [
    "import matplotlib.pyplot as plt\n",
    "import pandas as pd\n",
    "import numpy as np\n",
    "import datetime\n",
    "import warnings\n",
    "\n",
    "\n",
    "from sklearn.neighbors import KNeighborsRegressor\n",
    "from sklearn.linear_model import LinearRegression\n",
    "\n",
    "from sklearn.metrics import precision_recall_fscore_support\n",
    "from sklearn.preprocessing import LabelEncoder\n",
    "from sklearn.model_selection import train_test_split\n",
    "from sklearn.model_selection import cross_val_score\n",
    "from sklearn.model_selection import GridSearchCV\n",
    "from sklearn.preprocessing import StandardScaler\n",
    "from sklearn.linear_model import LogisticRegression\n",
    "from sklearn.neighbors import KNeighborsClassifier\n",
    "from sklearn.svm import SVC\n",
    "from sklearn.tree import DecisionTreeClassifier\n",
    "from sklearn.ensemble import RandomForestClassifier\n",
    "from sklearn.naive_bayes import GaussianNB\n",
    "from sklearn.metrics import accuracy_score\n",
    "\n",
    "\n",
    "import geopandas as gpd\n",
    "from shapely.geometry import Point, Polygon\n",
    "\n",
    "# At first we mount the dataset from local file\n",
    "\n",
    "inputdf = pd.read_csv('Crime.csv')"
   ]
  },
  {
   "cell_type": "code",
   "execution_count": null,
   "metadata": {},
   "outputs": [],
   "source": [
    "\n",
    "\n",
    "# sneak peak in the data\n",
    "inputdf.head(2)\n"
   ]
  },
  {
   "cell_type": "code",
   "execution_count": null,
   "metadata": {},
   "outputs": [],
   "source": [
    "print(inputdf.shape)\n",
    "# 'column names are:' \n",
    "inputdf.columns\n",
    "inputdf.dtypes"
   ]
  },
  {
   "cell_type": "markdown",
   "metadata": {},
   "source": [
    "Analyzing the dataset, we observe that columns -\n",
    "\n",
    "\n",
    "* Incident ID\n",
    "*\tOffence Code\n",
    "* CR Number\n",
    "* NIBRS Code\n",
    "* State (All should be MD)\n",
    "* Sector, Beat, PRA - meaningless\n",
    "* Address Number (included in \"Block Address\")\n",
    "* Street Prefix (lots of missing values)\n",
    "* Street Suffix (lots of missing values)\n",
    "* Police District Number (meaningless)\n",
    "* Location (pair of Latitude and Longitude)\n",
    "\n",
    " are unnecessary. So they are removed."
   ]
  },
  {
   "cell_type": "code",
   "execution_count": null,
   "metadata": {},
   "outputs": [],
   "source": [
    "# dropping the unnecessary columns\n",
    "#inputdf = data\n",
    "unnecessary_columns = ['Incident ID', 'Offence Code', 'CR Number', 'NIBRS Code', 'State', 'Sector', 'Beat', 'PRA', 'Address Number', 'Street Prefix', 'Street Suffix', 'Police District Number', 'Location'  ]\n",
    "for i in unnecessary_columns:\n",
    "  inputdf = inputdf.drop(i, axis=1)\n",
    "inputdf.head(2)"
   ]
  },
  {
   "cell_type": "markdown",
   "metadata": {},
   "source": [
    "# Later, Columns related with the effect of crime are removed."
   ]
  },
  {
   "cell_type": "code",
   "execution_count": null,
   "metadata": {},
   "outputs": [],
   "source": [
    "unnecessary_columns = ['Dispatch Date / Time', 'Victims', 'Block Address', 'Street Type', 'Agency', 'End_Date_Time']\n",
    "for i in unnecessary_columns:\n",
    "  inputdf = inputdf.drop(i, axis=1)\n",
    "inputdf.head(2)"
   ]
  },
  {
   "cell_type": "markdown",
   "metadata": {},
   "source": [
    "Some columns are confusing to be added now. Such as -\n",
    "\n",
    "* Crime Name3\n",
    "* Zip Code\n",
    "* Street Name\n",
    "* Also we have to take special care of Latitude and Longitude if we want them to include in our feature set."
   ]
  },
  {
   "cell_type": "markdown",
   "metadata": {},
   "source": [
    "# Now we have to visualize the data and fix what to predict from these modified feature set"
   ]
  },
  {
   "cell_type": "code",
   "execution_count": null,
   "metadata": {},
   "outputs": [],
   "source": [
    "# Montgomery County maintained roads\n",
    "# https://data.imap.maryland.gov/datasets/maryland::montgomery-county-maintained-roads/explore?location=39.168559%2C-76.905435%2C9.35\n",
    "# https://catalog.data.gov/dataset/tiger-line-shapefile-2018-county-montgomery-county-md-all-roads-county-based-shapefile\n",
    "# crs = {'init':'EPSG:4326'}\n",
    "montgomery_county_map = gpd.read_file('Zipcodes.shp')\n",
    "print(montgomery_county_map.crs) \n",
    "montgomery_county_map.to_crs(epsg=4326).plot()\n",
    "\n",
    "# Other sources for multiple data view\n",
    "# https://montgomeryplanning.org/tools/gis-and-mapping/map-library/"
   ]
  },
  {
   "cell_type": "markdown",
   "metadata": {},
   "source": [
    "# Drop rows from the dataframe based on certain condition applied on a column\n"
   ]
  },
  {
   "cell_type": "code",
   "execution_count": null,
   "metadata": {},
   "outputs": [],
   "source": [
    "# Filter all rows for Latitude is greater than or equal to 35\n",
    "inputdf = inputdf[inputdf['Latitude'] > 35.0]\n",
    "# inputdf['Latitude'].hist()"
   ]
  },
  {
   "cell_type": "code",
   "execution_count": null,
   "metadata": {},
   "outputs": [],
   "source": [
    "# Filter all rows for Longitude is less than or equal to -70\n",
    "inputdf = inputdf[inputdf['Longitude'] < -70]\n",
    "# inputdf['Longitude'].hist()"
   ]
  },
  {
   "cell_type": "code",
   "execution_count": null,
   "metadata": {},
   "outputs": [],
   "source": [
    "# inputdf['Crime Name2'].value_counts()\n",
    "# # Filter all rows for that has occurances less than 5\n",
    "# inputdf = inputdf[inputdf.columns[inputdf['Crime Name2'].value_counts() > 5]]"
   ]
  },
  {
   "cell_type": "code",
   "execution_count": null,
   "metadata": {},
   "outputs": [],
   "source": [
    "inputdf['Crime Name2'].value_counts()"
   ]
  },
  {
   "cell_type": "markdown",
   "metadata": {},
   "source": [
    "# Export Pandas DataFrame to CSV\n"
   ]
  },
  {
   "cell_type": "code",
   "execution_count": null,
   "metadata": {},
   "outputs": [],
   "source": [
    "\n",
    "# inputdf.to_csv('potential feature set revised.csv')\n"
   ]
  },
  {
   "cell_type": "markdown",
   "metadata": {},
   "source": [
    "# ‘geo_df’ that is a copy of our original data frame but with the newly created ‘geometry’ column.\n"
   ]
  },
  {
   "cell_type": "code",
   "execution_count": null,
   "metadata": {},
   "outputs": [],
   "source": [
    "crs = {'init':'EPSG:4326'}\n",
    "geometry = [Point(xy) for xy in zip(inputdf['Longitude'], inputdf['Latitude'])]\n",
    "geo_df = gpd.GeoDataFrame(inputdf, \n",
    "                          crs = crs, \n",
    "                          geometry = geometry)\n",
    "\n",
    "geo_df.head()"
   ]
  },
  {
   "cell_type": "code",
   "execution_count": null,
   "metadata": {},
   "outputs": [],
   "source": [
    "geo_df.plot()"
   ]
  },
  {
   "cell_type": "markdown",
   "metadata": {},
   "source": [
    "# Visualizing the Crime Data"
   ]
  },
  {
   "cell_type": "code",
   "execution_count": null,
   "metadata": {},
   "outputs": [],
   "source": [
    "fig, ax = plt.subplots(figsize = (20,20))\n",
    "montgomery_county_map.to_crs(epsg=4326).plot(ax=ax, color='lightgrey')\n",
    "geo_df.plot(column = geo_df['Crime Name1'], ax=ax, cmap = 'rainbow',\n",
    "            legend = True, #legend_kwds={'shrink': 0.3}, \n",
    "            markersize = 10)\n",
    "ax.set_title('Montgomery County Crime type data Heatmap')\n",
    "# plt.savefig('Crime Heat Map for Location')"
   ]
  },
  {
   "cell_type": "code",
   "execution_count": null,
   "metadata": {},
   "outputs": [],
   "source": [
    "#geo_df['Crime Name1'].hist()\n",
    "geo_df['Crime Name2'].count()\n",
    "geo_df['Crime Name2'].value_counts()\n",
    "# geo_df.groupby('Crime Name2').count() # per group data count\n",
    "\n",
    "\n",
    "#geo_df['Latitude'].hist()"
   ]
  },
  {
   "cell_type": "markdown",
   "metadata": {},
   "source": [
    "# Separating Train and Test Set for Crime Prediction for Location"
   ]
  },
  {
   "cell_type": "code",
   "execution_count": null,
   "metadata": {},
   "outputs": [],
   "source": [
    "# loc_crime_df = inputdf[['Latitude', 'Longitude', 'Crime Name1']]\n",
    "loc_crime_df = inputdf[['Crime Name1','Crime Name2', 'Police District Name', 'City', 'Zip Code', 'Place', 'Street Name', 'Latitude', 'Longitude']]\n",
    "dates = pd.to_datetime(inputdf['Start_Date_Time'])\n",
    "  \n",
    "# extract Hours from Timestamp \n",
    "# rs = dates.dt.hour\n",
    "# print(rs)\n",
    "loc_crime_df['dateHour'] = dates.dt.hour\n",
    "loc_crime_df['day'] = dates.dt.day\n",
    "loc_crime_df['month'] = dates.dt.month\n",
    "loc_crime_df.head()\n"
   ]
  },
  {
   "cell_type": "code",
   "execution_count": null,
   "metadata": {},
   "outputs": [],
   "source": [
    "print(loc_crime_df.shape)\n",
    "loc_crime_df.dtypes"
   ]
  },
  {
   "cell_type": "code",
   "execution_count": null,
   "metadata": {},
   "outputs": [],
   "source": [
    " # Removing Rows on Count condition\n",
    "counts = loc_crime_df['Crime Name2'].value_counts()\n",
    "print(counts)\n",
    "threshold = 100\n",
    "loc_crime_df = loc_crime_df.loc[loc_crime_df['Crime Name2'].isin(counts.index[counts >= threshold ])]\n"
   ]
  },
  {
   "cell_type": "code",
   "execution_count": null,
   "metadata": {},
   "outputs": [],
   "source": [
    " # Removing Rows on Count condition \n",
    " # Pruning garbage data\n",
    "# loc_crime_df = loc_crime_df[~loc_crime_df['Crime Name2'] == \"All Other Offenses\"]\n",
    "indexAge = loc_crime_df[ loc_crime_df['Crime Name2'] == \"All Other Offenses\" ].index\n",
    "loc_crime_df.drop(indexAge , inplace=True)\n",
    "loc_crime_df.head()\n",
    "counts = loc_crime_df['Crime Name2'].value_counts()\n",
    "print(counts)\n"
   ]
  },
  {
   "cell_type": "markdown",
   "metadata": {},
   "source": [
    "# Dropping null values in Zip code"
   ]
  },
  {
   "cell_type": "code",
   "execution_count": null,
   "metadata": {},
   "outputs": [],
   "source": [
    "loc_crime_df['Zip Code'].value_counts()\n",
    "# loc_crime_df['dateHour'].value_counts()"
   ]
  },
  {
   "cell_type": "code",
   "execution_count": null,
   "metadata": {},
   "outputs": [],
   "source": [
    "loc_crime_df = loc_crime_df.dropna(axis=0, subset=['Zip Code'])\n",
    "print(loc_crime_df.shape)"
   ]
  },
  {
   "cell_type": "code",
   "execution_count": null,
   "metadata": {},
   "outputs": [],
   "source": [
    "# loc_crime_df['Crime Name2'].count()\n",
    "# loc_crime_df['Crime Name2'].value_counts()"
   ]
  },
  {
   "cell_type": "markdown",
   "metadata": {},
   "source": [
    "# Transform the data by label encoding"
   ]
  },
  {
   "cell_type": "code",
   "execution_count": null,
   "metadata": {},
   "outputs": [],
   "source": [
    "def label_encoder(y):\n",
    "    le = LabelEncoder()\n",
    "    loc_crime_df[y] = le.fit_transform(loc_crime_df[y])\n",
    "\n",
    "#loc_crime_df = inputdf[['Crime Name1','Crime Name2', 'Police District Name', 'City', 'Place', 'Street Name']]\n",
    "\n",
    "label_list = ['Crime Name1','Crime Name2', 'Police District Name', 'City', 'Place', 'Street Name']\n",
    " \n",
    "for l in label_list:\n",
    "    label_encoder(l)\n",
    " \n",
    "#Display transformed data\n",
    "loc_crime_df.head()"
   ]
  },
  {
   "cell_type": "code",
   "execution_count": null,
   "metadata": {},
   "outputs": [],
   "source": [
    "#Divide the dataset into independent and dependent variables\n",
    "# X = loc_crime_df.drop(['Crime Name2'],axis=1)\n",
    "# y = loc_crime_df['Crime Name2']\n",
    "\n",
    "\n",
    "# Going for generic prediction\n",
    "X = loc_crime_df.drop(['Crime Name1','Crime Name2', 'Latitude', 'Longitude'],axis=1)\n",
    "y = loc_crime_df['Crime Name1']\n",
    "\n",
    "#Split the data into training and testing set\n",
    "X_train,X_test,y_train,y_test=train_test_split(X,y,test_size=0.2,\n",
    "                                               random_state=42, shuffle = True) \n",
    "\n",
    "#Data was splitted as 80% train data and 20% test data.\n",
    "\n",
    "# y_train = y_train.values.reshape(-1,1)\n",
    "# y_test = y_test.values.reshape(-1,1)\n",
    "\n",
    "print(\"X_train shape:\",X_train.shape)\n",
    "print(\"X_test shape:\",X_test.shape)\n",
    "print(\"y_train shape:\",y_train.shape)\n",
    "print(\"y_test shape:\",y_test.shape)"
   ]
  },
  {
   "cell_type": "code",
   "execution_count": null,
   "metadata": {},
   "outputs": [],
   "source": [
    "#Feature Scaling (Standardize the data)\n",
    "sc = StandardScaler()\n",
    "X_train = sc.fit_transform(X_train)\n",
    "X_test = sc.transform(X_test)"
   ]
  },
  {
   "cell_type": "markdown",
   "metadata": {},
   "source": [
    "# We will build all six models and compare their accuracy scores.\n",
    "\n"
   ]
  },
  {
   "cell_type": "code",
   "execution_count": null,
   "metadata": {},
   "outputs": [],
   "source": [
    "#To store results of models, we create two dictionaries\n",
    "result_dict_train = {}\n",
    "result_dict_test = {}"
   ]
  },
  {
   "cell_type": "markdown",
   "metadata": {},
   "source": [
    "# Machine Leaning Models and their performance\n"
   ]
  },
  {
   "cell_type": "code",
   "execution_count": null,
   "metadata": {},
   "outputs": [],
   "source": [
    "models = {'Naïve Bayes Classifier': GaussianNB, 'Decision Tree Classifier' : DecisionTreeClassifier, 'KNN Classifier': KNeighborsClassifier,\n",
    "        'Random Forest Classifier': RandomForestClassifier,'Logistic Regression': LogisticRegression}\n",
    "        # , 'Support Vector Classifier': SVC}\n",
    "# for keys, values in sorted(models.items()):\n",
    "#     print(keys +\" is \"+ values)\n",
    "\n",
    "warnings.filterwarnings(\"ignore\")\n",
    "\n",
    "# for name, model in models.items():\n",
    "#     print(name +\" is \"+ model)\n",
    "    "
   ]
  },
  {
   "cell_type": "code",
   "execution_count": null,
   "metadata": {},
   "outputs": [],
   "source": [
    "for model_name, model_function in models.items():\n",
    "    print(model_name +' is running')\n",
    "    try:\n",
    "        model = model_function(random_state = 42)\n",
    "    except:\n",
    "        if(model_name=='Logistic Regression'):\n",
    "            model = model_function(solver='lbfgs', max_iter=1000)\n",
    "        model = model_function()\n",
    "    accuracies = cross_val_score(model, X_train, y_train, cv=5)\n",
    "    model.fit(X_train,y_train)\n",
    "    y_pred = model.predict(X_test)\n",
    "\n",
    "    #Obtain accuracy\n",
    "    print(\"Train Score:\",np.mean(accuracies))\n",
    "    print(\"Test Score:\",model.score(X_test,y_test))\n",
    "\n",
    "\n",
    "    #Store results in the dictionaries\n",
    "    result_dict_train['Train Score for '+model_name] = np.mean(accuracies)\n",
    "    result_dict_test['Test Score for '+model_name] = model.score(X_test,y_test)\n",
    "    \n"
   ]
  },
  {
   "cell_type": "code",
   "execution_count": null,
   "metadata": {},
   "outputs": [],
   "source": [
    "# lengthy_models = {'Support Vector Classifier': SVC,\n",
    "#         'Random Forest Classifier': RandomForestClassifier}\n",
    "# for model_name, model_function in lengthy_models.items():\n",
    "#     print(model_name +' is running')\n",
    "#     try:\n",
    "#         model = model_function(random_state = 42)\n",
    "#     except:\n",
    "#         model = model_function()\n",
    "#     accuracies = cross_val_score(model, X_train, y_train, cv=5)\n",
    "#     model.fit(X_train,y_train)\n",
    "#     y_pred = model.predict(X_test)\n",
    "\n",
    "#     #Obtain accuracy\n",
    "#     print(\"Train Score:\",np.mean(accuracies))\n",
    "#     print(\"Test Score:\",model.score(X_test,y_test))\n",
    "\n",
    "\n",
    "#     # #Store results in the dictionaries\n",
    "#     # result_dict_train['Train Score for '+model_name] = np.mean(accuracies)\n",
    "#     # result_dict_test['Test Score for '+model_name] = model.score(X_test,y_test)"
   ]
  },
  {
   "cell_type": "markdown",
   "metadata": {},
   "source": [
    "# Compare Accuracy Scores"
   ]
  },
  {
   "cell_type": "code",
   "execution_count": null,
   "metadata": {},
   "outputs": [],
   "source": [
    "df_result_train = pd.DataFrame.from_dict(result_dict_train,orient = \"index\", columns=[\"Score\"])\n",
    "print(df_result_train)\n",
    "\n",
    "df_result_test = pd.DataFrame.from_dict(result_dict_test,orient = \"index\",columns=[\"Score\"])\n",
    "df_result_test\n"
   ]
  },
  {
   "cell_type": "markdown",
   "metadata": {},
   "source": [
    "# Display the accuracy scores"
   ]
  },
  {
   "cell_type": "code",
   "execution_count": null,
   "metadata": {},
   "outputs": [],
   "source": [
    "import seaborn as sns\n",
    "\n",
    "fig,ax = plt.subplots(1,2,figsize=(20,5))\n",
    "sns.barplot(x = df_result_train.index,y = df_result_train.Score,ax = ax[0])\n",
    "sns.barplot(x = df_result_test.index,y = df_result_test.Score,ax = ax[1])\n",
    "ax[0].set_xticklabels(df_result_train.index,rotation = 75)\n",
    "ax[1].set_xticklabels(df_result_test.index,rotation = 75)\n",
    "plt.show()"
   ]
  }
 ],
 "metadata": {
  "kernelspec": {
   "display_name": "Python 3.9.13 ('base')",
   "language": "python",
   "name": "python3"
  },
  "language_info": {
   "codemirror_mode": {
    "name": "ipython",
    "version": 3
   },
   "file_extension": ".py",
   "mimetype": "text/x-python",
   "name": "python",
   "nbconvert_exporter": "python",
   "pygments_lexer": "ipython3",
   "version": "3.9.13"
  },
  "orig_nbformat": 4,
  "vscode": {
   "interpreter": {
    "hash": "ad2bdc8ecc057115af97d19610ffacc2b4e99fae6737bb82f5d7fb13d2f2c186"
   }
  }
 },
 "nbformat": 4,
 "nbformat_minor": 2
}
