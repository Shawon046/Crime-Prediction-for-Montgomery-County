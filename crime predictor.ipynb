{
 "cells": [
  {
   "cell_type": "code",
   "execution_count": 28,
   "metadata": {},
   "outputs": [
    {
     "name": "stderr",
     "output_type": "stream",
     "text": [
      "C:\\Users\\shawo\\AppData\\Local\\Temp\\ipykernel_18500\\231787105.py:19: DtypeWarning: Columns (1,18) have mixed types. Specify dtype option on import or set low_memory=False.\n",
      "  inputdf = pd.read_csv('Crime.csv')\n"
     ]
    }
   ],
   "source": [
    "import matplotlib.pyplot as plt\n",
    "import pandas as pd\n",
    "import numpy as np\n",
    "import datetime\n",
    "import warnings\n",
    "from sklearn.neighbors import KNeighborsRegressor\n",
    "from sklearn.linear_model import LinearRegression\n",
    "from sklearn.model_selection import train_test_split\n",
    "from sklearn.metrics import precision_recall_fscore_support\n",
    "# import sys\n",
    "# sys.path.insert(0,'../')\n",
    "\n",
    "\n",
    "import geopandas as gpd\n",
    "from shapely.geometry import Point, Polygon\n",
    "\n",
    "# At first we mount the dataset from local file\n",
    "\n",
    "inputdf = pd.read_csv('Crime.csv')"
   ]
  },
  {
   "cell_type": "code",
   "execution_count": 29,
   "metadata": {},
   "outputs": [
    {
     "data": {
      "text/html": [
       "<div>\n",
       "<style scoped>\n",
       "    .dataframe tbody tr th:only-of-type {\n",
       "        vertical-align: middle;\n",
       "    }\n",
       "\n",
       "    .dataframe tbody tr th {\n",
       "        vertical-align: top;\n",
       "    }\n",
       "\n",
       "    .dataframe thead th {\n",
       "        text-align: right;\n",
       "    }\n",
       "</style>\n",
       "<table border=\"1\" class=\"dataframe\">\n",
       "  <thead>\n",
       "    <tr style=\"text-align: right;\">\n",
       "      <th></th>\n",
       "      <th>Incident ID</th>\n",
       "      <th>Offence Code</th>\n",
       "      <th>CR Number</th>\n",
       "      <th>Dispatch Date / Time</th>\n",
       "      <th>NIBRS Code</th>\n",
       "      <th>Victims</th>\n",
       "      <th>Crime Name1</th>\n",
       "      <th>Crime Name2</th>\n",
       "      <th>Crime Name3</th>\n",
       "      <th>Police District Name</th>\n",
       "      <th>...</th>\n",
       "      <th>Street Prefix</th>\n",
       "      <th>Street Name</th>\n",
       "      <th>Street Suffix</th>\n",
       "      <th>Street Type</th>\n",
       "      <th>Start_Date_Time</th>\n",
       "      <th>End_Date_Time</th>\n",
       "      <th>Latitude</th>\n",
       "      <th>Longitude</th>\n",
       "      <th>Police District Number</th>\n",
       "      <th>Location</th>\n",
       "    </tr>\n",
       "  </thead>\n",
       "  <tbody>\n",
       "    <tr>\n",
       "      <th>0</th>\n",
       "      <td>201219928</td>\n",
       "      <td>1204</td>\n",
       "      <td>180063894</td>\n",
       "      <td>12/21/2018 09:13:13 PM</td>\n",
       "      <td>120</td>\n",
       "      <td>1</td>\n",
       "      <td>Crime Against Property</td>\n",
       "      <td>Robbery</td>\n",
       "      <td>ROBBERY - STREET-GUN</td>\n",
       "      <td>WHEATON</td>\n",
       "      <td>...</td>\n",
       "      <td>NaN</td>\n",
       "      <td>GEORGIA</td>\n",
       "      <td>NaN</td>\n",
       "      <td>AVE</td>\n",
       "      <td>12/21/2018 09:13:00 PM</td>\n",
       "      <td>NaN</td>\n",
       "      <td>39.03627</td>\n",
       "      <td>-77.0499</td>\n",
       "      <td>4D</td>\n",
       "      <td>(39.0363, -77.0499)</td>\n",
       "    </tr>\n",
       "    <tr>\n",
       "      <th>1</th>\n",
       "      <td>201301798</td>\n",
       "      <td>5016</td>\n",
       "      <td>200035833</td>\n",
       "      <td>09/13/2020 12:26:58 AM</td>\n",
       "      <td>90Z</td>\n",
       "      <td>1</td>\n",
       "      <td>Crime Against Society</td>\n",
       "      <td>All Other Offenses</td>\n",
       "      <td>OBSTRUCT GOVT - VIOLATION OF A COURT ORDER</td>\n",
       "      <td>GERMANTOWN</td>\n",
       "      <td>...</td>\n",
       "      <td>NaN</td>\n",
       "      <td>COLTRANE</td>\n",
       "      <td>NaN</td>\n",
       "      <td>DR</td>\n",
       "      <td>08/08/2020 05:10:00 PM</td>\n",
       "      <td>08/08/2020 12:00:00 AM</td>\n",
       "      <td>39.27784</td>\n",
       "      <td>-77.2115</td>\n",
       "      <td>5D</td>\n",
       "      <td>(39.2778, -77.2115)</td>\n",
       "    </tr>\n",
       "  </tbody>\n",
       "</table>\n",
       "<p>2 rows × 30 columns</p>\n",
       "</div>"
      ],
      "text/plain": [
       "   Incident ID Offence Code  CR Number    Dispatch Date / Time NIBRS Code  \\\n",
       "0    201219928         1204  180063894  12/21/2018 09:13:13 PM        120   \n",
       "1    201301798         5016  200035833  09/13/2020 12:26:58 AM        90Z   \n",
       "\n",
       "   Victims             Crime Name1         Crime Name2  \\\n",
       "0        1  Crime Against Property             Robbery   \n",
       "1        1   Crime Against Society  All Other Offenses   \n",
       "\n",
       "                                  Crime Name3 Police District Name  ...  \\\n",
       "0                        ROBBERY - STREET-GUN              WHEATON  ...   \n",
       "1  OBSTRUCT GOVT - VIOLATION OF A COURT ORDER           GERMANTOWN  ...   \n",
       "\n",
       "  Street Prefix Street Name Street Suffix  Street Type  \\\n",
       "0           NaN     GEORGIA           NaN          AVE   \n",
       "1           NaN    COLTRANE           NaN           DR   \n",
       "\n",
       "          Start_Date_Time           End_Date_Time  Latitude Longitude  \\\n",
       "0  12/21/2018 09:13:00 PM                     NaN  39.03627  -77.0499   \n",
       "1  08/08/2020 05:10:00 PM  08/08/2020 12:00:00 AM  39.27784  -77.2115   \n",
       "\n",
       "  Police District Number             Location  \n",
       "0                     4D  (39.0363, -77.0499)  \n",
       "1                     5D  (39.2778, -77.2115)  \n",
       "\n",
       "[2 rows x 30 columns]"
      ]
     },
     "execution_count": 29,
     "metadata": {},
     "output_type": "execute_result"
    }
   ],
   "source": [
    "\n",
    "\n",
    "# sneak peak in the data\n",
    "inputdf.head(2)\n"
   ]
  },
  {
   "cell_type": "code",
   "execution_count": 30,
   "metadata": {},
   "outputs": [
    {
     "name": "stdout",
     "output_type": "stream",
     "text": [
      "(312297, 30)\n"
     ]
    },
    {
     "data": {
      "text/plain": [
       "Index(['Incident ID', 'Offence Code', 'CR Number', 'Dispatch Date / Time',\n",
       "       'NIBRS Code', 'Victims', 'Crime Name1', 'Crime Name2', 'Crime Name3',\n",
       "       'Police District Name', 'Block Address', 'City', 'State', 'Zip Code',\n",
       "       'Agency', 'Place', 'Sector', 'Beat', 'PRA', 'Address Number',\n",
       "       'Street Prefix', 'Street Name', 'Street Suffix', 'Street Type',\n",
       "       'Start_Date_Time', 'End_Date_Time', 'Latitude', 'Longitude',\n",
       "       'Police District Number', 'Location'],\n",
       "      dtype='object')"
      ]
     },
     "execution_count": 30,
     "metadata": {},
     "output_type": "execute_result"
    }
   ],
   "source": [
    "print(inputdf.shape)\n",
    "# 'column names are:' \n",
    "inputdf.columns"
   ]
  },
  {
   "cell_type": "markdown",
   "metadata": {},
   "source": [
    "Analyzing the dataset, we observe that columns -\n",
    "\n",
    "\n",
    "* Incident ID\n",
    "*\tOffence Code\n",
    "* CR Number\n",
    "* NIBRS Code\n",
    "* State (All should be MD)\n",
    "* Sector, Beat, PRA - meaningless\n",
    "* Address Number (included in \"Block Address\")\n",
    "* Street Prefix (lots of missing values)\n",
    "* Street Suffix (lots of missing values)\n",
    "* Police District Number (meaningless)\n",
    "* Location (pair of Latitude and Longitude)\n",
    "\n",
    " are unnecessary. So they are removed."
   ]
  },
  {
   "cell_type": "code",
   "execution_count": 31,
   "metadata": {},
   "outputs": [
    {
     "data": {
      "text/html": [
       "<div>\n",
       "<style scoped>\n",
       "    .dataframe tbody tr th:only-of-type {\n",
       "        vertical-align: middle;\n",
       "    }\n",
       "\n",
       "    .dataframe tbody tr th {\n",
       "        vertical-align: top;\n",
       "    }\n",
       "\n",
       "    .dataframe thead th {\n",
       "        text-align: right;\n",
       "    }\n",
       "</style>\n",
       "<table border=\"1\" class=\"dataframe\">\n",
       "  <thead>\n",
       "    <tr style=\"text-align: right;\">\n",
       "      <th></th>\n",
       "      <th>Dispatch Date / Time</th>\n",
       "      <th>Victims</th>\n",
       "      <th>Crime Name1</th>\n",
       "      <th>Crime Name2</th>\n",
       "      <th>Crime Name3</th>\n",
       "      <th>Police District Name</th>\n",
       "      <th>Block Address</th>\n",
       "      <th>City</th>\n",
       "      <th>Zip Code</th>\n",
       "      <th>Agency</th>\n",
       "      <th>Place</th>\n",
       "      <th>Street Name</th>\n",
       "      <th>Street Type</th>\n",
       "      <th>Start_Date_Time</th>\n",
       "      <th>End_Date_Time</th>\n",
       "      <th>Latitude</th>\n",
       "      <th>Longitude</th>\n",
       "    </tr>\n",
       "  </thead>\n",
       "  <tbody>\n",
       "    <tr>\n",
       "      <th>0</th>\n",
       "      <td>12/21/2018 09:13:13 PM</td>\n",
       "      <td>1</td>\n",
       "      <td>Crime Against Property</td>\n",
       "      <td>Robbery</td>\n",
       "      <td>ROBBERY - STREET-GUN</td>\n",
       "      <td>WHEATON</td>\n",
       "      <td>11100 BLK  GEORGIA AVE</td>\n",
       "      <td>SILVER SPRING</td>\n",
       "      <td>20902.0</td>\n",
       "      <td>MCPD</td>\n",
       "      <td>Street - Bus Stop</td>\n",
       "      <td>GEORGIA</td>\n",
       "      <td>AVE</td>\n",
       "      <td>12/21/2018 09:13:00 PM</td>\n",
       "      <td>NaN</td>\n",
       "      <td>39.03627</td>\n",
       "      <td>-77.0499</td>\n",
       "    </tr>\n",
       "    <tr>\n",
       "      <th>1</th>\n",
       "      <td>09/13/2020 12:26:58 AM</td>\n",
       "      <td>1</td>\n",
       "      <td>Crime Against Society</td>\n",
       "      <td>All Other Offenses</td>\n",
       "      <td>OBSTRUCT GOVT - VIOLATION OF A COURT ORDER</td>\n",
       "      <td>GERMANTOWN</td>\n",
       "      <td>25600 BLK  COLTRANE DR</td>\n",
       "      <td>DAMASCUS</td>\n",
       "      <td>20872.0</td>\n",
       "      <td>MCPD</td>\n",
       "      <td>Parking Lot - Residential</td>\n",
       "      <td>COLTRANE</td>\n",
       "      <td>DR</td>\n",
       "      <td>08/08/2020 05:10:00 PM</td>\n",
       "      <td>08/08/2020 12:00:00 AM</td>\n",
       "      <td>39.27784</td>\n",
       "      <td>-77.2115</td>\n",
       "    </tr>\n",
       "  </tbody>\n",
       "</table>\n",
       "</div>"
      ],
      "text/plain": [
       "     Dispatch Date / Time  Victims             Crime Name1  \\\n",
       "0  12/21/2018 09:13:13 PM        1  Crime Against Property   \n",
       "1  09/13/2020 12:26:58 AM        1   Crime Against Society   \n",
       "\n",
       "          Crime Name2                                 Crime Name3  \\\n",
       "0             Robbery                        ROBBERY - STREET-GUN   \n",
       "1  All Other Offenses  OBSTRUCT GOVT - VIOLATION OF A COURT ORDER   \n",
       "\n",
       "  Police District Name           Block Address           City  Zip Code  \\\n",
       "0              WHEATON  11100 BLK  GEORGIA AVE  SILVER SPRING   20902.0   \n",
       "1           GERMANTOWN  25600 BLK  COLTRANE DR       DAMASCUS   20872.0   \n",
       "\n",
       "  Agency                      Place Street Name Street Type  \\\n",
       "0   MCPD          Street - Bus Stop     GEORGIA         AVE   \n",
       "1   MCPD  Parking Lot - Residential    COLTRANE          DR   \n",
       "\n",
       "          Start_Date_Time           End_Date_Time  Latitude  Longitude  \n",
       "0  12/21/2018 09:13:00 PM                     NaN  39.03627   -77.0499  \n",
       "1  08/08/2020 05:10:00 PM  08/08/2020 12:00:00 AM  39.27784   -77.2115  "
      ]
     },
     "execution_count": 31,
     "metadata": {},
     "output_type": "execute_result"
    }
   ],
   "source": [
    "# dropping the unnecessary columns\n",
    "#inputdf = data\n",
    "unnecessary_columns = ['Incident ID', 'Offence Code', 'CR Number', 'NIBRS Code', 'State', 'Sector', 'Beat', 'PRA', 'Address Number', 'Street Prefix', 'Street Suffix', 'Police District Number', 'Location'  ]\n",
    "for i in unnecessary_columns:\n",
    "  inputdf = inputdf.drop(i, axis=1)\n",
    "inputdf.head(2)"
   ]
  },
  {
   "cell_type": "markdown",
   "metadata": {},
   "source": [
    "Now we have to visualize the data and fix what to predict from these modified feature set"
   ]
  },
  {
   "cell_type": "code",
   "execution_count": null,
   "metadata": {},
   "outputs": [],
   "source": [
    "\n",
    "\n",
    "# nybb = geopandas.read_file(geopandas.datasets.get_path(\"nybb\"))\n",
    "# world = geopandas.read_file(geopandas.datasets.get_path(\"naturalearth_lowres\"))\n",
    "# cities = geopandas.read_file(geopandas.datasets.get_path(\"naturalearth_cities\"))\n",
    "# nybb.explore()\n"
   ]
  },
  {
   "cell_type": "code",
   "execution_count": null,
   "metadata": {},
   "outputs": [],
   "source": [
    "plt.scatter(x=data['Longitude'], y=data['Latitude'])\n",
    "plt.show()\n",
    "\n",
    "import pandas as pd\n",
    "from shapely.geometry import Point\n",
    "import geopandas as gpd\n",
    "from geopandas import GeoDataFrame\n",
    "\n",
    "df = pd.read_csv(\"Long_Lats.csv\", delimiter=',', skiprows=0, low_memory=False)\n",
    "\n",
    "geometry = [Point(xy) for xy in zip(df['Longitude'], df['Latitude'])]\n",
    "gdf = GeoDataFrame(df, geometry=geometry)   \n",
    "\n",
    "#this is a simple map that goes with geopandas\n",
    "world = gpd.read_file(gpd.datasets.get_path('naturalearth_lowres'))\n",
    "gdf.plot(ax=world.plot(figsize=(10, 6)), marker='o', color='red', markersize=15);"
   ]
  },
  {
   "cell_type": "code",
   "execution_count": 49,
   "metadata": {},
   "outputs": [
    {
     "name": "stdout",
     "output_type": "stream",
     "text": [
      "PROJCS[\"NAD83 / Maryland (ftUS)\",GEOGCS[\"NAD83\",DATUM[\"North_American_Datum_1983\",SPHEROID[\"GRS 1980\",6378137,298.257222101,AUTHORITY[\"EPSG\",\"7019\"]],AUTHORITY[\"EPSG\",\"6269\"]],PRIMEM[\"Greenwich\",0],UNIT[\"Degree\",0.0174532925199433]],PROJECTION[\"Lambert_Conformal_Conic_2SP\"],PARAMETER[\"latitude_of_origin\",37.6666666666667],PARAMETER[\"central_meridian\",-77],PARAMETER[\"standard_parallel_1\",38.3],PARAMETER[\"standard_parallel_2\",39.45],PARAMETER[\"false_easting\",1312333.33333333],PARAMETER[\"false_northing\",0],UNIT[\"US survey foot\",0.304800609601219,AUTHORITY[\"EPSG\",\"9003\"]],AXIS[\"Easting\",EAST],AXIS[\"Northing\",NORTH]]\n"
     ]
    },
    {
     "data": {
      "text/plain": [
       "<AxesSubplot:>"
      ]
     },
     "execution_count": 49,
     "metadata": {},
     "output_type": "execute_result"
    },
    {
     "data": {
      "image/png": "[encoded data removed]",
      "text/plain": [
       "<Figure size 640x480 with 1 Axes>"
      ]
     },
     "metadata": {},
     "output_type": "display_data"
    }
   ],
   "source": [
    "# Montgomery County maintained roads\n",
    "# https://data.imap.maryland.gov/datasets/maryland::montgomery-county-maintained-roads/explore?location=39.168559%2C-76.905435%2C9.35\n",
    "# https://catalog.data.gov/dataset/tiger-line-shapefile-2018-county-montgomery-county-md-all-roads-county-based-shapefile\n",
    "# crs = {'init':'EPSG:4326'}\n",
    "montgomery_county_map = gpd.read_file('Zipcodes.shp')\n",
    "print(montgomery_county_map.crs) \n",
    "montgomery_county_map.to_crs(epsg=4326).plot()\n",
    "\n",
    "# Other sources for multiple data view\n",
    "# https://montgomeryplanning.org/tools/gis-and-mapping/map-library/"
   ]
  },
  {
   "cell_type": "markdown",
   "metadata": {},
   "source": [
    "# Drop rows from the dataframe based on certain condition applied on a column\n"
   ]
  },
  {
   "cell_type": "code",
   "execution_count": 60,
   "metadata": {},
   "outputs": [],
   "source": [
    "# Filter all rows for Latitude is less than or equal to 35\n",
    "inputdf = inputdf[inputdf['Latitude'] < 35]"
   ]
  },
  {
   "cell_type": "code",
   "execution_count": 61,
   "metadata": {},
   "outputs": [
    {
     "data": {
      "text/plain": [
       "<AxesSubplot:>"
      ]
     },
     "execution_count": 61,
     "metadata": {},
     "output_type": "execute_result"
    },
    {
     "data": {
      "image/png": "[encoded data removed]",
      "text/plain": [
       "<Figure size 640x480 with 1 Axes>"
      ]
     },
     "metadata": {},
     "output_type": "display_data"
    }
   ],
   "source": [
    "inputdf['Latitude'].hist()\n"
   ]
  },
  {
   "cell_type": "code",
   "execution_count": 62,
   "metadata": {},
   "outputs": [],
   "source": [
    "# Filter all rows for Longitude is greater than or equal to -70\n",
    "inputdf = inputdf[inputdf['Longitude'] > -70]"
   ]
  },
  {
   "cell_type": "code",
   "execution_count": 63,
   "metadata": {},
   "outputs": [
    {
     "data": {
      "text/plain": [
       "<AxesSubplot:>"
      ]
     },
     "execution_count": 63,
     "metadata": {},
     "output_type": "execute_result"
    },
    {
     "data": {
      "image/png": "[encoded data removed]",
      "text/plain": [
       "<Figure size 640x480 with 1 Axes>"
      ]
     },
     "metadata": {},
     "output_type": "display_data"
    }
   ],
   "source": [
    "inputdf['Longitude'].hist()"
   ]
  },
  {
   "cell_type": "markdown",
   "metadata": {},
   "source": [
    "# ‘geo_df’ that is a copy of our original data frame but with the newly created ‘geometry’ column.\n"
   ]
  },
  {
   "cell_type": "code",
   "execution_count": 50,
   "metadata": {},
   "outputs": [
    {
     "name": "stderr",
     "output_type": "stream",
     "text": [
      "c:\\ProgramData\\Anaconda3\\lib\\site-packages\\pyproj\\crs\\crs.py:141: FutureWarning: '+init=<authority>:<code>' syntax is deprecated. '<authority>:<code>' is the preferred initialization method. When making the change, be mindful of axis order changes: https://pyproj4.github.io/pyproj/stable/gotchas.html#axis-order-changes-in-proj-6\n",
      "  in_crs_string = _prepare_from_proj_string(in_crs_string)\n"
     ]
    },
    {
     "data": {
      "text/html": [
       "<div>\n",
       "<style scoped>\n",
       "    .dataframe tbody tr th:only-of-type {\n",
       "        vertical-align: middle;\n",
       "    }\n",
       "\n",
       "    .dataframe tbody tr th {\n",
       "        vertical-align: top;\n",
       "    }\n",
       "\n",
       "    .dataframe thead th {\n",
       "        text-align: right;\n",
       "    }\n",
       "</style>\n",
       "<table border=\"1\" class=\"dataframe\">\n",
       "  <thead>\n",
       "    <tr style=\"text-align: right;\">\n",
       "      <th></th>\n",
       "      <th>Dispatch Date / Time</th>\n",
       "      <th>Victims</th>\n",
       "      <th>Crime Name1</th>\n",
       "      <th>Crime Name2</th>\n",
       "      <th>Crime Name3</th>\n",
       "      <th>Police District Name</th>\n",
       "      <th>Block Address</th>\n",
       "      <th>City</th>\n",
       "      <th>Zip Code</th>\n",
       "      <th>Agency</th>\n",
       "      <th>Place</th>\n",
       "      <th>Street Name</th>\n",
       "      <th>Street Type</th>\n",
       "      <th>Start_Date_Time</th>\n",
       "      <th>End_Date_Time</th>\n",
       "      <th>Latitude</th>\n",
       "      <th>Longitude</th>\n",
       "      <th>geometry</th>\n",
       "      <th>price_log</th>\n",
       "    </tr>\n",
       "  </thead>\n",
       "  <tbody>\n",
       "    <tr>\n",
       "      <th>0</th>\n",
       "      <td>12/21/2018 09:13:13 PM</td>\n",
       "      <td>1</td>\n",
       "      <td>Crime Against Property</td>\n",
       "      <td>Robbery</td>\n",
       "      <td>ROBBERY - STREET-GUN</td>\n",
       "      <td>WHEATON</td>\n",
       "      <td>11100 BLK  GEORGIA AVE</td>\n",
       "      <td>SILVER SPRING</td>\n",
       "      <td>20902.0</td>\n",
       "      <td>MCPD</td>\n",
       "      <td>Street - Bus Stop</td>\n",
       "      <td>GEORGIA</td>\n",
       "      <td>AVE</td>\n",
       "      <td>12/21/2018 09:13:00 PM</td>\n",
       "      <td>NaN</td>\n",
       "      <td>39.036270</td>\n",
       "      <td>-77.049900</td>\n",
       "      <td>POINT (-77.04990 39.03627)</td>\n",
       "      <td>Crime Against Property</td>\n",
       "    </tr>\n",
       "    <tr>\n",
       "      <th>1</th>\n",
       "      <td>09/13/2020 12:26:58 AM</td>\n",
       "      <td>1</td>\n",
       "      <td>Crime Against Society</td>\n",
       "      <td>All Other Offenses</td>\n",
       "      <td>OBSTRUCT GOVT - VIOLATION OF A COURT ORDER</td>\n",
       "      <td>GERMANTOWN</td>\n",
       "      <td>25600 BLK  COLTRANE DR</td>\n",
       "      <td>DAMASCUS</td>\n",
       "      <td>20872.0</td>\n",
       "      <td>MCPD</td>\n",
       "      <td>Parking Lot - Residential</td>\n",
       "      <td>COLTRANE</td>\n",
       "      <td>DR</td>\n",
       "      <td>08/08/2020 05:10:00 PM</td>\n",
       "      <td>08/08/2020 12:00:00 AM</td>\n",
       "      <td>39.277840</td>\n",
       "      <td>-77.211500</td>\n",
       "      <td>POINT (-77.21150 39.27784)</td>\n",
       "      <td>Crime Against Society</td>\n",
       "    </tr>\n",
       "    <tr>\n",
       "      <th>2</th>\n",
       "      <td>01/03/2019 02:48:47 AM</td>\n",
       "      <td>1</td>\n",
       "      <td>Crime Against Society</td>\n",
       "      <td>Driving Under the Influence</td>\n",
       "      <td>DRIVING UNDER THE INFLUENCE LIQUOR</td>\n",
       "      <td>ROCKVILLE</td>\n",
       "      <td>NaN</td>\n",
       "      <td>ROCKVILLE</td>\n",
       "      <td>20850.0</td>\n",
       "      <td>RCPD</td>\n",
       "      <td>Street - In vehicle</td>\n",
       "      <td>GRANDIN</td>\n",
       "      <td>AVE</td>\n",
       "      <td>01/03/2019 02:48:00 AM</td>\n",
       "      <td>01/03/2019 02:48:00 AM</td>\n",
       "      <td>39.086688</td>\n",
       "      <td>-77.144754</td>\n",
       "      <td>POINT (-77.14475 39.08669)</td>\n",
       "      <td>Crime Against Society</td>\n",
       "    </tr>\n",
       "    <tr>\n",
       "      <th>3</th>\n",
       "      <td>01/03/2019 02:48:47 AM</td>\n",
       "      <td>1</td>\n",
       "      <td>Other</td>\n",
       "      <td>All Other Offenses</td>\n",
       "      <td>LITTERING/TRASH DUMPING</td>\n",
       "      <td>ROCKVILLE</td>\n",
       "      <td>NaN</td>\n",
       "      <td>ROCKVILLE</td>\n",
       "      <td>20850.0</td>\n",
       "      <td>RCPD</td>\n",
       "      <td>Street - Other</td>\n",
       "      <td>GRANDIN</td>\n",
       "      <td>AVE</td>\n",
       "      <td>01/03/2019 02:48:00 AM</td>\n",
       "      <td>01/03/2019 02:48:00 AM</td>\n",
       "      <td>39.086688</td>\n",
       "      <td>-77.144754</td>\n",
       "      <td>POINT (-77.14475 39.08669)</td>\n",
       "      <td>Other</td>\n",
       "    </tr>\n",
       "    <tr>\n",
       "      <th>4</th>\n",
       "      <td>07/16/2020 05:29:50 PM</td>\n",
       "      <td>1</td>\n",
       "      <td>Crime Against Property</td>\n",
       "      <td>Shoplifting</td>\n",
       "      <td>LARCENY - SHOPLIFTING</td>\n",
       "      <td>GERMANTOWN</td>\n",
       "      <td>20900 BLK  FREDERICK RD</td>\n",
       "      <td>GERMANTOWN</td>\n",
       "      <td>20876.0</td>\n",
       "      <td>MCPD</td>\n",
       "      <td>Retail - Department/Discount Store</td>\n",
       "      <td>FREDERICK</td>\n",
       "      <td>RD</td>\n",
       "      <td>07/16/2020 05:29:00 PM</td>\n",
       "      <td>NaN</td>\n",
       "      <td>39.198295</td>\n",
       "      <td>-77.244900</td>\n",
       "      <td>POINT (-77.24490 39.19830)</td>\n",
       "      <td>Crime Against Property</td>\n",
       "    </tr>\n",
       "  </tbody>\n",
       "</table>\n",
       "</div>"
      ],
      "text/plain": [
       "     Dispatch Date / Time  Victims             Crime Name1  \\\n",
       "0  12/21/2018 09:13:13 PM        1  Crime Against Property   \n",
       "1  09/13/2020 12:26:58 AM        1   Crime Against Society   \n",
       "2  01/03/2019 02:48:47 AM        1   Crime Against Society   \n",
       "3  01/03/2019 02:48:47 AM        1                   Other   \n",
       "4  07/16/2020 05:29:50 PM        1  Crime Against Property   \n",
       "\n",
       "                   Crime Name2                                 Crime Name3  \\\n",
       "0                      Robbery                        ROBBERY - STREET-GUN   \n",
       "1           All Other Offenses  OBSTRUCT GOVT - VIOLATION OF A COURT ORDER   \n",
       "2  Driving Under the Influence          DRIVING UNDER THE INFLUENCE LIQUOR   \n",
       "3           All Other Offenses                     LITTERING/TRASH DUMPING   \n",
       "4                  Shoplifting                       LARCENY - SHOPLIFTING   \n",
       "\n",
       "  Police District Name            Block Address           City  Zip Code  \\\n",
       "0              WHEATON   11100 BLK  GEORGIA AVE  SILVER SPRING   20902.0   \n",
       "1           GERMANTOWN   25600 BLK  COLTRANE DR       DAMASCUS   20872.0   \n",
       "2            ROCKVILLE                      NaN      ROCKVILLE   20850.0   \n",
       "3            ROCKVILLE                      NaN      ROCKVILLE   20850.0   \n",
       "4           GERMANTOWN  20900 BLK  FREDERICK RD     GERMANTOWN   20876.0   \n",
       "\n",
       "  Agency                               Place Street Name Street Type  \\\n",
       "0   MCPD                   Street - Bus Stop     GEORGIA         AVE   \n",
       "1   MCPD           Parking Lot - Residential    COLTRANE          DR   \n",
       "2   RCPD                 Street - In vehicle     GRANDIN         AVE   \n",
       "3   RCPD                      Street - Other     GRANDIN         AVE   \n",
       "4   MCPD  Retail - Department/Discount Store   FREDERICK          RD   \n",
       "\n",
       "          Start_Date_Time           End_Date_Time   Latitude  Longitude  \\\n",
       "0  12/21/2018 09:13:00 PM                     NaN  39.036270 -77.049900   \n",
       "1  08/08/2020 05:10:00 PM  08/08/2020 12:00:00 AM  39.277840 -77.211500   \n",
       "2  01/03/2019 02:48:00 AM  01/03/2019 02:48:00 AM  39.086688 -77.144754   \n",
       "3  01/03/2019 02:48:00 AM  01/03/2019 02:48:00 AM  39.086688 -77.144754   \n",
       "4  07/16/2020 05:29:00 PM                     NaN  39.198295 -77.244900   \n",
       "\n",
       "                     geometry               price_log  \n",
       "0  POINT (-77.04990 39.03627)  Crime Against Property  \n",
       "1  POINT (-77.21150 39.27784)   Crime Against Society  \n",
       "2  POINT (-77.14475 39.08669)   Crime Against Society  \n",
       "3  POINT (-77.14475 39.08669)                   Other  \n",
       "4  POINT (-77.24490 39.19830)  Crime Against Property  "
      ]
     },
     "execution_count": 50,
     "metadata": {},
     "output_type": "execute_result"
    }
   ],
   "source": [
    "crs = {'init':'EPSG:4326'}\n",
    "geometry = [Point(xy) for xy in zip(inputdf['Longitude'], inputdf['Latitude'])]\n",
    "geo_df = gpd.GeoDataFrame(inputdf, \n",
    "                          crs = crs, \n",
    "                          geometry = geometry)\n",
    "\n",
    "geo_df.head()"
   ]
  },
  {
   "cell_type": "markdown",
   "metadata": {},
   "source": [
    "Visualizing the Crime Data"
   ]
  },
  {
   "cell_type": "code",
   "execution_count": 54,
   "metadata": {},
   "outputs": [
    {
     "name": "stdout",
     "output_type": "stream",
     "text": [
      "0         Crime Against Property\n",
      "1          Crime Against Society\n",
      "2          Crime Against Society\n",
      "3                          Other\n",
      "4         Crime Against Property\n",
      "                   ...          \n",
      "312292    Crime Against Property\n",
      "312293     Crime Against Society\n",
      "312294    Crime Against Property\n",
      "312295    Crime Against Property\n",
      "312296    Crime Against Property\n",
      "Name: price_log, Length: 312297, dtype: object\n"
     ]
    }
   ],
   "source": [
    "# fig, ax = plt.subplots(figsize = (10,10))\n",
    "# montgomery_county_map.to_crs(epsg=4326).plot(ax=ax, color='lightgrey')\n",
    "# geo_df.plot(ax=ax, alpha = 0.1)\n",
    "\n",
    "\n",
    "#geo_df['price_log'] = np.log(geo_df['Victims'])\n",
    "geo_df['price_log'] = np.array(geo_df['Crime Name1'])\n",
    "print(geo_df['price_log'])\n"
   ]
  },
  {
   "cell_type": "code",
   "execution_count": 57,
   "metadata": {},
   "outputs": [
    {
     "data": {
      "image/png": "[encoded data removed]",
      "text/plain": [
       "<Figure size 1000x1000 with 1 Axes>"
      ]
     },
     "metadata": {},
     "output_type": "display_data"
    }
   ],
   "source": [
    "fig, ax = plt.subplots(figsize = (10,10), layout=\"constrained\")\n",
    "montgomery_county_map.to_crs(epsg=4326).plot(ax=ax, color='lightgrey')\n",
    "geo_df.plot(column = 'price_log', ax=ax, cmap = 'rainbow',\n",
    "            legend = True, #legend_kwds={'shrink': 0.3}, \n",
    "            markersize = 10)\n",
    "# ax.set_title('Kings County Price Heatmap')\n",
    "ax.set_title('Montgomery County Crime type data Heatmap')\n",
    "plt.savefig('Heat Map')"
   ]
  },
  {
   "cell_type": "code",
   "execution_count": null,
   "metadata": {},
   "outputs": [],
   "source": []
  }
 ],
 "metadata": {
  "kernelspec": {
   "display_name": "Python 3.9.13 ('base')",
   "language": "python",
   "name": "python3"
  },
  "language_info": {
   "codemirror_mode": {
    "name": "ipython",
    "version": 3
   },
   "file_extension": ".py",
   "mimetype": "text/x-python",
   "name": "python",
   "nbconvert_exporter": "python",
   "pygments_lexer": "ipython3",
   "version": "3.9.13"
  },
  "orig_nbformat": 4,
  "vscode": {
   "interpreter": {
    "hash": "ad2bdc8ecc057115af97d19610ffacc2b4e99fae6737bb82f5d7fb13d2f2c186"
   }
  }
 },
 "nbformat": 4,
 "nbformat_minor": 2
}
