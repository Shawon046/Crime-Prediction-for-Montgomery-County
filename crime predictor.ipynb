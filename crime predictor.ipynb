{
 "cells": [
  {
   "cell_type": "code",
   "execution_count": null,
   "metadata": {},
   "outputs": [],
   "source": [
    "import matplotlib.pyplot as plt\n",
    "import pandas as pd\n",
    "import numpy as np\n",
    "import datetime\n",
    "import warnings\n",
    "\n",
    "\n",
    "from sklearn.neighbors import KNeighborsRegressor\n",
    "from sklearn.linear_model import LinearRegression\n",
    "\n",
    "from sklearn.metrics import precision_recall_fscore_support, plot_confusion_matrix\n",
    "from sklearn.preprocessing import LabelEncoder\n",
    "from sklearn.model_selection import train_test_split\n",
    "from sklearn.model_selection import cross_val_score\n",
    "from sklearn.model_selection import GridSearchCV\n",
    "from sklearn.preprocessing import StandardScaler\n",
    "from sklearn.linear_model import LogisticRegression\n",
    "from sklearn.neighbors import KNeighborsClassifier\n",
    "from sklearn.svm import SVC\n",
    "from sklearn.tree import DecisionTreeClassifier\n",
    "from sklearn.ensemble import RandomForestClassifier\n",
    "from sklearn.naive_bayes import GaussianNB\n",
    "from sklearn.metrics import accuracy_score\n",
    "\n",
    "\n",
    "import geopandas as gpd\n",
    "from shapely.geometry import Point, Polygon\n",
    "\n",
    "# At first we mount the dataset from local file\n",
    "\n",
    "inputdf = pd.read_csv('Crime.csv')"
   ]
  },
  {
   "cell_type": "code",
   "execution_count": null,
   "metadata": {},
   "outputs": [],
   "source": [
    "\n",
    "\n",
    "# sneak peak in the data\n",
    "inputdf.head(2)\n"
   ]
  },
  {
   "cell_type": "code",
   "execution_count": null,
   "metadata": {},
   "outputs": [],
   "source": [
    "print(inputdf.shape)\n",
    "# 'column names are:' \n",
    "inputdf.columns\n",
    "inputdf.dtypes"
   ]
  },
  {
   "cell_type": "markdown",
   "metadata": {},
   "source": [
    "Analyzing the dataset, we observe that columns -\n",
    "\n",
    "\n",
    "* Incident ID\n",
    "*\tOffence Code\n",
    "* CR Number\n",
    "* NIBRS Code\n",
    "* State (All should be MD)\n",
    "* Sector, Beat, PRA - meaningless\n",
    "* Address Number (included in \"Block Address\")\n",
    "* Street Prefix (lots of missing values)\n",
    "* Street Suffix (lots of missing values)\n",
    "* Police District Number (meaningless)\n",
    "* Location (pair of Latitude and Longitude)\n",
    "\n",
    " are unnecessary. So they are removed."
   ]
  },
  {
   "cell_type": "code",
   "execution_count": null,
   "metadata": {},
   "outputs": [],
   "source": [
    "# dropping the unnecessary columns\n",
    "#inputdf = data\n",
    "unnecessary_columns = ['Incident ID', 'Offence Code', 'CR Number', 'NIBRS Code', 'State', 'Sector', 'Beat', 'PRA', 'Address Number', 'Street Prefix', 'Street Suffix', 'Police District Number', 'Location'  ]\n",
    "for i in unnecessary_columns:\n",
    "  inputdf = inputdf.drop(i, axis=1)\n",
    "inputdf.head(2)"
   ]
  },
  {
   "cell_type": "markdown",
   "metadata": {},
   "source": [
    "# Later, Columns related with the effect of crime are removed."
   ]
  },
  {
   "cell_type": "code",
   "execution_count": null,
   "metadata": {},
   "outputs": [],
   "source": [
    "unnecessary_columns = ['Dispatch Date / Time', 'Victims', 'Block Address', 'Street Type', 'Agency', 'End_Date_Time']\n",
    "for i in unnecessary_columns:\n",
    "  inputdf = inputdf.drop(i, axis=1)\n",
    "inputdf.head(2)"
   ]
  },
  {
   "cell_type": "markdown",
   "metadata": {},
   "source": [
    "Some columns are confusing to be added now. Such as -\n",
    "\n",
    "* Crime Name3\n",
    "* Zip Code\n",
    "* Street Name\n",
    "* Also we have to take special care of Latitude and Longitude if we want them to include in our feature set."
   ]
  },
  {
   "cell_type": "markdown",
   "metadata": {},
   "source": [
    "# Now we have to visualize the data and fix what to predict from these modified feature set"
   ]
  },
  {
   "cell_type": "code",
   "execution_count": null,
   "metadata": {},
   "outputs": [],
   "source": [
    "# Montgomery County maintained roads\n",
    "# https://data.imap.maryland.gov/datasets/maryland::montgomery-county-maintained-roads/explore?location=39.168559%2C-76.905435%2C9.35\n",
    "# https://catalog.data.gov/dataset/tiger-line-shapefile-2018-county-montgomery-county-md-all-roads-county-based-shapefile\n",
    "# crs = {'init':'EPSG:4326'}\n",
    "montgomery_county_map = gpd.read_file('Zipcodes.shp')\n",
    "print(montgomery_county_map.crs) \n",
    "montgomery_county_map.to_crs(epsg=4326).plot()\n",
    "\n",
    "# Other sources for multiple data view\n",
    "# https://montgomeryplanning.org/tools/gis-and-mapping/map-library/"
   ]
  },
  {
   "cell_type": "markdown",
   "metadata": {},
   "source": [
    "# Drop rows from the dataframe based on certain condition applied on a column\n"
   ]
  },
  {
   "cell_type": "code",
   "execution_count": null,
   "metadata": {},
   "outputs": [],
   "source": [
    "# Filter all rows for Latitude is greater than or equal to 35\n",
    "inputdf = inputdf[inputdf['Latitude'] > 35.0]\n",
    "# inputdf['Latitude'].hist()"
   ]
  },
  {
   "cell_type": "code",
   "execution_count": null,
   "metadata": {},
   "outputs": [],
   "source": [
    "# Filter all rows for Longitude is less than or equal to -70\n",
    "inputdf = inputdf[inputdf['Longitude'] < -70]\n",
    "# inputdf['Longitude'].hist()"
   ]
  },
  {
   "cell_type": "code",
   "execution_count": null,
   "metadata": {},
   "outputs": [],
   "source": [
    "# inputdf['Crime Name2'].value_counts()\n",
    "# # Filter all rows for that has occurances less than 5\n",
    "# inputdf = inputdf[inputdf.columns[inputdf['Crime Name2'].value_counts() > 5]]"
   ]
  },
  {
   "cell_type": "code",
   "execution_count": null,
   "metadata": {},
   "outputs": [],
   "source": [
    "inputdf['Crime Name2'].value_counts()"
   ]
  },
  {
   "cell_type": "markdown",
   "metadata": {},
   "source": [
    "# Export Pandas DataFrame to CSV\n"
   ]
  },
  {
   "cell_type": "code",
   "execution_count": null,
   "metadata": {},
   "outputs": [],
   "source": [
    "\n",
    "# inputdf.to_csv('potential feature set revised.csv')\n"
   ]
  },
  {
   "cell_type": "markdown",
   "metadata": {},
   "source": [
    "# ‘geo_df’ that is a copy of our original data frame but with the newly created ‘geometry’ column.\n"
   ]
  },
  {
   "cell_type": "code",
   "execution_count": null,
   "metadata": {},
   "outputs": [],
   "source": [
    "crs = {'init':'EPSG:4326'}\n",
    "geometry = [Point(xy) for xy in zip(inputdf['Longitude'], inputdf['Latitude'])]\n",
    "geo_df = gpd.GeoDataFrame(inputdf, \n",
    "                          crs = crs, \n",
    "                          geometry = geometry)\n",
    "\n",
    "geo_df.head()"
   ]
  },
  {
   "cell_type": "code",
   "execution_count": null,
   "metadata": {},
   "outputs": [],
   "source": [
    "geo_df.plot()"
   ]
  },
  {
   "cell_type": "markdown",
   "metadata": {},
   "source": [
    "# Visualizing the Crime Data"
   ]
  },
  {
   "cell_type": "code",
   "execution_count": null,
   "metadata": {},
   "outputs": [],
   "source": [
    "fig, ax = plt.subplots(figsize = (20,20))\n",
    "montgomery_county_map.to_crs(epsg=4326).plot(ax=ax, color='lightgrey')\n",
    "geo_df.plot(column = geo_df['Crime Name1'], ax=ax, cmap = 'rainbow',\n",
    "            legend = True, #legend_kwds={'shrink': 0.3}, \n",
    "            markersize = 10)\n",
    "ax.set_title('Montgomery County Crime type data Heatmap')\n",
    "# plt.savefig('Crime Heat Map for Location')"
   ]
  },
  {
   "cell_type": "code",
   "execution_count": null,
   "metadata": {},
   "outputs": [],
   "source": [
    "#geo_df['Crime Name1'].hist()\n",
    "geo_df['Crime Name2'].count()\n",
    "geo_df['Crime Name2'].value_counts()\n",
    "# geo_df.groupby('Crime Name2').count() # per group data count\n",
    "\n",
    "\n",
    "#geo_df['Latitude'].hist()"
   ]
  },
  {
   "cell_type": "markdown",
   "metadata": {},
   "source": [
    "# Separating Train and Test Set for Crime Prediction for Location"
   ]
  },
  {
   "cell_type": "code",
   "execution_count": null,
   "metadata": {},
   "outputs": [],
   "source": [
    "print(inputdf['Crime Name1'].value_counts())"
   ]
  },
  {
   "cell_type": "markdown",
   "metadata": {},
   "source": [
    "# Creating The Location Based Crime Data Frame"
   ]
  },
  {
   "cell_type": "code",
   "execution_count": 379,
   "metadata": {},
   "outputs": [
    {
     "data": {
      "text/html": [
       "<div>\n",
       "<style scoped>\n",
       "    .dataframe tbody tr th:only-of-type {\n",
       "        vertical-align: middle;\n",
       "    }\n",
       "\n",
       "    .dataframe tbody tr th {\n",
       "        vertical-align: top;\n",
       "    }\n",
       "\n",
       "    .dataframe thead th {\n",
       "        text-align: right;\n",
       "    }\n",
       "</style>\n",
       "<table border=\"1\" class=\"dataframe\">\n",
       "  <thead>\n",
       "    <tr style=\"text-align: right;\">\n",
       "      <th></th>\n",
       "      <th>Crime Name1</th>\n",
       "      <th>Crime Name2</th>\n",
       "      <th>Police District Name</th>\n",
       "      <th>City</th>\n",
       "      <th>Zip Code</th>\n",
       "      <th>Place</th>\n",
       "      <th>Street Name</th>\n",
       "      <th>Latitude</th>\n",
       "      <th>Longitude</th>\n",
       "      <th>dateHour</th>\n",
       "      <th>day</th>\n",
       "      <th>month</th>\n",
       "    </tr>\n",
       "  </thead>\n",
       "  <tbody>\n",
       "    <tr>\n",
       "      <th>0</th>\n",
       "      <td>Crime Against Property</td>\n",
       "      <td>Robbery</td>\n",
       "      <td>WHEATON</td>\n",
       "      <td>SILVER SPRING</td>\n",
       "      <td>20902.0</td>\n",
       "      <td>Street - Bus Stop</td>\n",
       "      <td>GEORGIA</td>\n",
       "      <td>39.036270</td>\n",
       "      <td>-77.049900</td>\n",
       "      <td>21</td>\n",
       "      <td>21</td>\n",
       "      <td>12</td>\n",
       "    </tr>\n",
       "    <tr>\n",
       "      <th>1</th>\n",
       "      <td>Crime Against Society</td>\n",
       "      <td>All Other Offenses</td>\n",
       "      <td>GERMANTOWN</td>\n",
       "      <td>DAMASCUS</td>\n",
       "      <td>20872.0</td>\n",
       "      <td>Parking Lot - Residential</td>\n",
       "      <td>COLTRANE</td>\n",
       "      <td>39.277840</td>\n",
       "      <td>-77.211500</td>\n",
       "      <td>17</td>\n",
       "      <td>8</td>\n",
       "      <td>8</td>\n",
       "    </tr>\n",
       "    <tr>\n",
       "      <th>2</th>\n",
       "      <td>Crime Against Society</td>\n",
       "      <td>Driving Under the Influence</td>\n",
       "      <td>ROCKVILLE</td>\n",
       "      <td>ROCKVILLE</td>\n",
       "      <td>20850.0</td>\n",
       "      <td>Street - In vehicle</td>\n",
       "      <td>GRANDIN</td>\n",
       "      <td>39.086688</td>\n",
       "      <td>-77.144754</td>\n",
       "      <td>2</td>\n",
       "      <td>3</td>\n",
       "      <td>1</td>\n",
       "    </tr>\n",
       "    <tr>\n",
       "      <th>3</th>\n",
       "      <td>Other</td>\n",
       "      <td>All Other Offenses</td>\n",
       "      <td>ROCKVILLE</td>\n",
       "      <td>ROCKVILLE</td>\n",
       "      <td>20850.0</td>\n",
       "      <td>Street - Other</td>\n",
       "      <td>GRANDIN</td>\n",
       "      <td>39.086688</td>\n",
       "      <td>-77.144754</td>\n",
       "      <td>2</td>\n",
       "      <td>3</td>\n",
       "      <td>1</td>\n",
       "    </tr>\n",
       "    <tr>\n",
       "      <th>4</th>\n",
       "      <td>Crime Against Property</td>\n",
       "      <td>Shoplifting</td>\n",
       "      <td>GERMANTOWN</td>\n",
       "      <td>GERMANTOWN</td>\n",
       "      <td>20876.0</td>\n",
       "      <td>Retail - Department/Discount Store</td>\n",
       "      <td>FREDERICK</td>\n",
       "      <td>39.198295</td>\n",
       "      <td>-77.244900</td>\n",
       "      <td>17</td>\n",
       "      <td>16</td>\n",
       "      <td>7</td>\n",
       "    </tr>\n",
       "  </tbody>\n",
       "</table>\n",
       "</div>"
      ],
      "text/plain": [
       "              Crime Name1                  Crime Name2 Police District Name  \\\n",
       "0  Crime Against Property                      Robbery              WHEATON   \n",
       "1   Crime Against Society           All Other Offenses           GERMANTOWN   \n",
       "2   Crime Against Society  Driving Under the Influence            ROCKVILLE   \n",
       "3                   Other           All Other Offenses            ROCKVILLE   \n",
       "4  Crime Against Property                  Shoplifting           GERMANTOWN   \n",
       "\n",
       "            City  Zip Code                               Place Street Name  \\\n",
       "0  SILVER SPRING   20902.0                   Street - Bus Stop     GEORGIA   \n",
       "1       DAMASCUS   20872.0           Parking Lot - Residential    COLTRANE   \n",
       "2      ROCKVILLE   20850.0                 Street - In vehicle     GRANDIN   \n",
       "3      ROCKVILLE   20850.0                      Street - Other     GRANDIN   \n",
       "4     GERMANTOWN   20876.0  Retail - Department/Discount Store   FREDERICK   \n",
       "\n",
       "    Latitude  Longitude  dateHour  day  month  \n",
       "0  39.036270 -77.049900        21   21     12  \n",
       "1  39.277840 -77.211500        17    8      8  \n",
       "2  39.086688 -77.144754         2    3      1  \n",
       "3  39.086688 -77.144754         2    3      1  \n",
       "4  39.198295 -77.244900        17   16      7  "
      ]
     },
     "execution_count": 379,
     "metadata": {},
     "output_type": "execute_result"
    }
   ],
   "source": [
    "# loc_crime_df = inputdf[['Latitude', 'Longitude', 'Crime Name1']]\n",
    "loc_crime_df = inputdf[['Crime Name1','Crime Name2', 'Police District Name', 'City', 'Zip Code', 'Place', 'Street Name', 'Latitude', 'Longitude']]\n",
    "dates = pd.to_datetime(inputdf['Start_Date_Time'])\n",
    "  \n",
    "# extract Hours from Timestamp \n",
    "# rs = dates.dt.hour\n",
    "# print(rs)\n",
    "loc_crime_df['dateHour'] = dates.dt.hour\n",
    "loc_crime_df['day'] = dates.dt.day\n",
    "loc_crime_df['month'] = dates.dt.month\n",
    "loc_crime_df.head()\n"
   ]
  },
  {
   "cell_type": "code",
   "execution_count": 380,
   "metadata": {},
   "outputs": [
    {
     "name": "stdout",
     "output_type": "stream",
     "text": [
      "(304175, 12)\n"
     ]
    },
    {
     "data": {
      "text/plain": [
       "Crime Name1              object\n",
       "Crime Name2              object\n",
       "Police District Name     object\n",
       "City                     object\n",
       "Zip Code                float64\n",
       "Place                    object\n",
       "Street Name              object\n",
       "Latitude                float64\n",
       "Longitude               float64\n",
       "dateHour                  int64\n",
       "day                       int64\n",
       "month                     int64\n",
       "dtype: object"
      ]
     },
     "execution_count": 380,
     "metadata": {},
     "output_type": "execute_result"
    }
   ],
   "source": [
    "print(loc_crime_df.shape)\n",
    "loc_crime_df.dtypes"
   ]
  },
  {
   "cell_type": "code",
   "execution_count": 381,
   "metadata": {},
   "outputs": [
    {
     "name": "stdout",
     "output_type": "stream",
     "text": [
      "All Other Offenses                             72203\n",
      "Theft From Motor Vehicle                       26252\n",
      "Drug/Narcotic Violations                       22573\n",
      "Simple Assault                                 21064\n",
      "Destruction/Damage/Vandalism of Property       18967\n",
      "Shoplifting                                    16416\n",
      "All other Larceny                              13972\n",
      "Driving Under the Influence                    13723\n",
      "Theft from Building                            11335\n",
      "Burglary/Breaking and Entering                  8784\n",
      "Identity Theft                                  8633\n",
      "Theft of Motor Vehicle Parts or Accessories     6747\n",
      "Liquor Law Violations                           6565\n",
      "Motor Vehicle Theft                             6489\n",
      "False Pretenses/Swindle/Confidence Game         6438\n",
      "Disorderly Conduct                              4980\n",
      "Credit Card/Automatic Teller Machine Fraud      4726\n",
      "Aggravated Assault                              4313\n",
      "Trespass of Real Property                       3939\n",
      "Runaway                                         3590\n",
      "Robbery                                         3520\n",
      "Counterfeiting/Forgery                          3098\n",
      "Weapon Law Violations                           2184\n",
      "Drug Equipment Violations                       1930\n",
      "Impersonation                                   1595\n",
      "Forcible Rape                                   1375\n",
      "Fondling                                        1104\n",
      "Family Offenses, NonViolent                      770\n",
      "Pocket/picking                                   686\n",
      "Forcible Sodomy                                  587\n",
      "Forcible Fondling                                543\n",
      "Embezzlement                                     465\n",
      "Intimidation                                     429\n",
      "Purse-snatching                                  403\n",
      "Sexual Assault With An Object                    390\n",
      "Extortion/Blackmail                              381\n",
      "Arson                                            337\n",
      "Bad Checks                                       336\n",
      "Pornography/Obscene Material                     294\n",
      "Wire Fraud                                       268\n",
      "Not Mapped                                       268\n",
      "NOT NIBRS CODE                                   218\n",
      "Stolen Property Offenses                         217\n",
      "Prostitution                                     181\n",
      "Murder and Nonnegligent Manslaughter             115\n",
      "Peeping Tom                                      106\n",
      "Drunkenness                                      104\n",
      "Kidnapping/Abduction                              72\n",
      "From Coin/Operated Machine or Device              56\n",
      "Human Trafficking, Commercial Sex Acts            45\n",
      "Curfew/Loitering/Vagrancy Violations              33\n",
      "Statuory Rape                                     31\n",
      "Assisting or Promoting Prostitution               22\n",
      "Welfare Fraud                                     13\n",
      "Justifiable Homicide                              12\n",
      "Human Trafficking, Involuntary Servitude           2\n",
      "Negligent Manslaughter                             1\n",
      "Operating/Promoting/Assisting Gambling             1\n",
      "Bribery                                            1\n",
      "Name: Crime Name2, dtype: int64\n"
     ]
    }
   ],
   "source": [
    " # Removing Rows on Count condition\n",
    "counts = loc_crime_df['Crime Name2'].value_counts()\n",
    "print(counts)\n",
    "threshold = 100\n",
    "loc_crime_df = loc_crime_df.loc[loc_crime_df['Crime Name2'].isin(counts.index[counts >= threshold ])]\n"
   ]
  },
  {
   "cell_type": "code",
   "execution_count": 382,
   "metadata": {},
   "outputs": [
    {
     "name": "stdout",
     "output_type": "stream",
     "text": [
      "Theft From Motor Vehicle                       26252\n",
      "Drug/Narcotic Violations                       22573\n",
      "Simple Assault                                 21064\n",
      "Destruction/Damage/Vandalism of Property       18967\n",
      "Shoplifting                                    16416\n",
      "All other Larceny                              13972\n",
      "Driving Under the Influence                    13723\n",
      "Theft from Building                            11335\n",
      "Burglary/Breaking and Entering                  8784\n",
      "Identity Theft                                  8633\n",
      "Theft of Motor Vehicle Parts or Accessories     6747\n",
      "Liquor Law Violations                           6565\n",
      "Motor Vehicle Theft                             6489\n",
      "False Pretenses/Swindle/Confidence Game         6438\n",
      "Disorderly Conduct                              4980\n",
      "Credit Card/Automatic Teller Machine Fraud      4726\n",
      "Aggravated Assault                              4313\n",
      "Trespass of Real Property                       3939\n",
      "Runaway                                         3590\n",
      "Robbery                                         3520\n",
      "Counterfeiting/Forgery                          3098\n",
      "Weapon Law Violations                           2184\n",
      "Drug Equipment Violations                       1930\n",
      "Impersonation                                   1595\n",
      "Forcible Rape                                   1375\n",
      "Fondling                                        1104\n",
      "Family Offenses, NonViolent                      770\n",
      "Pocket/picking                                   686\n",
      "Forcible Sodomy                                  587\n",
      "Forcible Fondling                                543\n",
      "Embezzlement                                     465\n",
      "Intimidation                                     429\n",
      "Purse-snatching                                  403\n",
      "Sexual Assault With An Object                    390\n",
      "Extortion/Blackmail                              381\n",
      "Arson                                            337\n",
      "Bad Checks                                       336\n",
      "Pornography/Obscene Material                     294\n",
      "Not Mapped                                       268\n",
      "Wire Fraud                                       268\n",
      "NOT NIBRS CODE                                   218\n",
      "Stolen Property Offenses                         217\n",
      "Prostitution                                     181\n",
      "Murder and Nonnegligent Manslaughter             115\n",
      "Peeping Tom                                      106\n",
      "Drunkenness                                      104\n",
      "Name: Crime Name2, dtype: int64\n"
     ]
    }
   ],
   "source": [
    " # Removing Rows on Count condition \n",
    " # Pruning garbage data\n",
    "# loc_crime_df = loc_crime_df[~loc_crime_df['Crime Name2'] == \"All Other Offenses\"]\n",
    "indexAge = loc_crime_df[ loc_crime_df['Crime Name2'] == \"All Other Offenses\" ].index\n",
    "loc_crime_df.drop(indexAge , inplace=True)\n",
    "loc_crime_df.head()\n",
    "counts = loc_crime_df['Crime Name2'].value_counts()\n",
    "print(counts)\n"
   ]
  },
  {
   "cell_type": "markdown",
   "metadata": {},
   "source": [
    "# Dropping null values in Zip code"
   ]
  },
  {
   "cell_type": "code",
   "execution_count": 383,
   "metadata": {},
   "outputs": [
    {
     "data": {
      "text/plain": [
       "20910.0    21071\n",
       "20902.0    17815\n",
       "20906.0    14649\n",
       "20904.0    14523\n",
       "20874.0    14136\n",
       "           ...  \n",
       "20859.0        1\n",
       "20914.0        1\n",
       "2853.0         1\n",
       "28017.0        1\n",
       "20990.0        1\n",
       "Name: Zip Code, Length: 148, dtype: int64"
      ]
     },
     "execution_count": 383,
     "metadata": {},
     "output_type": "execute_result"
    }
   ],
   "source": [
    "loc_crime_df['Zip Code'].value_counts()\n",
    "# loc_crime_df['dateHour'].value_counts()"
   ]
  },
  {
   "cell_type": "code",
   "execution_count": 384,
   "metadata": {},
   "outputs": [
    {
     "name": "stdout",
     "output_type": "stream",
     "text": [
      "(229017, 12)\n"
     ]
    }
   ],
   "source": [
    "loc_crime_df = loc_crime_df.dropna(axis=0, subset=['Zip Code'])\n",
    "print(loc_crime_df.shape)"
   ]
  },
  {
   "cell_type": "code",
   "execution_count": 385,
   "metadata": {},
   "outputs": [],
   "source": [
    "# loc_crime_df['Crime Name2'].count()\n",
    "# loc_crime_df['Crime Name2'].value_counts()"
   ]
  },
  {
   "cell_type": "markdown",
   "metadata": {},
   "source": [
    "# Transform the data by label encoding"
   ]
  },
  {
   "cell_type": "code",
   "execution_count": 386,
   "metadata": {},
   "outputs": [
    {
     "name": "stdout",
     "output_type": "stream",
     "text": [
      "0         Crime Against Property\n",
      "2          Crime Against Society\n",
      "4         Crime Against Property\n",
      "5           Crime Against Person\n",
      "6          Crime Against Society\n",
      "                   ...          \n",
      "312289    Crime Against Property\n",
      "312290    Crime Against Property\n",
      "312292    Crime Against Property\n",
      "312295    Crime Against Property\n",
      "312296    Crime Against Property\n",
      "Name: Crime Name1, Length: 229017, dtype: object\n",
      "0         1\n",
      "2         2\n",
      "4         1\n",
      "5         0\n",
      "6         2\n",
      "         ..\n",
      "312289    1\n",
      "312290    1\n",
      "312292    1\n",
      "312295    1\n",
      "312296    1\n",
      "Name: Crime Name1, Length: 229017, dtype: int32\n",
      "0         Crime Against Property\n",
      "1          Crime Against Society\n",
      "2         Crime Against Property\n",
      "3           Crime Against Person\n",
      "4          Crime Against Society\n",
      "                   ...          \n",
      "229012    Crime Against Property\n",
      "229013    Crime Against Property\n",
      "229014    Crime Against Property\n",
      "229015    Crime Against Property\n",
      "229016    Crime Against Property\n",
      "Name: Crime Name1, Length: 229017, dtype: object\n"
     ]
    },
    {
     "data": {
      "text/html": [
       "<div>\n",
       "<style scoped>\n",
       "    .dataframe tbody tr th:only-of-type {\n",
       "        vertical-align: middle;\n",
       "    }\n",
       "\n",
       "    .dataframe tbody tr th {\n",
       "        vertical-align: top;\n",
       "    }\n",
       "\n",
       "    .dataframe thead th {\n",
       "        text-align: right;\n",
       "    }\n",
       "</style>\n",
       "<table border=\"1\" class=\"dataframe\">\n",
       "  <thead>\n",
       "    <tr style=\"text-align: right;\">\n",
       "      <th></th>\n",
       "      <th>Crime Name1</th>\n",
       "      <th>Crime Name2</th>\n",
       "      <th>Police District Name</th>\n",
       "      <th>City</th>\n",
       "      <th>Zip Code</th>\n",
       "      <th>Place</th>\n",
       "      <th>Street Name</th>\n",
       "      <th>Latitude</th>\n",
       "      <th>Longitude</th>\n",
       "      <th>dateHour</th>\n",
       "      <th>day</th>\n",
       "      <th>month</th>\n",
       "    </tr>\n",
       "  </thead>\n",
       "  <tbody>\n",
       "    <tr>\n",
       "      <th>0</th>\n",
       "      <td>1</td>\n",
       "      <td>Robbery</td>\n",
       "      <td>WHEATON</td>\n",
       "      <td>SILVER SPRING</td>\n",
       "      <td>20902.0</td>\n",
       "      <td>Street - Bus Stop</td>\n",
       "      <td>GEORGIA</td>\n",
       "      <td>39.036270</td>\n",
       "      <td>-77.049900</td>\n",
       "      <td>21</td>\n",
       "      <td>21</td>\n",
       "      <td>12</td>\n",
       "    </tr>\n",
       "    <tr>\n",
       "      <th>2</th>\n",
       "      <td>2</td>\n",
       "      <td>Driving Under the Influence</td>\n",
       "      <td>ROCKVILLE</td>\n",
       "      <td>ROCKVILLE</td>\n",
       "      <td>20850.0</td>\n",
       "      <td>Street - In vehicle</td>\n",
       "      <td>GRANDIN</td>\n",
       "      <td>39.086688</td>\n",
       "      <td>-77.144754</td>\n",
       "      <td>2</td>\n",
       "      <td>3</td>\n",
       "      <td>1</td>\n",
       "    </tr>\n",
       "    <tr>\n",
       "      <th>4</th>\n",
       "      <td>1</td>\n",
       "      <td>Shoplifting</td>\n",
       "      <td>GERMANTOWN</td>\n",
       "      <td>GERMANTOWN</td>\n",
       "      <td>20876.0</td>\n",
       "      <td>Retail - Department/Discount Store</td>\n",
       "      <td>FREDERICK</td>\n",
       "      <td>39.198295</td>\n",
       "      <td>-77.244900</td>\n",
       "      <td>17</td>\n",
       "      <td>16</td>\n",
       "      <td>7</td>\n",
       "    </tr>\n",
       "    <tr>\n",
       "      <th>5</th>\n",
       "      <td>0</td>\n",
       "      <td>Forcible Rape</td>\n",
       "      <td>MONTGOMERY VILLAGE</td>\n",
       "      <td>GAITHERSBURG</td>\n",
       "      <td>20879.0</td>\n",
       "      <td>Residence - Apartment/Condo</td>\n",
       "      <td>SNOUFFER SCHOOL</td>\n",
       "      <td>39.168194</td>\n",
       "      <td>-77.175049</td>\n",
       "      <td>14</td>\n",
       "      <td>21</td>\n",
       "      <td>9</td>\n",
       "    </tr>\n",
       "    <tr>\n",
       "      <th>6</th>\n",
       "      <td>2</td>\n",
       "      <td>Prostitution</td>\n",
       "      <td>ROCKVILLE</td>\n",
       "      <td>ROCKVILLE</td>\n",
       "      <td>20850.0</td>\n",
       "      <td>Retail - Salon/Spa</td>\n",
       "      <td>FREDERICK</td>\n",
       "      <td>39.103443</td>\n",
       "      <td>-77.155941</td>\n",
       "      <td>12</td>\n",
       "      <td>28</td>\n",
       "      <td>2</td>\n",
       "    </tr>\n",
       "  </tbody>\n",
       "</table>\n",
       "</div>"
      ],
      "text/plain": [
       "   Crime Name1                  Crime Name2 Police District Name  \\\n",
       "0            1                      Robbery              WHEATON   \n",
       "2            2  Driving Under the Influence            ROCKVILLE   \n",
       "4            1                  Shoplifting           GERMANTOWN   \n",
       "5            0                Forcible Rape   MONTGOMERY VILLAGE   \n",
       "6            2                 Prostitution            ROCKVILLE   \n",
       "\n",
       "            City  Zip Code                               Place  \\\n",
       "0  SILVER SPRING   20902.0                   Street - Bus Stop   \n",
       "2      ROCKVILLE   20850.0                 Street - In vehicle   \n",
       "4     GERMANTOWN   20876.0  Retail - Department/Discount Store   \n",
       "5   GAITHERSBURG   20879.0         Residence - Apartment/Condo   \n",
       "6      ROCKVILLE   20850.0                  Retail - Salon/Spa   \n",
       "\n",
       "       Street Name   Latitude  Longitude  dateHour  day  month  \n",
       "0          GEORGIA  39.036270 -77.049900        21   21     12  \n",
       "2          GRANDIN  39.086688 -77.144754         2    3      1  \n",
       "4        FREDERICK  39.198295 -77.244900        17   16      7  \n",
       "5  SNOUFFER SCHOOL  39.168194 -77.175049        14   21      9  \n",
       "6        FREDERICK  39.103443 -77.155941        12   28      2  "
      ]
     },
     "execution_count": 386,
     "metadata": {},
     "output_type": "execute_result"
    }
   ],
   "source": [
    "encoded_dict ={}\n",
    "temp_df = pd.DataFrame()\n",
    "\n",
    "def label_encoder(y):\n",
    "    le = LabelEncoder()\n",
    "    #print(loc_crime_df[y])\n",
    "    loc_crime_df[y] = le.fit_transform(loc_crime_df[y])\n",
    "    #print(loc_crime_df[y])\n",
    "    if y== 'Crime Name1':\n",
    "        temp_df[y] = le.inverse_transform(loc_crime_df[y])\n",
    "        encoded_dict[loc_crime_df[y]] = temp_df[y]\n",
    "    #print(temp_df[y])\n",
    "\n",
    "#loc_crime_df = inputdf[['Crime Name1','Crime Name2', 'Police District Name', 'City', 'Place', 'Street Name']]\n",
    "\n",
    "#label_list = ['Crime Name1','Crime Name2', 'Police District Name', 'City', 'Place', 'Street Name']\n",
    "label_list = ['Crime Name1']\n",
    "\n",
    "for l in label_list:\n",
    "    label_encoder(l)\n",
    "\n",
    "print(encoded_dict)\n",
    " \n",
    "#Display transformed data\n",
    "loc_crime_df.head()"
   ]
  },
  {
   "cell_type": "code",
   "execution_count": 393,
   "metadata": {},
   "outputs": [
    {
     "name": "stdout",
     "output_type": "stream",
     "text": [
      "1    138559\n",
      "2     56619\n",
      "0     29791\n",
      "3      3564\n",
      "4       484\n",
      "Name: Crime Name1, dtype: int64\n",
      "Crime Against Property    138559\n",
      "Crime Against Society      56619\n",
      "Crime Against Person       29791\n",
      "Not a Crime                 3564\n",
      "Other                        484\n",
      "Name: Crime Name1, dtype: int64\n"
     ]
    }
   ],
   "source": [
    "print(loc_crime_df['Crime Name1'].value_counts())\n",
    "print(temp_df['Crime Name1'].value_counts())"
   ]
  },
  {
   "cell_type": "code",
   "execution_count": 388,
   "metadata": {},
   "outputs": [],
   "source": [
    "# temp_df = pd.DataFrame()\n",
    "# def label_decoder(y):\n",
    "#     #le = LabelEncoder()\n",
    "#     for value in loc_crime_df[y]:\n",
    "#         # finding key with value in dict\n",
    "#         temp_df[y] = list(encoded_dict.keys())[list(encoded_dict.values()).index(value)]\n",
    "\n",
    "# #loc_crime_df = inputdf[['Crime Name1','Crime Name2', 'Police District Name', 'City', 'Place', 'Street Name']]\n",
    "\n",
    "# #label_list = ['Crime Name1','Crime Name2', 'Police District Name', 'City', 'Place', 'Street Name']\n",
    "# label_list = ['Crime Name1']\n",
    "\n",
    "# for l in label_list:\n",
    "#     label_decoder(l)\n",
    "\n",
    "\n",
    "# print(temp_df['Crime Name1'])"
   ]
  },
  {
   "cell_type": "code",
   "execution_count": 389,
   "metadata": {},
   "outputs": [
    {
     "name": "stdout",
     "output_type": "stream",
     "text": [
      "       Police District Name                City  Zip Code  \\\n",
      "0                   WHEATON       SILVER SPRING   20902.0   \n",
      "2                 ROCKVILLE           ROCKVILLE   20850.0   \n",
      "4                GERMANTOWN          GERMANTOWN   20876.0   \n",
      "5        MONTGOMERY VILLAGE        GAITHERSBURG   20879.0   \n",
      "6                 ROCKVILLE           ROCKVILLE   20850.0   \n",
      "...                     ...                 ...       ...   \n",
      "312289              WHEATON       SILVER SPRING   20902.0   \n",
      "312290   MONTGOMERY VILLAGE  MONTGOMERY VILLAGE   20886.0   \n",
      "312292             BETHESDA            BETHESDA   20814.0   \n",
      "312295   MONTGOMERY VILLAGE        GAITHERSBURG   20877.0   \n",
      "312296        SILVER SPRING       SILVER SPRING   20910.0   \n",
      "\n",
      "                                     Place      Street Name  dateHour  day  \\\n",
      "0                        Street - Bus Stop          GEORGIA        21   21   \n",
      "2                      Street - In vehicle          GRANDIN         2    3   \n",
      "4       Retail - Department/Discount Store        FREDERICK        17   16   \n",
      "5              Residence - Apartment/Condo  SNOUFFER SCHOOL        14   21   \n",
      "6                       Retail - Salon/Spa        FREDERICK        12   28   \n",
      "...                                    ...              ...       ...  ...   \n",
      "312289                   Retail - Clothing       VEIRS MILL        13   13   \n",
      "312290           Parking Lot - Residential       LOST KNIFE        23   12   \n",
      "312292        Commercial - Office Building        WISCONSIN        12   13   \n",
      "312295                       Retail - Mall          RUSSELL        11   14   \n",
      "312296  Retail - Department/Discount Store       COLESVILLE        17   10   \n",
      "\n",
      "        month  \n",
      "0          12  \n",
      "2           1  \n",
      "4           7  \n",
      "5           9  \n",
      "6           2  \n",
      "...       ...  \n",
      "312289      9  \n",
      "312290      9  \n",
      "312292      9  \n",
      "312295      9  \n",
      "312296      9  \n",
      "\n",
      "[229017 rows x 8 columns]\n"
     ]
    }
   ],
   "source": [
    "#Divide the dataset into independent and dependent variables\n",
    "# X = loc_crime_df.drop(['Crime Name2'],axis=1)\n",
    "# y = loc_crime_df['Crime Name2']\n",
    "\n",
    "\n",
    "# Going for generic prediction\n",
    "X = loc_crime_df.drop(['Crime Name1','Crime Name2', 'Latitude', 'Longitude'],axis=1)\n",
    "y = loc_crime_df['Crime Name1']\n",
    "\n",
    "print(X)\n"
   ]
  },
  {
   "cell_type": "code",
   "execution_count": 390,
   "metadata": {},
   "outputs": [
    {
     "name": "stdout",
     "output_type": "stream",
     "text": [
      "1    138559\n",
      "2     56619\n",
      "0     29791\n",
      "3      3564\n",
      "4       484\n",
      "Name: Crime Name1, dtype: int64\n"
     ]
    }
   ],
   "source": [
    "print(y.value_counts())"
   ]
  },
  {
   "cell_type": "code",
   "execution_count": 391,
   "metadata": {},
   "outputs": [
    {
     "name": "stdout",
     "output_type": "stream",
     "text": [
      "X_train shape: (183213, 8)\n",
      "X_test shape: (45804, 8)\n",
      "y_train shape: (183213,)\n",
      "y_test shape: (45804,)\n"
     ]
    }
   ],
   "source": [
    "#Split the data into training and testing set\n",
    "X_train,X_test,y_train,y_test=train_test_split(X,y,test_size=0.2,\n",
    "                                               random_state=42, shuffle = True) \n",
    "\n",
    "#Data was splitted as 80% train data and 20% test data.\n",
    "\n",
    "# y_train = y_train.values.reshape(-1,1)\n",
    "# y_test = y_test.values.reshape(-1,1)\n",
    "\n",
    "print(\"X_train shape:\",X_train.shape)\n",
    "print(\"X_test shape:\",X_test.shape)\n",
    "print(\"y_train shape:\",y_train.shape)\n",
    "print(\"y_test shape:\",y_test.shape)"
   ]
  },
  {
   "cell_type": "code",
   "execution_count": 392,
   "metadata": {},
   "outputs": [
    {
     "ename": "ValueError",
     "evalue": "could not convert string to float: 'BETHESDA'",
     "output_type": "error",
     "traceback": [
      "\u001b[1;31m---------------------------------------------------------------------------\u001b[0m",
      "\u001b[1;31mValueError\u001b[0m                                Traceback (most recent call last)",
      "\u001b[1;32m~\\AppData\\Local\\Temp\\ipykernel_23176\\395377152.py\u001b[0m in \u001b[0;36m<module>\u001b[1;34m\u001b[0m\n\u001b[0;32m      1\u001b[0m \u001b[1;31m#Feature Scaling (Standardize the data)\u001b[0m\u001b[1;33m\u001b[0m\u001b[1;33m\u001b[0m\u001b[0m\n\u001b[0;32m      2\u001b[0m \u001b[0msc\u001b[0m \u001b[1;33m=\u001b[0m \u001b[0mStandardScaler\u001b[0m\u001b[1;33m(\u001b[0m\u001b[1;33m)\u001b[0m\u001b[1;33m\u001b[0m\u001b[1;33m\u001b[0m\u001b[0m\n\u001b[1;32m----> 3\u001b[1;33m \u001b[0mX_train\u001b[0m \u001b[1;33m=\u001b[0m \u001b[0msc\u001b[0m\u001b[1;33m.\u001b[0m\u001b[0mfit_transform\u001b[0m\u001b[1;33m(\u001b[0m\u001b[0mX_train\u001b[0m\u001b[1;33m)\u001b[0m\u001b[1;33m\u001b[0m\u001b[1;33m\u001b[0m\u001b[0m\n\u001b[0m\u001b[0;32m      4\u001b[0m \u001b[0mX_test\u001b[0m \u001b[1;33m=\u001b[0m \u001b[0msc\u001b[0m\u001b[1;33m.\u001b[0m\u001b[0mtransform\u001b[0m\u001b[1;33m(\u001b[0m\u001b[0mX_test\u001b[0m\u001b[1;33m)\u001b[0m\u001b[1;33m\u001b[0m\u001b[1;33m\u001b[0m\u001b[0m\n",
      "\u001b[1;32mc:\\ProgramData\\Anaconda3\\lib\\site-packages\\sklearn\\base.py\u001b[0m in \u001b[0;36mfit_transform\u001b[1;34m(self, X, y, **fit_params)\u001b[0m\n\u001b[0;32m    850\u001b[0m         \u001b[1;32mif\u001b[0m \u001b[0my\u001b[0m \u001b[1;32mis\u001b[0m \u001b[1;32mNone\u001b[0m\u001b[1;33m:\u001b[0m\u001b[1;33m\u001b[0m\u001b[1;33m\u001b[0m\u001b[0m\n\u001b[0;32m    851\u001b[0m             \u001b[1;31m# fit method of arity 1 (unsupervised transformation)\u001b[0m\u001b[1;33m\u001b[0m\u001b[1;33m\u001b[0m\u001b[0m\n\u001b[1;32m--> 852\u001b[1;33m             \u001b[1;32mreturn\u001b[0m \u001b[0mself\u001b[0m\u001b[1;33m.\u001b[0m\u001b[0mfit\u001b[0m\u001b[1;33m(\u001b[0m\u001b[0mX\u001b[0m\u001b[1;33m,\u001b[0m \u001b[1;33m**\u001b[0m\u001b[0mfit_params\u001b[0m\u001b[1;33m)\u001b[0m\u001b[1;33m.\u001b[0m\u001b[0mtransform\u001b[0m\u001b[1;33m(\u001b[0m\u001b[0mX\u001b[0m\u001b[1;33m)\u001b[0m\u001b[1;33m\u001b[0m\u001b[1;33m\u001b[0m\u001b[0m\n\u001b[0m\u001b[0;32m    853\u001b[0m         \u001b[1;32melse\u001b[0m\u001b[1;33m:\u001b[0m\u001b[1;33m\u001b[0m\u001b[1;33m\u001b[0m\u001b[0m\n\u001b[0;32m    854\u001b[0m             \u001b[1;31m# fit method of arity 2 (supervised transformation)\u001b[0m\u001b[1;33m\u001b[0m\u001b[1;33m\u001b[0m\u001b[0m\n",
      "\u001b[1;32mc:\\ProgramData\\Anaconda3\\lib\\site-packages\\sklearn\\preprocessing\\_data.py\u001b[0m in \u001b[0;36mfit\u001b[1;34m(self, X, y, sample_weight)\u001b[0m\n\u001b[0;32m    804\u001b[0m         \u001b[1;31m# Reset internal state before fitting\u001b[0m\u001b[1;33m\u001b[0m\u001b[1;33m\u001b[0m\u001b[0m\n\u001b[0;32m    805\u001b[0m         \u001b[0mself\u001b[0m\u001b[1;33m.\u001b[0m\u001b[0m_reset\u001b[0m\u001b[1;33m(\u001b[0m\u001b[1;33m)\u001b[0m\u001b[1;33m\u001b[0m\u001b[1;33m\u001b[0m\u001b[0m\n\u001b[1;32m--> 806\u001b[1;33m         \u001b[1;32mreturn\u001b[0m \u001b[0mself\u001b[0m\u001b[1;33m.\u001b[0m\u001b[0mpartial_fit\u001b[0m\u001b[1;33m(\u001b[0m\u001b[0mX\u001b[0m\u001b[1;33m,\u001b[0m \u001b[0my\u001b[0m\u001b[1;33m,\u001b[0m \u001b[0msample_weight\u001b[0m\u001b[1;33m)\u001b[0m\u001b[1;33m\u001b[0m\u001b[1;33m\u001b[0m\u001b[0m\n\u001b[0m\u001b[0;32m    807\u001b[0m \u001b[1;33m\u001b[0m\u001b[0m\n\u001b[0;32m    808\u001b[0m     \u001b[1;32mdef\u001b[0m \u001b[0mpartial_fit\u001b[0m\u001b[1;33m(\u001b[0m\u001b[0mself\u001b[0m\u001b[1;33m,\u001b[0m \u001b[0mX\u001b[0m\u001b[1;33m,\u001b[0m \u001b[0my\u001b[0m\u001b[1;33m=\u001b[0m\u001b[1;32mNone\u001b[0m\u001b[1;33m,\u001b[0m \u001b[0msample_weight\u001b[0m\u001b[1;33m=\u001b[0m\u001b[1;32mNone\u001b[0m\u001b[1;33m)\u001b[0m\u001b[1;33m:\u001b[0m\u001b[1;33m\u001b[0m\u001b[1;33m\u001b[0m\u001b[0m\n",
      "\u001b[1;32mc:\\ProgramData\\Anaconda3\\lib\\site-packages\\sklearn\\preprocessing\\_data.py\u001b[0m in \u001b[0;36mpartial_fit\u001b[1;34m(self, X, y, sample_weight)\u001b[0m\n\u001b[0;32m    839\u001b[0m         \"\"\"\n\u001b[0;32m    840\u001b[0m         \u001b[0mfirst_call\u001b[0m \u001b[1;33m=\u001b[0m \u001b[1;32mnot\u001b[0m \u001b[0mhasattr\u001b[0m\u001b[1;33m(\u001b[0m\u001b[0mself\u001b[0m\u001b[1;33m,\u001b[0m \u001b[1;34m\"n_samples_seen_\"\u001b[0m\u001b[1;33m)\u001b[0m\u001b[1;33m\u001b[0m\u001b[1;33m\u001b[0m\u001b[0m\n\u001b[1;32m--> 841\u001b[1;33m         X = self._validate_data(\n\u001b[0m\u001b[0;32m    842\u001b[0m             \u001b[0mX\u001b[0m\u001b[1;33m,\u001b[0m\u001b[1;33m\u001b[0m\u001b[1;33m\u001b[0m\u001b[0m\n\u001b[0;32m    843\u001b[0m             \u001b[0maccept_sparse\u001b[0m\u001b[1;33m=\u001b[0m\u001b[1;33m(\u001b[0m\u001b[1;34m\"csr\"\u001b[0m\u001b[1;33m,\u001b[0m \u001b[1;34m\"csc\"\u001b[0m\u001b[1;33m)\u001b[0m\u001b[1;33m,\u001b[0m\u001b[1;33m\u001b[0m\u001b[1;33m\u001b[0m\u001b[0m\n",
      "\u001b[1;32mc:\\ProgramData\\Anaconda3\\lib\\site-packages\\sklearn\\base.py\u001b[0m in \u001b[0;36m_validate_data\u001b[1;34m(self, X, y, reset, validate_separately, **check_params)\u001b[0m\n\u001b[0;32m    564\u001b[0m             \u001b[1;32mraise\u001b[0m \u001b[0mValueError\u001b[0m\u001b[1;33m(\u001b[0m\u001b[1;34m\"Validation should be done on X, y or both.\"\u001b[0m\u001b[1;33m)\u001b[0m\u001b[1;33m\u001b[0m\u001b[1;33m\u001b[0m\u001b[0m\n\u001b[0;32m    565\u001b[0m         \u001b[1;32melif\u001b[0m \u001b[1;32mnot\u001b[0m \u001b[0mno_val_X\u001b[0m \u001b[1;32mand\u001b[0m \u001b[0mno_val_y\u001b[0m\u001b[1;33m:\u001b[0m\u001b[1;33m\u001b[0m\u001b[1;33m\u001b[0m\u001b[0m\n\u001b[1;32m--> 566\u001b[1;33m             \u001b[0mX\u001b[0m \u001b[1;33m=\u001b[0m \u001b[0mcheck_array\u001b[0m\u001b[1;33m(\u001b[0m\u001b[0mX\u001b[0m\u001b[1;33m,\u001b[0m \u001b[1;33m**\u001b[0m\u001b[0mcheck_params\u001b[0m\u001b[1;33m)\u001b[0m\u001b[1;33m\u001b[0m\u001b[1;33m\u001b[0m\u001b[0m\n\u001b[0m\u001b[0;32m    567\u001b[0m             \u001b[0mout\u001b[0m \u001b[1;33m=\u001b[0m \u001b[0mX\u001b[0m\u001b[1;33m\u001b[0m\u001b[1;33m\u001b[0m\u001b[0m\n\u001b[0;32m    568\u001b[0m         \u001b[1;32melif\u001b[0m \u001b[0mno_val_X\u001b[0m \u001b[1;32mand\u001b[0m \u001b[1;32mnot\u001b[0m \u001b[0mno_val_y\u001b[0m\u001b[1;33m:\u001b[0m\u001b[1;33m\u001b[0m\u001b[1;33m\u001b[0m\u001b[0m\n",
      "\u001b[1;32mc:\\ProgramData\\Anaconda3\\lib\\site-packages\\sklearn\\utils\\validation.py\u001b[0m in \u001b[0;36mcheck_array\u001b[1;34m(array, accept_sparse, accept_large_sparse, dtype, order, copy, force_all_finite, ensure_2d, allow_nd, ensure_min_samples, ensure_min_features, estimator)\u001b[0m\n\u001b[0;32m    744\u001b[0m                     \u001b[0marray\u001b[0m \u001b[1;33m=\u001b[0m \u001b[0marray\u001b[0m\u001b[1;33m.\u001b[0m\u001b[0mastype\u001b[0m\u001b[1;33m(\u001b[0m\u001b[0mdtype\u001b[0m\u001b[1;33m,\u001b[0m \u001b[0mcasting\u001b[0m\u001b[1;33m=\u001b[0m\u001b[1;34m\"unsafe\"\u001b[0m\u001b[1;33m,\u001b[0m \u001b[0mcopy\u001b[0m\u001b[1;33m=\u001b[0m\u001b[1;32mFalse\u001b[0m\u001b[1;33m)\u001b[0m\u001b[1;33m\u001b[0m\u001b[1;33m\u001b[0m\u001b[0m\n\u001b[0;32m    745\u001b[0m                 \u001b[1;32melse\u001b[0m\u001b[1;33m:\u001b[0m\u001b[1;33m\u001b[0m\u001b[1;33m\u001b[0m\u001b[0m\n\u001b[1;32m--> 746\u001b[1;33m                     \u001b[0marray\u001b[0m \u001b[1;33m=\u001b[0m \u001b[0mnp\u001b[0m\u001b[1;33m.\u001b[0m\u001b[0masarray\u001b[0m\u001b[1;33m(\u001b[0m\u001b[0marray\u001b[0m\u001b[1;33m,\u001b[0m \u001b[0morder\u001b[0m\u001b[1;33m=\u001b[0m\u001b[0morder\u001b[0m\u001b[1;33m,\u001b[0m \u001b[0mdtype\u001b[0m\u001b[1;33m=\u001b[0m\u001b[0mdtype\u001b[0m\u001b[1;33m)\u001b[0m\u001b[1;33m\u001b[0m\u001b[1;33m\u001b[0m\u001b[0m\n\u001b[0m\u001b[0;32m    747\u001b[0m             \u001b[1;32mexcept\u001b[0m \u001b[0mComplexWarning\u001b[0m \u001b[1;32mas\u001b[0m \u001b[0mcomplex_warning\u001b[0m\u001b[1;33m:\u001b[0m\u001b[1;33m\u001b[0m\u001b[1;33m\u001b[0m\u001b[0m\n\u001b[0;32m    748\u001b[0m                 raise ValueError(\n",
      "\u001b[1;32mc:\\ProgramData\\Anaconda3\\lib\\site-packages\\pandas\\core\\generic.py\u001b[0m in \u001b[0;36m__array__\u001b[1;34m(self, dtype)\u001b[0m\n\u001b[0;32m   2062\u001b[0m \u001b[1;33m\u001b[0m\u001b[0m\n\u001b[0;32m   2063\u001b[0m     \u001b[1;32mdef\u001b[0m \u001b[0m__array__\u001b[0m\u001b[1;33m(\u001b[0m\u001b[0mself\u001b[0m\u001b[1;33m,\u001b[0m \u001b[0mdtype\u001b[0m\u001b[1;33m:\u001b[0m \u001b[0mnpt\u001b[0m\u001b[1;33m.\u001b[0m\u001b[0mDTypeLike\u001b[0m \u001b[1;33m|\u001b[0m \u001b[1;32mNone\u001b[0m \u001b[1;33m=\u001b[0m \u001b[1;32mNone\u001b[0m\u001b[1;33m)\u001b[0m \u001b[1;33m->\u001b[0m \u001b[0mnp\u001b[0m\u001b[1;33m.\u001b[0m\u001b[0mndarray\u001b[0m\u001b[1;33m:\u001b[0m\u001b[1;33m\u001b[0m\u001b[1;33m\u001b[0m\u001b[0m\n\u001b[1;32m-> 2064\u001b[1;33m         \u001b[1;32mreturn\u001b[0m \u001b[0mnp\u001b[0m\u001b[1;33m.\u001b[0m\u001b[0masarray\u001b[0m\u001b[1;33m(\u001b[0m\u001b[0mself\u001b[0m\u001b[1;33m.\u001b[0m\u001b[0m_values\u001b[0m\u001b[1;33m,\u001b[0m \u001b[0mdtype\u001b[0m\u001b[1;33m=\u001b[0m\u001b[0mdtype\u001b[0m\u001b[1;33m)\u001b[0m\u001b[1;33m\u001b[0m\u001b[1;33m\u001b[0m\u001b[0m\n\u001b[0m\u001b[0;32m   2065\u001b[0m \u001b[1;33m\u001b[0m\u001b[0m\n\u001b[0;32m   2066\u001b[0m     def __array_wrap__(\n",
      "\u001b[1;31mValueError\u001b[0m: could not convert string to float: 'BETHESDA'"
     ]
    }
   ],
   "source": [
    "#Feature Scaling (Standardize the data)\n",
    "sc = StandardScaler()\n",
    "X_train = sc.fit_transform(X_train)\n",
    "X_test = sc.transform(X_test)"
   ]
  },
  {
   "cell_type": "markdown",
   "metadata": {},
   "source": [
    "# We will build all six models and compare their accuracy scores.\n",
    "\n"
   ]
  },
  {
   "cell_type": "code",
   "execution_count": null,
   "metadata": {},
   "outputs": [],
   "source": [
    "#To store results of models, we create two dictionaries\n",
    "result_dict_train = {}\n",
    "result_dict_test = {}"
   ]
  },
  {
   "cell_type": "markdown",
   "metadata": {},
   "source": [
    "# Machine Leaning Models and their performance\n"
   ]
  },
  {
   "cell_type": "code",
   "execution_count": null,
   "metadata": {},
   "outputs": [],
   "source": [
    "models = {'Naïve Bayes Classifier': GaussianNB, 'Decision Tree Classifier' : DecisionTreeClassifier, 'KNN Classifier': KNeighborsClassifier,\n",
    "        'Random Forest Classifier': RandomForestClassifier,'Logistic Regression': LogisticRegression}\n",
    "        # , 'Support Vector Classifier': SVC}\n",
    "# for keys, values in sorted(models.items()):\n",
    "#     print(keys +\" is \"+ values)\n",
    "\n",
    "warnings.filterwarnings(\"ignore\")\n",
    "\n",
    "# for name, model in models.items():\n",
    "#     print(name +\" is \"+ model)\n",
    "    "
   ]
  },
  {
   "cell_type": "code",
   "execution_count": null,
   "metadata": {},
   "outputs": [],
   "source": [
    "for model_name, model_function in models.items():\n",
    "    print(model_name +' is running')\n",
    "    try:\n",
    "        model = model_function(random_state = 42)\n",
    "    except:\n",
    "        if(model_name=='Logistic Regression'):\n",
    "            model = model_function(solver='lbfgs', max_iter=1000)\n",
    "        model = model_function()\n",
    "    accuracies = cross_val_score(model, X_train, y_train, cv=5)\n",
    "    model.fit(X_train,y_train)\n",
    "    y_pred = model.predict(X_test)\n",
    "\n",
    "    #Obtain accuracy\n",
    "    print(\"Train Score:\",np.mean(accuracies))\n",
    "    print(\"Test Score:\",model.score(X_test,y_test))\n",
    "\n",
    "    #Confusion matrix\n",
    "    plot_confusion_matrix(model, X_test, y_test)  \n",
    "    plt.show()\n",
    "\n",
    "\n",
    "    #Store results in the dictionaries\n",
    "    result_dict_train['Train Score for '+model_name] = np.mean(accuracies)\n",
    "    result_dict_test['Test Score for '+model_name] = model.score(X_test,y_test)\n",
    "    \n"
   ]
  },
  {
   "cell_type": "code",
   "execution_count": null,
   "metadata": {},
   "outputs": [],
   "source": [
    "# lengthy_models = {'Support Vector Classifier': SVC,\n",
    "#         'Random Forest Classifier': RandomForestClassifier}\n",
    "# for model_name, model_function in lengthy_models.items():\n",
    "#     print(model_name +' is running')\n",
    "#     try:\n",
    "#         model = model_function(random_state = 42)\n",
    "#     except:\n",
    "#         model = model_function()\n",
    "#     accuracies = cross_val_score(model, X_train, y_train, cv=5)\n",
    "#     model.fit(X_train,y_train)\n",
    "#     y_pred = model.predict(X_test)\n",
    "\n",
    "#     #Obtain accuracy\n",
    "#     print(\"Train Score:\",np.mean(accuracies))\n",
    "#     print(\"Test Score:\",model.score(X_test,y_test))\n",
    "\n",
    "\n",
    "#     # #Store results in the dictionaries\n",
    "#     # result_dict_train['Train Score for '+model_name] = np.mean(accuracies)\n",
    "#     # result_dict_test['Test Score for '+model_name] = model.score(X_test,y_test)"
   ]
  },
  {
   "cell_type": "markdown",
   "metadata": {},
   "source": [
    "# Compare Accuracy Scores"
   ]
  },
  {
   "cell_type": "code",
   "execution_count": null,
   "metadata": {},
   "outputs": [],
   "source": [
    "df_result_train = pd.DataFrame.from_dict(result_dict_train,orient = \"index\", columns=[\"Score\"])\n",
    "print(df_result_train)\n",
    "\n",
    "df_result_test = pd.DataFrame.from_dict(result_dict_test,orient = \"index\",columns=[\"Score\"])\n",
    "df_result_test\n"
   ]
  },
  {
   "cell_type": "markdown",
   "metadata": {},
   "source": [
    "# Display the accuracy scores"
   ]
  },
  {
   "cell_type": "code",
   "execution_count": null,
   "metadata": {},
   "outputs": [],
   "source": [
    "import seaborn as sns\n",
    "\n",
    "fig,ax = plt.subplots(1,2,figsize=(10,5))\n",
    "sns.barplot(x = df_result_train.index,y = df_result_train.Score,ax = ax[0])\n",
    "sns.barplot(x = df_result_test.index,y = df_result_test.Score,ax = ax[1])\n",
    "ax[0].set_xticklabels(df_result_train.index,rotation = 75)\n",
    "ax[1].set_xticklabels(df_result_test.index,rotation = 75)\n",
    "#plt.show()\n",
    "# plt.savefig('Predicting Specific Crime')"
   ]
  }
 ],
 "metadata": {
  "kernelspec": {
   "display_name": "Python 3.9.13 ('base')",
   "language": "python",
   "name": "python3"
  },
  "language_info": {
   "codemirror_mode": {
    "name": "ipython",
    "version": 3
   },
   "file_extension": ".py",
   "mimetype": "text/x-python",
   "name": "python",
   "nbconvert_exporter": "python",
   "pygments_lexer": "ipython3",
   "version": "3.9.13"
  },
  "orig_nbformat": 4,
  "vscode": {
   "interpreter": {
    "hash": "ad2bdc8ecc057115af97d19610ffacc2b4e99fae6737bb82f5d7fb13d2f2c186"
   }
  }
 },
 "nbformat": 4,
 "nbformat_minor": 2
}
