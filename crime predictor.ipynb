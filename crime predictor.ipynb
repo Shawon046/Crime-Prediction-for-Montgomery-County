{
 "cells": [
  {
   "cell_type": "code",
   "execution_count": 1,
   "metadata": {},
   "outputs": [],
   "source": [
    "import matplotlib.pyplot as plt\n",
    "import pandas as pd\n",
    "import numpy as np\n",
    "import datetime\n",
    "import warnings\n",
    "from sklearn.neighbors import KNeighborsRegressor\n",
    "from sklearn.linear_model import LinearRegression\n",
    "from sklearn.model_selection import train_test_split\n",
    "from sklearn.metrics import precision_recall_fscore_support\n",
    "import sys\n",
    "sys.path.insert(0,'../')"
   ]
  },
  {
   "cell_type": "code",
   "execution_count": 7,
   "metadata": {},
   "outputs": [
    {
     "name": "stdout",
     "output_type": "stream",
     "text": [
      "(312297, 30)\n"
     ]
    },
    {
     "name": "stderr",
     "output_type": "stream",
     "text": [
      "C:\\Users\\shawo\\AppData\\Local\\Temp\\ipykernel_15032\\3878786499.py:4: DtypeWarning: Columns (1,18) have mixed types. Specify dtype option on import or set low_memory=False.\n",
      "  data = pd.read_csv('Crime.csv')\n"
     ]
    }
   ],
   "source": [
    "# At first we mount the dataset from local file\n",
    "import pandas as pd\n",
    "import numpy as np\n",
    "data = pd.read_csv('Crime.csv')\n",
    "\n",
    "# sneak peak in the data\n",
    "data.head(2)\n"
   ]
  },
  {
   "cell_type": "code",
   "execution_count": 8,
   "metadata": {},
   "outputs": [
    {
     "name": "stdout",
     "output_type": "stream",
     "text": [
      "(312297, 30)\n"
     ]
    },
    {
     "data": {
      "text/plain": [
       "Index(['Incident ID', 'Offence Code', 'CR Number', 'Dispatch Date / Time',\n",
       "       'NIBRS Code', 'Victims', 'Crime Name1', 'Crime Name2', 'Crime Name3',\n",
       "       'Police District Name', 'Block Address', 'City', 'State', 'Zip Code',\n",
       "       'Agency', 'Place', 'Sector', 'Beat', 'PRA', 'Address Number',\n",
       "       'Street Prefix', 'Street Name', 'Street Suffix', 'Street Type',\n",
       "       'Start_Date_Time', 'End_Date_Time', 'Latitude', 'Longitude',\n",
       "       'Police District Number', 'Location'],\n",
       "      dtype='object')"
      ]
     },
     "execution_count": 8,
     "metadata": {},
     "output_type": "execute_result"
    }
   ],
   "source": [
    "print(data.shape)\n",
    "# 'column names are:' \n",
    "data.columns"
   ]
  },
  {
   "cell_type": "markdown",
   "metadata": {},
   "source": [
    "Analyzing the dataset, we observe that columns -\n",
    "\n",
    "\n",
    "* Incident ID\n",
    "*\tOffence Code\n",
    "* CR Number\n",
    "* NIBRS Code\n",
    "* State (All should be MD)\n",
    "* Sector, Beat, PRA - meaningless\n",
    "* Address Number (included in \"Block Address\")\n",
    "* Street Prefix (lots of missing values)\n",
    "* Street Suffix (lots of missing values)\n",
    "* Police District Number (meaningless)\n",
    "* Location (pair of Latitude and Longitude)\n",
    "\n",
    " are unnecessary. So they are removed."
   ]
  },
  {
   "cell_type": "code",
   "execution_count": 10,
   "metadata": {},
   "outputs": [
    {
     "data": {
      "text/html": [
       "<div>\n",
       "<style scoped>\n",
       "    .dataframe tbody tr th:only-of-type {\n",
       "        vertical-align: middle;\n",
       "    }\n",
       "\n",
       "    .dataframe tbody tr th {\n",
       "        vertical-align: top;\n",
       "    }\n",
       "\n",
       "    .dataframe thead th {\n",
       "        text-align: right;\n",
       "    }\n",
       "</style>\n",
       "<table border=\"1\" class=\"dataframe\">\n",
       "  <thead>\n",
       "    <tr style=\"text-align: right;\">\n",
       "      <th></th>\n",
       "      <th>Dispatch Date / Time</th>\n",
       "      <th>Victims</th>\n",
       "      <th>Crime Name1</th>\n",
       "      <th>Crime Name2</th>\n",
       "      <th>Crime Name3</th>\n",
       "      <th>Police District Name</th>\n",
       "      <th>Block Address</th>\n",
       "      <th>City</th>\n",
       "      <th>Zip Code</th>\n",
       "      <th>Agency</th>\n",
       "      <th>Place</th>\n",
       "      <th>Street Name</th>\n",
       "      <th>Street Type</th>\n",
       "      <th>Start_Date_Time</th>\n",
       "      <th>End_Date_Time</th>\n",
       "      <th>Latitude</th>\n",
       "      <th>Longitude</th>\n",
       "    </tr>\n",
       "  </thead>\n",
       "  <tbody>\n",
       "    <tr>\n",
       "      <th>0</th>\n",
       "      <td>12/21/2018 09:13:13 PM</td>\n",
       "      <td>1</td>\n",
       "      <td>Crime Against Property</td>\n",
       "      <td>Robbery</td>\n",
       "      <td>ROBBERY - STREET-GUN</td>\n",
       "      <td>WHEATON</td>\n",
       "      <td>11100 BLK  GEORGIA AVE</td>\n",
       "      <td>SILVER SPRING</td>\n",
       "      <td>20902.0</td>\n",
       "      <td>MCPD</td>\n",
       "      <td>Street - Bus Stop</td>\n",
       "      <td>GEORGIA</td>\n",
       "      <td>AVE</td>\n",
       "      <td>12/21/2018 09:13:00 PM</td>\n",
       "      <td>NaN</td>\n",
       "      <td>39.03627</td>\n",
       "      <td>-77.0499</td>\n",
       "    </tr>\n",
       "    <tr>\n",
       "      <th>1</th>\n",
       "      <td>09/13/2020 12:26:58 AM</td>\n",
       "      <td>1</td>\n",
       "      <td>Crime Against Society</td>\n",
       "      <td>All Other Offenses</td>\n",
       "      <td>OBSTRUCT GOVT - VIOLATION OF A COURT ORDER</td>\n",
       "      <td>GERMANTOWN</td>\n",
       "      <td>25600 BLK  COLTRANE DR</td>\n",
       "      <td>DAMASCUS</td>\n",
       "      <td>20872.0</td>\n",
       "      <td>MCPD</td>\n",
       "      <td>Parking Lot - Residential</td>\n",
       "      <td>COLTRANE</td>\n",
       "      <td>DR</td>\n",
       "      <td>08/08/2020 05:10:00 PM</td>\n",
       "      <td>08/08/2020 12:00:00 AM</td>\n",
       "      <td>39.27784</td>\n",
       "      <td>-77.2115</td>\n",
       "    </tr>\n",
       "  </tbody>\n",
       "</table>\n",
       "</div>"
      ],
      "text/plain": [
       "     Dispatch Date / Time  Victims             Crime Name1  \\\n",
       "0  12/21/2018 09:13:13 PM        1  Crime Against Property   \n",
       "1  09/13/2020 12:26:58 AM        1   Crime Against Society   \n",
       "\n",
       "          Crime Name2                                 Crime Name3  \\\n",
       "0             Robbery                        ROBBERY - STREET-GUN   \n",
       "1  All Other Offenses  OBSTRUCT GOVT - VIOLATION OF A COURT ORDER   \n",
       "\n",
       "  Police District Name           Block Address           City  Zip Code  \\\n",
       "0              WHEATON  11100 BLK  GEORGIA AVE  SILVER SPRING   20902.0   \n",
       "1           GERMANTOWN  25600 BLK  COLTRANE DR       DAMASCUS   20872.0   \n",
       "\n",
       "  Agency                      Place Street Name Street Type  \\\n",
       "0   MCPD          Street - Bus Stop     GEORGIA         AVE   \n",
       "1   MCPD  Parking Lot - Residential    COLTRANE          DR   \n",
       "\n",
       "          Start_Date_Time           End_Date_Time  Latitude  Longitude  \n",
       "0  12/21/2018 09:13:00 PM                     NaN  39.03627   -77.0499  \n",
       "1  08/08/2020 05:10:00 PM  08/08/2020 12:00:00 AM  39.27784   -77.2115  "
      ]
     },
     "execution_count": 10,
     "metadata": {},
     "output_type": "execute_result"
    }
   ],
   "source": [
    "# dropping the unnecessary columns\n",
    "inputdf = data\n",
    "unnecessary_columns = ['Incident ID', 'Offence Code', 'CR Number', 'NIBRS Code', 'State', 'Sector', 'Beat', 'PRA', 'Address Number', 'Street Prefix', 'Street Suffix', 'Police District Number', 'Location'  ]\n",
    "for i in unnecessary_columns:\n",
    "  inputdf = inputdf.drop(i, axis=1)\n",
    "inputdf.head(2)"
   ]
  },
  {
   "cell_type": "markdown",
   "metadata": {},
   "source": []
  },
  {
   "cell_type": "code",
   "execution_count": null,
   "metadata": {},
   "outputs": [],
   "source": [
    "Now we have to visualize the data and fix what to predict from these modified feature set"
   ]
  }
 ],
 "metadata": {
  "kernelspec": {
   "display_name": "Python 3.9.13 ('base')",
   "language": "python",
   "name": "python3"
  },
  "language_info": {
   "codemirror_mode": {
    "name": "ipython",
    "version": 3
   },
   "file_extension": ".py",
   "mimetype": "text/x-python",
   "name": "python",
   "nbconvert_exporter": "python",
   "pygments_lexer": "ipython3",
   "version": "3.9.13"
  },
  "orig_nbformat": 4,
  "vscode": {
   "interpreter": {
    "hash": "ad2bdc8ecc057115af97d19610ffacc2b4e99fae6737bb82f5d7fb13d2f2c186"
   }
  }
 },
 "nbformat": 4,
 "nbformat_minor": 2
}
